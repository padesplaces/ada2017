{
 "cells": [
  {
   "cell_type": "markdown",
   "metadata": {},
   "source": [
    "# Homework 2\n",
    "#### Pierre-Antoine Desplaces, Anaïs Ladoy, Lou Richard"
   ]
  },
  {
   "cell_type": "code",
   "execution_count": null,
   "metadata": {
    "collapsed": true
   },
   "outputs": [],
   "source": [
    "# Import libraries\n",
    "import pandas as pd\n",
    "import numpy as np\n",
    "import json\n",
    "import matplotlib.pyplot as plt\n",
    "import seaborn as sns\n",
    "import folium"
   ]
  },
  {
   "cell_type": "code",
   "execution_count": null,
   "metadata": {
    "collapsed": true
   },
   "outputs": [],
   "source": [
    "def bars(title, data, xlab, ylab):\n",
    "    sns.set_style('darkgrid')\n",
    "    fig, ax = plt.subplots(figsize = (15,8))\n",
    "    ax.set_title(title, fontsize=15, fontweight='bold')\n",
    "    sns.barplot(x=xlab, y=ylab, data=data, saturation=0.7, errcolor='.7')\n",
    "    plt.xticks(rotation=90)\n",
    "    plt.show()"
   ]
  },
  {
   "cell_type": "markdown",
   "metadata": {},
   "source": [
    "## <b> <font color='purple'>Question 1</font> </b>\n",
    "<b>Go to the eurostat website and try to find a dataset that includes the european unemployment rates at a recent date.\n",
    "\n",
    "Use this data to build a Choropleth map which shows the unemployment rate in Europe at a country level. Think about the colors you use, how you decided to split the intervals into data classes or which interactions you could add in order to make the visualization intuitive and expressive. Compare Switzerland's unemployment rate to that of the rest of Europe.</b>"
   ]
  },
  {
   "cell_type": "markdown",
   "metadata": {},
   "source": [
    "We find the unemployment information under Population and social conditions > Labour Market > Employment and unemployment. We chose to work with the Unemployment rates by sex, age and educational attainment level database found in the LFS - detailed annual survey results."
   ]
  },
  {
   "cell_type": "code",
   "execution_count": null,
   "metadata": {
    "collapsed": true
   },
   "outputs": [],
   "source": [
    "# Load the file\n",
    "raw_euro = pd.read_csv('lfsa_urgaed_1_Data.csv')"
   ]
  },
  {
   "cell_type": "markdown",
   "metadata": {},
   "source": [
    "Looking at the data, we see that we have a lot of unecessary informations. Since we just need the total unemployment rate, not considering the level of education nor the gender, we keep only the 'Total' rows from Sex column, and the 'All ISCED 2011 levels' from the ISCED11 column."
   ]
  },
  {
   "cell_type": "code",
   "execution_count": null,
   "metadata": {
    "collapsed": true
   },
   "outputs": [],
   "source": [
    "# Remove unecessary rows\n",
    "raw_euro = raw_euro[raw_euro.SEX == 'Total']\n",
    "raw_euro = raw_euro[raw_euro.ISCED11 == 'All ISCED 2011 levels ']"
   ]
  },
  {
   "cell_type": "markdown",
   "metadata": {},
   "source": [
    "We now create the Dataframe we will use keeping only the relevant columns GEO and Value. We then convert our values into a float type."
   ]
  },
  {
   "cell_type": "code",
   "execution_count": null,
   "metadata": {
    "collapsed": true
   },
   "outputs": [],
   "source": [
    "# Create dataframe with only the relevant columns\n",
    "df_euro = raw_euro[['GEO', 'Value']].copy()\n",
    "df_euro.columns = ('Country', 'Unemployment (%)')\n",
    "# Adjust the index\n",
    "df_euro.set_index((df_euro.index/15).astype(int), inplace=True)\n",
    "# Convert the values to float\n",
    "df_euro['Unemployment (%)'] = df_euro['Unemployment (%)'].astype(float)"
   ]
  },
  {
   "cell_type": "markdown",
   "metadata": {},
   "source": [
    "We now load the json we will use to display our map."
   ]
  },
  {
   "cell_type": "code",
   "execution_count": null,
   "metadata": {},
   "outputs": [],
   "source": [
    "# Load the json data of the map\n",
    "euro_geo_path = 'topojson/europe.topojson.json'\n",
    "euro_geo = json.load(open(euro_geo_path))\n",
    "# First element of the json\n",
    "euro_geo['objects']['europe']['geometries'][0]"
   ]
  },
  {
   "cell_type": "markdown",
   "metadata": {},
   "source": [
    "When we look at the json, we see that we will have to use the country IDs to match the values from our dataframe to the geometries of the json. We thus create a dictionary mapping the country names to their IDs. We also change the name of Germany and Macedonia in our dataframe in order to match them with the json data. We then add a new column in our dataframe containing the IDs for each country."
   ]
  },
  {
   "cell_type": "code",
   "execution_count": null,
   "metadata": {},
   "outputs": [],
   "source": [
    "# Clean the name of Germany and Macedonia\n",
    "df_euro.Country = df_euro.Country.replace({'Germany (until 1990 former territory of the FRG)': 'Germany'})\n",
    "df_euro.Country = df_euro.Country.replace({'Former Yugoslav Republic of Macedonia, the': 'The former Yugoslav Republic of Macedonia'})\n",
    "# Create a dictionary to convert country names to country IDs\n",
    "dict_country_id = dict(map(lambda x : (x['properties']['NAME'],x['id']),euro_geo['objects']['europe']['geometries']))\n",
    "# Adding a new column with country IDs\n",
    "df_euro['Country ID'] = df_euro.Country.map(lambda x : dict_country_id[x])\n",
    "# Resulting dataframe\n",
    "df_euro.head()"
   ]
  },
  {
   "cell_type": "markdown",
   "metadata": {},
   "source": [
    "To get a better idea of the repartition of the rates, we first display the values in a bar charts."
   ]
  },
  {
   "cell_type": "code",
   "execution_count": null,
   "metadata": {},
   "outputs": [],
   "source": [
    "bars(\"Unemployment in Europe\", df_euro, 'Country ID', 'Unemployment (%)')"
   ]
  },
  {
   "cell_type": "markdown",
   "metadata": {},
   "source": [
    "We now create our map. To define the threshold_scale, we use the mean and the standard deviation of our values. We divide them according to their distance to the mean in terms of the standard deviation."
   ]
  },
  {
   "cell_type": "code",
   "execution_count": null,
   "metadata": {},
   "outputs": [],
   "source": [
    "# Construct the threshold \n",
    "mean = df_euro['Unemployment (%)'].mean()\n",
    "std = df_euro['Unemployment (%)'].std()\n",
    "min_rate = df_euro['Unemployment (%)'].min()\n",
    "max_rate = df_euro['Unemployment (%)'].max()\n",
    "\n",
    "def dist_std(x) :\n",
    "    return mean + x*std\n",
    "\n",
    "threshold = [min_rate,dist_std(-1),dist_std(0),dist_std(1),dist_std(2),max_rate]\n",
    "\n",
    "# Display the visualization map\n",
    "m_euro = folium.Map([54,15], zoom_start=4)\n",
    "m_euro.choropleth(\n",
    "    geo_data = euro_geo,\n",
    "    data=df_euro,\n",
    "    columns=['Country ID', 'Unemployment (%)'],\n",
    "    key_on='feature.id',\n",
    "    topojson='objects.europe',\n",
    "    fill_color = 'OrRd', fill_opacity=0.5, line_opacity=0.2,\n",
    "    legend_name=\"Unemployment in Europe (in % of population)\",\n",
    "    threshold_scale = threshold\n",
    "    )\n",
    "m_euro"
   ]
  },
  {
   "cell_type": "markdown",
   "metadata": {},
   "source": [
    "The countries with no color are those for which we don't have unemployment informations from Eurostat.\n",
    "\n",
    "Looking at the map, we observe that three countries stand out : Spain, Macedonia and Greece. They have the highest unemployment rate. Countries with high unemployment rate are mostly mediterranean countries : France, Italy, Turkey. \n",
    "\n",
    "If we look at Switzerland, we see that it belongs to countries with a quite low unemployment rate."
   ]
  },
  {
   "cell_type": "markdown",
   "metadata": {},
   "source": [
    "## <font color='purple'>Question 2</font> \n",
    "<b>Go to the amstat website to find a dataset that includes the unemployment rates in Switzerland at a recent date.\n",
    "\n",
    "HINT Go to the details tab to find the raw data you need. If you do not speak French, German or Italian, think of using free translation services to navigate your way through.\n",
    "Use this data to build another Choropleth map, this time showing the unemployment rate at the level of swiss cantons. Again, try to make the map as expressive as possible, and comment on the trends you observe.\n",
    "\n",
    "The Swiss Confederation defines the rates you have just plotted as the number of people looking for a job divided by the size of the active population (scaled by 100). This is surely a valid choice, but as we discussed one could argue for a different categorization.\n",
    "\n",
    "Copy the map you have just created, but this time don't count in your statistics people who already have a job and are looking for a new one. How do your observations change ? You can repeat this with different choices of categories to see how selecting different metrics can lead to different interpretations of the same data.</b>"
   ]
  },
  {
   "cell_type": "markdown",
   "metadata": {},
   "source": [
    "The unemployement rates of swiss cantons are downloadable through the amstat website (https://www.amstat.ch/v2/index.jsp) according several options we can specify (specific period, geographic level, economic or social attributes, ...). We choose to download the latest data that were available, corresponding to the unemployement rates for September 2017 at a canton level."
   ]
  },
  {
   "cell_type": "code",
   "execution_count": null,
   "metadata": {},
   "outputs": [],
   "source": [
    "amstat_unemp_rate=pd.read_csv('amstat_taux_chomage.csv',sep=',',skiprows=1,skipfooter=1,thousands=\"'\",encoding='utf-16',engine='python')\n",
    "amstat_unemp_rate.drop(amstat_unemp_rate.columns[[1, 9, 10, 11, 12, 13, 14,15]],axis=1,inplace=True)\n",
    "amstat_unemp_rate.rename(columns={' ':'Canton'},inplace=True)"
   ]
  },
  {
   "cell_type": "code",
   "execution_count": null,
   "metadata": {},
   "outputs": [],
   "source": [
    "amstat_unemp_rate.dtypes"
   ]
  },
  {
   "cell_type": "code",
   "execution_count": null,
   "metadata": {
    "collapsed": true,
    "scrolled": true
   },
   "outputs": [],
   "source": [
    "swiss_cantons=json.load(open('./topojson/ch-cantons.topojson.json'))\n",
    "# Create a list with the corresponding code (id) for each canton\n",
    "cantons_id=[(i['properties']['name'],i['id']) for i in swiss_cantons['objects']['cantons']['geometries']]"
   ]
  },
  {
   "cell_type": "code",
   "execution_count": null,
   "metadata": {},
   "outputs": [],
   "source": [
    "cantons_id=pd.DataFrame(cantons_id,columns=['Canton','Code'])\n",
    "cantons_id"
   ]
  },
  {
   "cell_type": "markdown",
   "metadata": {},
   "source": [
    "We can notice that the swiss cantons names in our dataframe and in the TopoJSON file are really different as the names in the TopoJSON are expressed in the official language for each canton. \n",
    "Fortunately, we can see that the cantons are in the same order in both our dataframe and the TopoJSON, we can thus match the canton code according the index."
   ]
  },
  {
   "cell_type": "code",
   "execution_count": null,
   "metadata": {
    "collapsed": true,
    "scrolled": true
   },
   "outputs": [],
   "source": [
    "# Adding a new column with country IDs\n",
    "amstat_unemp_rate = amstat_unemp_rate.merge(cantons_id[['Code']],left_index=True,right_index=True)"
   ]
  },
  {
   "cell_type": "markdown",
   "metadata": {},
   "source": [
    "The Swiss Confederation defines the unemployment rate as follow :\n",
    "\n",
    "- Unemployment Rate = 100 x Job seekers / Active Population  (Taux de chômage=100xDemandeurs d'emploi/Population active)\n",
    "\n",
    "Nevertheless, the job seekers include both unemployed people and people who are not immediately available for a new job (because they have already one or they actually follow training/upgrading programs).\n",
    "\n",
    "Then, it could be interesting to compare the previous map with the proportion in each canton of unemployed people searching for a job.\n",
    "\n",
    "- Unemployed Job Seekers Rate = Registered Unemployed * Unemployment Rate / Job Seekers"
   ]
  },
  {
   "cell_type": "code",
   "execution_count": null,
   "metadata": {
    "collapsed": true
   },
   "outputs": [],
   "source": [
    "amstat_unemp_rate[\"Taux de demandeurs d'emplois chômeurs\"]=amstat_unemp_rate['Chômeurs inscrits']*amstat_unemp_rate['Taux de chômage']/amstat_unemp_rate[\"Demandeurs d'emploi\"]"
   ]
  },
  {
   "cell_type": "code",
   "execution_count": null,
   "metadata": {
    "scrolled": true
   },
   "outputs": [],
   "source": [
    "amstat_unemp_rate"
   ]
  },
  {
   "cell_type": "markdown",
   "metadata": {},
   "source": [
    "The first cloropleth map we visualize is the unemployment rate in the Swiss cantons for the month of September 2017 according the definition of the Swiss Confederation."
   ]
  },
  {
   "cell_type": "code",
   "execution_count": null,
   "metadata": {},
   "outputs": [],
   "source": [
    "amstat_unemp1_map=folium.Map(location=[46.900000, 8.226667],tiles='cartodbpositron',zoom_start=8)\n",
    "amstat_unemp1_map.choropleth(\n",
    "geo_data=swiss_cantons,\n",
    "data=amstat_unemp_rate,\n",
    "columns=['Code', 'Taux de chômage'],\n",
    "key_on='feature.id',\n",
    "topojson='objects.cantons',\n",
    "fill_color='YlOrRd', fill_opacity=0.7, line_opacity=0.4,line_color='white',\n",
    "legend_name=\"Unemployment rate (Nb of job seekers/Nb of active persons in %)\"\n",
    ")\n",
    "# Save the map in an HTML file\n",
    "amstat_unemp1_map.save('Swiss_unemployment_rate_1.html')\n",
    "amstat_unemp1_map"
   ]
  },
  {
   "cell_type": "markdown",
   "metadata": {},
   "source": [
    "COMMENT"
   ]
  },
  {
   "cell_type": "code",
   "execution_count": null,
   "metadata": {},
   "outputs": [],
   "source": [
    "amstat_unemp2_map=folium.Map(location=[46.900000, 8.226667],tiles='cartodbpositron',zoom_start=8)\n",
    "amstat_unemp2_map.choropleth(\n",
    "geo_data=swiss_cantons,\n",
    "data=amstat_unemp_rate,\n",
    "columns=['Code', \"Taux de demandeurs d'emplois chômeurs\"],\n",
    "key_on='feature.id',\n",
    "topojson='objects.cantons',\n",
    "fill_color='YlOrRd', fill_opacity=0.7, line_opacity=0.4,line_color='white',\n",
    "legend_name=\"Unemployment rate without people having already a job\"\n",
    ")\n",
    "# Save the map in an HTML file\n",
    "amstat_unemp2_map.save('Swiss_unemployment_rate_2.html')\n",
    "amstat_unemp2_map"
   ]
  },
  {
   "cell_type": "code",
   "execution_count": null,
   "metadata": {
    "collapsed": true
   },
   "outputs": [],
   "source": [
    "COMMENT"
   ]
  },
  {
   "cell_type": "markdown",
   "metadata": {},
   "source": [
    "## <font color='purple'>Question 3</font> \n",
    "<b>Use the amstat website again to find a dataset that includes the unemployment rates in Switzerland at recent date, this time making a distinction between Swiss and foreign workers.\n",
    "\n",
    "The Economic Secretary (SECO) releases a monthly report on the state of the employment market. In the latest report (September 2017), it is noted that there is a discrepancy between the unemployment rates for foreign (5.1%) and Swiss (2.2%) workers.\n",
    "\n",
    "Show the difference in unemployment rates between the two categories in each canton on a Choropleth map (hint The easy way is to show two separate maps, but can you think of something better ?). Where are the differences most visible ? Why do you think that is ?</b>"
   ]
  },
  {
   "cell_type": "markdown",
   "metadata": {},
   "source": [
    "First, we gather the rates for both categories in all cantons."
   ]
  },
  {
   "cell_type": "code",
   "execution_count": null,
   "metadata": {
    "scrolled": true
   },
   "outputs": [],
   "source": [
    "foreigners_vs_swiss = pd.read_csv('amstat_foreigners_vs_swiss.csv',sep=',',skipfooter=1,thousands=\"'\",encoding='utf-16',engine='python')\n",
    "foreigners_vs_swiss"
   ]
  },
  {
   "cell_type": "markdown",
   "metadata": {},
   "source": [
    "Then we handle it in the same fashion as question 2, by linking the canton codes in order."
   ]
  },
  {
   "cell_type": "code",
   "execution_count": null,
   "metadata": {
    "collapsed": true
   },
   "outputs": [],
   "source": [
    "foreigners_rate = foreigners_vs_swiss[foreigners_vs_swiss[\"Nationalité\"] == \"Etrangers\"].reset_index().drop([\"index\"],axis=1)\n",
    "foreigners_rate = foreigners_rate.merge(cantons_id[['Code']],left_index=True,right_index=True)\n",
    "swiss_rate = foreigners_vs_swiss[foreigners_vs_swiss[\"Nationalité\"] == \"Suisses\"].reset_index().drop([\"index\"],axis=1)\n",
    "swiss_rate = swiss_rate.merge(cantons_id[['Code']],left_index=True,right_index=True)"
   ]
  },
  {
   "cell_type": "markdown",
   "metadata": {},
   "source": [
    "Now, we can simply map the rates for both categories :"
   ]
  },
  {
   "cell_type": "code",
   "execution_count": null,
   "metadata": {},
   "outputs": [],
   "source": [
    "foreigners_map=folium.Map(location=[46.900000, 8.226667],tiles='cartodbpositron',zoom_start=8)\n",
    "foreigners_map.choropleth(\n",
    "geo_data=swiss_cantons,\n",
    "data=foreigners_rate,\n",
    "columns=['Code', 'Taux de chômage'],\n",
    "key_on='feature.id',\n",
    "topojson='objects.cantons',\n",
    "fill_color='YlOrRd',\n",
    "legend_name=\"Unemployment rate (%) of people of foreign nationality in september 2017\"\n",
    ")\n",
    "foreigners_map.save(\"foreigners_map.html\")\n",
    "foreigners_map"
   ]
  },
  {
   "cell_type": "code",
   "execution_count": null,
   "metadata": {
    "scrolled": false
   },
   "outputs": [],
   "source": [
    "swiss_map=folium.Map(location=[46.900000, 8.226667],tiles='cartodbpositron',zoom_start=8)\n",
    "swiss_map.choropleth(\n",
    "geo_data=swiss_cantons,\n",
    "data=swiss_rate,\n",
    "columns=['Code', 'Taux de chômage'],\n",
    "key_on='feature.id',\n",
    "topojson='objects.cantons',\n",
    "fill_color='YlOrRd',\n",
    "legend_name=\"Unemployment rate (%) of people of swiss nationality in september 2017\"\n",
    ")\n",
    "swiss_map"
   ]
  },
  {
   "cell_type": "markdown",
   "metadata": {},
   "source": [
    "The first thing we notice is that the maximum rate for swiss people is about half of the maximum rate for foreigners and the minimum rate for foreigners is near the median of the swiss rates, which is effectively a big discrepancy. It adds up with the general 2-for-1 gap that has been observed on a national level. We can note that all cantons have higher unemployment rates for foreigners that locals.\n",
    "\n",
    "Besides that, on their respective scales, the rates vary similarly for most cantons, the only big difference being for Bern, which is in the top 50% for foreigners (high unemployment rate, between 6 and 7%) but quite low for swiss people (only between 1.1 and 1.9%). It is only a reinforcement of the trend that we observed and not a counter-example."
   ]
  },
  {
   "cell_type": "markdown",
   "metadata": {},
   "source": [
    "<b>Now let's refine the analysis by adding the differences between age groups. As you may have guessed it is nearly impossible to plot so many variables on a map. Make a bar plot, which is a better suited visualization tool for this type of multivariate data.</b>\n",
    "\n",
    "\n",
    "Since there is not way to get the rate for those double criteria categories (nationality and age) from the amstat website, we decided to get the numbers alone and calculate the proportion of each age category for each nationality. \n",
    "\n",
    "The most suited visualization tool for multivariate data like this is a stacked bar chart. Using these proportions, we can draw one simply based on the rate for the nationality and divide each bar into the different age groups.\n",
    "\n",
    "First we read the data gathered from amstat and arrange it in a nice way to get the numbers needed to compute the proportions :"
   ]
  },
  {
   "cell_type": "code",
   "execution_count": null,
   "metadata": {
    "scrolled": true
   },
   "outputs": [],
   "source": [
    "df_age_nationality = pd.read_csv('amstat_age_and_nationality.csv',sep=',',skipfooter=1,thousands=\"'\",encoding='utf-16',engine='python')\n",
    "df_age_nationality = df_age_nationality.drop([df_age_nationality.columns[2],df_age_nationality.columns[4]],axis=1)\n",
    "df_age_nationality = df_age_nationality[df_age_nationality[\"Nationalité\"]!=\"Total\"]\n",
    "df_age_nationality = df_age_nationality.rename(columns={df_age_nationality.columns[2] : \"Age\"})\n",
    "df_age_nationality = df_age_nationality.fillna(\"Total\")\n",
    "df_age_nationality"
   ]
  },
  {
   "cell_type": "markdown",
   "metadata": {},
   "source": [
    "Then, we select the different categories and we compute their proportions :"
   ]
  },
  {
   "cell_type": "code",
   "execution_count": null,
   "metadata": {},
   "outputs": [],
   "source": [
    "total_swiss = df_age_nationality[(df_age_nationality[\"Nationalité\"]==\"Suisses\") & (df_age_nationality[\"Age\"]==\"Total\")][[\"Chômeurs inscrits\"]].astype(float)\n",
    "total_foreigners = df_age_nationality[(df_age_nationality[\"Nationalité\"]==\"Etrangers\") & (df_age_nationality[\"Age\"]==\"Total\")][[\"Chômeurs inscrits\"]].astype(float)\n",
    "\n",
    "young_swiss = df_age_nationality[(df_age_nationality[\"Nationalité\"]==\"Suisses\") & (df_age_nationality[\"Age\"]==\"15-24 ans\")][[\"Chômeurs inscrits\"]]\n",
    "young_foreigners = df_age_nationality[(df_age_nationality[\"Nationalité\"]==\"Etrangers\") & (df_age_nationality[\"Age\"]==\"15-24 ans\")][[\"Chômeurs inscrits\"]]\n",
    "\n",
    "middle_swiss = df_age_nationality[(df_age_nationality[\"Nationalité\"]==\"Suisses\") & (df_age_nationality[\"Age\"]==\"25-49 ans\")][[\"Chômeurs inscrits\"]]\n",
    "middle_foreigners = df_age_nationality[(df_age_nationality[\"Nationalité\"]==\"Etrangers\") & (df_age_nationality[\"Age\"]==\"25-49 ans\")][[\"Chômeurs inscrits\"]]\n",
    "\n",
    "old_swiss = df_age_nationality[(df_age_nationality[\"Nationalité\"]==\"Suisses\") & (df_age_nationality[\"Age\"]==\"50 ans et plus\")][[\"Chômeurs inscrits\"]]\n",
    "old_foreigners = df_age_nationality[(df_age_nationality[\"Nationalité\"]==\"Etrangers\") & (df_age_nationality[\"Age\"]==\"50 ans et plus\")][[\"Chômeurs inscrits\"]]"
   ]
  },
  {
   "cell_type": "code",
   "execution_count": null,
   "metadata": {
    "scrolled": true
   },
   "outputs": [],
   "source": [
    "#this is from the previous dataframe that contains the rates for each nationality\n",
    "general_swiss_rate = swiss_rate[\"Taux de chômage\"].values\n",
    "\n",
    "young_swiss_rate = np.squeeze(young_swiss.values/total_swiss.values)*general_swiss_rate\n",
    "middle_swiss_rate = np.squeeze(middle_swiss.values/total_swiss.values)*general_swiss_rate\n",
    "old_swiss_rate = np.squeeze(old_swiss.values/total_swiss.values)*general_swiss_rate"
   ]
  },
  {
   "cell_type": "code",
   "execution_count": null,
   "metadata": {
    "scrolled": true
   },
   "outputs": [],
   "source": [
    "#same thing here\n",
    "general_foreigners_rate = foreigners_rate[\"Taux de chômage\"].values\n",
    "\n",
    "young_foreigners_rate = np.squeeze(young_foreigners.values/total_foreigners.values) * general_foreigners_rate\n",
    "middle_foreigners_rate = np.squeeze(middle_foreigners.values/total_foreigners.values) * general_foreigners_rate\n",
    "old_foreigners_rate = np.squeeze(old_foreigners.values/total_foreigners.values) * general_foreigners_rate"
   ]
  },
  {
   "cell_type": "markdown",
   "metadata": {},
   "source": [
    "Finally, we put all of this in a nice stacked bar chart :"
   ]
  },
  {
   "cell_type": "code",
   "execution_count": null,
   "metadata": {},
   "outputs": [],
   "source": [
    "cantons = swiss_rate[\"Canton\"].values\n",
    "nb_cantons = np.arange(len(cantons))\n",
    "\n",
    "plt.figure(figsize=(30,10))\n",
    "\n",
    "b1 = plt.bar(nb_cantons-0.2, young_swiss_rate+middle_swiss_rate+old_swiss_rate, width=0.4, color=\"#092195\", align='center')\n",
    "b2 = plt.bar(nb_cantons-0.2, young_swiss_rate+middle_swiss_rate, width=0.4, color=\"#536EF3\", align='center')\n",
    "b3 = plt.bar(nb_cantons-0.2, young_swiss_rate, width=0.4, color=\"#BCC7FB\", align='center')\n",
    "\n",
    "b4 = plt.bar(nb_cantons+0.2, young_foreigners_rate+middle_foreigners_rate+old_foreigners_rate, width=0.4, color=\"#FB9902\", align='center')\n",
    "b5 = plt.bar(nb_cantons+0.2, young_foreigners_rate+middle_foreigners_rate, width=0.4, color=\"#FCB54A\", align='center')\n",
    "b6 = plt.bar(nb_cantons+0.2, young_foreigners_rate, width=0.4, color=\"#FFE0B3\", align='center')\n",
    "\n",
    "plt.xticks(nb_cantons,cantons,rotation=90,fontsize=18)\n",
    "plt.yticks(fontsize=18)\n",
    "\n",
    "lgd = plt.legend([b1,b2,b3,b4,b5,b6],[\"Swiss (50+ yo)\",\"Swiss (25-49 yo)\",\"Swiss (15-24 yo)\",\"Foreigners (50+ yo)\",\"Foreigners (25-49 yo)\",\"Foreigners (15-24 yo)\"],fontsize=18)\n",
    "\n",
    "ttl = plt.title(\"Unemployment rates (in %) for each canton depending on nationality and age\",fontsize=22,fontweight='bold')\n",
    "ttl.set_position([.5, 1.05])\n",
    "\n",
    "plt.savefig(\"nationality_and_age_rates\", bbox_extra_artists=(lgd,), bbox_inches='tight')\n",
    "plt.show()"
   ]
  },
  {
   "cell_type": "markdown",
   "metadata": {},
   "source": [
    "In this graph, the blue bars represent the unemployment rate for locals and the orange bar, for foreigners. We can clearly see here the trend that we observed before on the maps, but we can add that Geneva is the canton where the two rates are the closest (less than 1% gap).\n",
    "\n",
    "The new information here is that for both locals and foreigners, in all cantons, the 25-49 age range constitutes the biggest part of unemployed people. This makes sense since it is most certainly the biggest part of the active population. Also all the cantons seem to have a very low unemployment rate for young people."
   ]
  },
  {
   "cell_type": "markdown",
   "metadata": {},
   "source": [
    "## <font color='purple'>Question 4</font> \n",
    "<b>BONUS: using the map you have just built, and the geographical information contained in it, could you give a rough estimate of the difference in unemployment rates between the areas divided by the Röstigraben?</b>"
   ]
  },
  {
   "cell_type": "code",
   "execution_count": null,
   "metadata": {
    "collapsed": true
   },
   "outputs": [],
   "source": []
  }
 ],
 "metadata": {
  "kernelspec": {
   "display_name": "Python 3",
   "language": "python",
   "name": "python3"
  },
  "language_info": {
   "codemirror_mode": {
    "name": "ipython",
    "version": 3
   },
   "file_extension": ".py",
   "mimetype": "text/x-python",
   "name": "python",
   "nbconvert_exporter": "python",
   "pygments_lexer": "ipython3",
   "version": "3.6.3"
  }
 },
 "nbformat": 4,
 "nbformat_minor": 2
}
