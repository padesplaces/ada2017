{
 "cells": [
  {
   "cell_type": "markdown",
   "metadata": {},
   "source": [
    "# Homework 2\n",
    "#### Pierre-Antoine Desplaces, Anaïs Ladoy, Lou Richard"
   ]
  },
  {
   "cell_type": "code",
   "execution_count": null,
   "metadata": {
    "collapsed": true
   },
   "outputs": [],
   "source": [
    "# Import libraries\n",
    "import pandas as pd\n",
    "import numpy as np\n",
    "import json\n",
    "import matplotlib.pyplot as plt\n",
    "import seaborn as sns\n",
    "import folium"
   ]
  },
  {
   "cell_type": "code",
   "execution_count": null,
   "metadata": {
    "collapsed": true
   },
   "outputs": [],
   "source": [
    "def bars(title, data, xlab, ylab):\n",
    "    sns.set_style('darkgrid')\n",
    "    fig, ax = plt.subplots(figsize = (15,8))\n",
    "    ax.set_title(title, fontsize=15, fontweight='bold')\n",
    "    sns.barplot(x=xlab, y=ylab, data=data, saturation=0.7, errcolor='.7')\n",
    "    plt.xticks(rotation=90)\n",
    "    plt.show()"
   ]
  },
  {
   "cell_type": "markdown",
   "metadata": {},
   "source": [
    "## <b> <font color='purple'>Question 1</font> </b>\n",
    "<b>Go to the eurostat website and try to find a dataset that includes the european unemployment rates at a recent date.\n",
    "\n",
    "Use this data to build a Choropleth map which shows the unemployment rate in Europe at a country level. Think about the colors you use, how you decided to split the intervals into data classes or which interactions you could add in order to make the visualization intuitive and expressive. Compare Switzerland's unemployment rate to that of the rest of Europe.</b>"
   ]
  },
  {
   "cell_type": "markdown",
   "metadata": {},
   "source": [
    "We find the unemployment information under Population and social conditions > Labour Market > Employment and unemployment. We chose to work with the Unemployment rates by sex, age and educational attainment level database found in the LFS - detailed annual survey results."
   ]
  },
  {
   "cell_type": "code",
   "execution_count": null,
   "metadata": {
    "collapsed": true
   },
   "outputs": [],
   "source": [
    "# Load the file\n",
    "raw_euro = pd.read_csv('lfsa_urgaed_1_Data.csv')"
   ]
  },
  {
   "cell_type": "markdown",
   "metadata": {},
   "source": [
    "Looking at the data, we see that we have a lot of unecessary informations. Since we just need the total unemployment rate, not considering the level of education nor the gender, we keep only the 'Total' rows from Sex column, and the 'All ISCED 2011 levels' from the ISCED11 column."
   ]
  },
  {
   "cell_type": "code",
   "execution_count": null,
   "metadata": {
    "collapsed": true
   },
   "outputs": [],
   "source": [
    "# Remove unecessary rows\n",
    "raw_euro = raw_euro[raw_euro.SEX == 'Total']\n",
    "raw_euro = raw_euro[raw_euro.ISCED11 == 'All ISCED 2011 levels ']"
   ]
  },
  {
   "cell_type": "markdown",
   "metadata": {},
   "source": [
    "We now create the Dataframe we will use keeping only the relevant columns GEO and Value. We then convert our values into a float type."
   ]
  },
  {
   "cell_type": "code",
   "execution_count": null,
   "metadata": {
    "collapsed": true
   },
   "outputs": [],
   "source": [
    "# Create dataframe with only the relevant columns\n",
    "df_euro = raw_euro[['GEO', 'Value']].copy()\n",
    "df_euro.columns = ('Country', 'Unemployment (%)')\n",
    "# Adjust the index\n",
    "df_euro.set_index((df_euro.index/15).astype(int), inplace=True)\n",
    "# Convert the values to float\n",
    "df_euro['Unemployment (%)'] = df_euro['Unemployment (%)'].astype(float)"
   ]
  },
  {
   "cell_type": "markdown",
   "metadata": {},
   "source": [
    "We now load the json we will use to display our map."
   ]
  },
  {
   "cell_type": "code",
   "execution_count": null,
   "metadata": {},
   "outputs": [],
   "source": [
    "# Load the json data of the map\n",
    "euro_geo_path = 'topojson/europe.topojson.json'\n",
    "euro_geo = json.load(open(euro_geo_path))\n",
    "# First element of the json\n",
    "euro_geo['objects']['europe']['geometries'][0]"
   ]
  },
  {
   "cell_type": "markdown",
   "metadata": {},
   "source": [
    "When we look at the json, we see that we will have to use the country IDs to match the values from our dataframe to the geometries of the json. We thus create a dictionary mapping the country names to their IDs. We also change the name of Germany and Macedonia in our dataframe in order to match them with the json data. We then add a new column in our dataframe containing the IDs for each country."
   ]
  },
  {
   "cell_type": "code",
   "execution_count": null,
   "metadata": {},
   "outputs": [],
   "source": [
    "# Clean the name of Germany and Macedonia\n",
    "df_euro.Country = df_euro.Country.replace({'Germany (until 1990 former territory of the FRG)': 'Germany'})\n",
    "df_euro.Country = df_euro.Country.replace({'Former Yugoslav Republic of Macedonia, the': 'The former Yugoslav Republic of Macedonia'})\n",
    "# Create a dictionary to convert country names to country IDs\n",
    "dict_country_id = dict(map(lambda x : (x['properties']['NAME'],x['id']),euro_geo['objects']['europe']['geometries']))\n",
    "# Adding a new column with country IDs\n",
    "df_euro['Country ID'] = df_euro.Country.map(lambda x : dict_country_id[x])\n",
    "# Resulting dataframe\n",
    "df_euro.head()"
   ]
  },
  {
   "cell_type": "markdown",
   "metadata": {},
   "source": [
    "To get a better idea of the repartition of the rates, we first display the values in a bar charts."
   ]
  },
  {
   "cell_type": "code",
   "execution_count": null,
   "metadata": {},
   "outputs": [],
   "source": [
    "bars(\"Unemployment in Europe\", df_euro, 'Country ID', 'Unemployment (%)')"
   ]
  },
  {
   "cell_type": "markdown",
   "metadata": {},
   "source": [
    "We now create our map. To define the threshold_scale, we use the mean and the standard deviation of our values. We divide them according to their distance to the mean in terms of the standard deviation."
   ]
  },
  {
   "cell_type": "code",
   "execution_count": null,
   "metadata": {},
   "outputs": [],
   "source": [
    "# Construct the threshold \n",
    "mean = df_euro['Unemployment (%)'].mean()\n",
    "std = df_euro['Unemployment (%)'].std()\n",
    "min_rate = df_euro['Unemployment (%)'].min()\n",
    "max_rate = df_euro['Unemployment (%)'].max()\n",
    "\n",
    "def dist_std(x) :\n",
    "    return mean + x*std\n",
    "\n",
    "threshold = [min_rate,dist_std(-1),dist_std(0),dist_std(1),dist_std(2),max_rate]\n",
    "\n",
    "# Display the visualization map\n",
    "m_euro = folium.Map([54,15], zoom_start=4)\n",
    "m_euro.choropleth(\n",
    "    geo_data = euro_geo,\n",
    "    data=df_euro,\n",
    "    columns=['Country ID', 'Unemployment (%)'],\n",
    "    key_on='feature.id',\n",
    "    topojson='objects.europe',\n",
    "    fill_color = 'OrRd', fill_opacity=0.5, line_opacity=0.2,\n",
    "    legend_name=\"Unemployment in Europe (in % of population)\",\n",
    "    threshold_scale = threshold\n",
    "    )\n",
    "m_euro"
   ]
  },
  {
   "cell_type": "markdown",
   "metadata": {},
   "source": [
    "The countries with no color are those for which we don't have unemployment informations from Eurostat.\n",
    "\n",
    "Looking at the map, we observe that three countries stand out : Spain, Macedonia and Greece. They have the highest unemployment rate. Countries with high unemployment rate are mostly mediterranean countries : France, Italy, Turkey. \n",
    "\n",
    "If we look at Switzerland, we see that it belongs to countries with a quite low unemployment rate."
   ]
  },
  {
   "cell_type": "markdown",
   "metadata": {},
   "source": [
    "## <font color='purple'>Question 2</font> \n",
    "<b>Go to the amstat website to find a dataset that includes the unemployment rates in Switzerland at a recent date.\n",
    "\n",
    "HINT Go to the details tab to find the raw data you need. If you do not speak French, German or Italian, think of using free translation services to navigate your way through.\n",
    "Use this data to build another Choropleth map, this time showing the unemployment rate at the level of swiss cantons. Again, try to make the map as expressive as possible, and comment on the trends you observe.\n",
    "\n",
    "The Swiss Confederation defines the rates you have just plotted as the number of people looking for a job divided by the size of the active population (scaled by 100). This is surely a valid choice, but as we discussed one could argue for a different categorization.\n",
    "\n",
    "Copy the map you have just created, but this time don't count in your statistics people who already have a job and are looking for a new one. How do your observations change ? You can repeat this with different choices of categories to see how selecting different metrics can lead to different interpretations of the same data.</b>"
   ]
  },
  {
   "cell_type": "markdown",
   "metadata": {},
   "source": [
    "The unemployement rates of swiss cantons are downloadable through the amstat website (https://www.amstat.ch/v2/index.jsp) according several options we can specify (specific period, geographic level, economic or social attributes, ...).  \n",
    "We choose to download the latest data that were available, corresponding to the **unemployement rates for September 2017 at a canton level**.\n",
    "\n",
    "\n",
    "We choose to download five variables that characterize the unemployment in Switzerland : \n",
    "- *Unemployment rate (Taux de chômage)* : Registered unemployed / Active population [%]\n",
    "- *Youth unemployment rate (Taux de chômage des jeunes)* : Registered unemployed aging from 15 to 24 years old / Active population (15-24 y/o) [%]\n",
    "- *Registered unemployed (Chômeurs inscrits)* : Registered unemployed people that are looking for a job\n",
    "- *Registered job seekers that are not unemployed* : Registered job seekers that already have a job and are looking for a new one\n",
    "- *Job seekers (Demandeurs d'emplois)* : Registered unemployed + Registered job seekers that are not unemployed\n",
    "\n",
    "The goal in this exercise is to show how the choice of metrics to define unemployment can lead to very different interpretations.  \n",
    "We will first plot a chloropleth map representing the unemployment rate as it is defined by the Swiss confederation at a canton level. Then, we will plot a second chloropleth map representing this time all the job seekers (both the unemployed and the ones who have already a job and are searching for a new one).  \n",
    "Finally, we will zoom on the particular case of youth unemployment as it can be used as an indicator of the economic situation of a country and it is often considered as a priority for the state."
   ]
  },
  {
   "cell_type": "code",
   "execution_count": null,
   "metadata": {},
   "outputs": [],
   "source": [
    "# Load the amstat datas\n",
    "amstat_unemp_rate=pd.read_csv('amstat_taux_chomage.csv',sep=',',skipfooter=1,thousands=\"'\",encoding='utf-16',engine='python')\n",
    "# Remove the first column\n",
    "amstat_unemp_rate.drop(amstat_unemp_rate.columns[0],axis=1,inplace=True)"
   ]
  },
  {
   "cell_type": "code",
   "execution_count": null,
   "metadata": {},
   "outputs": [],
   "source": [
    "amstat_unemp_rate.dtypes"
   ]
  },
  {
   "cell_type": "markdown",
   "metadata": {},
   "source": [
    "In order to plot the second chloropleth map (unemployment rate including the job seekers who have already a job but looking for a new one), we need to compute this new rate and add it to our dataframe.  \n",
    "The rate is defined as follow :\n",
    "\n",
    "*Unemployment rate (all job seekers)* : Job seekers / Active population\n",
    "\n",
    "The active population per canton is not provided in the amstat website so we used the unemployment rate (Registered unemployed / Active population) to compute this metric."
   ]
  },
  {
   "cell_type": "code",
   "execution_count": null,
   "metadata": {},
   "outputs": [],
   "source": [
    "amstat_unemp_rate[\"Taux de demandeurs d'emplois\"]=amstat_unemp_rate[\"Demandeurs d'emploi\"]*amstat_unemp_rate['Taux de chômage']/amstat_unemp_rate['Chômeurs inscrits']\n",
    "amstat_unemp_rate.sort_values(\"Taux de demandeurs d'emplois\")"
   ]
  },
  {
   "cell_type": "markdown",
   "metadata": {},
   "source": [
    "The territorial limits of the swiss cantons are already provided in a TopoJSON file and it will be used as an overlay to create our chloropleth map.   \n",
    "\n",
    "\n",
    "We need to associate the parameters we want to visualize (rates at canton level) with the geographic entities present in the TopoJSON file (canton id). If we inspect our TopoJSON file, we can see that the object id are the canton codes (ZH, BE, ...) and this information is not present in our dataframe. Thus, the first step is to extract this information from the JSON file and add it as a new column to our data."
   ]
  },
  {
   "cell_type": "code",
   "execution_count": null,
   "metadata": {
    "collapsed": true,
    "scrolled": true
   },
   "outputs": [],
   "source": [
    "# Load the TopoJSON file\n",
    "swiss_cantons=json.load(open('./topojson/ch-cantons.topojson.json'))\n",
    "# Create a list with the corresponding code (id) for each canton\n",
    "cantons_id=[(i['properties']['name'],i['id']) for i in swiss_cantons['objects']['cantons']['geometries']]"
   ]
  },
  {
   "cell_type": "code",
   "execution_count": null,
   "metadata": {},
   "outputs": [],
   "source": [
    "cantons_id=pd.DataFrame(cantons_id,columns=['Canton','Code'])\n",
    "cantons_id.head()"
   ]
  },
  {
   "cell_type": "markdown",
   "metadata": {},
   "source": [
    "We notice that the swiss cantons names in our dataframe and in the TopoJSON file are really different as the names in the TopoJSON are expressed in the official language for each canton. \n",
    "Fortunately, we can see that the cantons are in the same order in both our dataframe and the TopoJSON, we can thus match the canton code according the index."
   ]
  },
  {
   "cell_type": "code",
   "execution_count": null,
   "metadata": {
    "collapsed": true,
    "scrolled": true
   },
   "outputs": [],
   "source": [
    "# Adding a new column with country IDs\n",
    "amstat_unemp_rate = amstat_unemp_rate.merge(cantons_id[['Code']],left_index=True,right_index=True)"
   ]
  },
  {
   "cell_type": "markdown",
   "metadata": {},
   "source": [
    "The first cloropleth map is a visualization of the unemployment rate in the Swiss cantons for the month of September 2017 according to the definition of the Swiss Confederation.  \n",
    "\n",
    "Another parameter that will influence a lot the interpretation of our map is the way we classify the data. The mode of classification (equal interval, quantile, natural breaks,...) will define the color intervals that we'll use in our data visualization and it's important to look the values distribution of the parameters we will plot in order to choose the best method."
   ]
  },
  {
   "cell_type": "code",
   "execution_count": null,
   "metadata": {
    "scrolled": true
   },
   "outputs": [],
   "source": [
    "sns.boxplot(data=amstat_unemp_rate[['Taux de chômage','Taux de chômage des jeunes',\"Taux de demandeurs d'emplois\"]],orient='h',palette=\"Set2\",whis=1.5)\n",
    "plt.show()"
   ]
  },
  {
   "cell_type": "markdown",
   "metadata": {},
   "source": [
    "The distribution for the three parameters are more or less symmetric and we can notice an outlier for the Unemployment rate (Taux de chômage).\n",
    "\n",
    "The goal of this exercise is to see how the choose of metrics to quantify the unemployment rate can lead to different interpretations. Thus, it is better to use the same classification method for the three parameters we will plot in order to avoid an additional \"bias\" in the vizualisation interpretation.  \n",
    "\n",
    "That's why we won't choose the natural breaks classification which find an \"optimal\" classification for a particular dataset. \n",
    "An equal interval classification seems to be an interesting choice as the distribution are not very skewed (there won't be a overrepresentation of a class). The quantile interval leads to the approximately the same number of groups in every class and it doesn't seem as a good choice since we have outliers which could be unnoticed."
   ]
  },
  {
   "cell_type": "markdown",
   "metadata": {},
   "source": [
    "#### Chloropleth map for the Unemployment rate as it defined by the Swiss Confederation"
   ]
  },
  {
   "cell_type": "code",
   "execution_count": null,
   "metadata": {
    "scrolled": false
   },
   "outputs": [],
   "source": [
    "# Create a folium map centered on the geographical center of Switzerland\n",
    "amstat_unemp1_map=folium.Map(location=[46.900000, 8.226667],tiles='cartodbpositron',zoom_start=8)\n",
    "\n",
    "# Add an overlay to the map (TopoJSON associated with the variable of interest)\n",
    "amstat_unemp1_map.choropleth(\n",
    "geo_data=swiss_cantons,\n",
    "data=amstat_unemp_rate,\n",
    "columns=['Code', 'Taux de chômage'],\n",
    "key_on='feature.id',\n",
    "topojson='objects.cantons',\n",
    "fill_color='YlOrRd', fill_opacity=0.7, line_opacity=0.8, line_color='white',\n",
    "legend_name=\"Unemployment rate [%] in September 2017\",\n",
    ")\n",
    "\n",
    "# Save the map in an HTML file\n",
    "amstat_unemp1_map.save('Swiss_unemployment_rate_1.html')\n",
    "amstat_unemp1_map"
   ]
  },
  {
   "cell_type": "markdown",
   "metadata": {},
   "source": [
    "Even if Geneva is the only outlier with an unemployment rate of 5.2%, the canton of Neuchâtel has also an extreme value (5.1%) so the choice of 6 bins for the data classification makes sense as it permites to highlight the cantons with the extreme unemployment rates without overrepresenting a specific class."
   ]
  },
  {
   "cell_type": "markdown",
   "metadata": {},
   "source": [
    "#### Chloropleth map for the Unemployment rate considering all the job seekers"
   ]
  },
  {
   "cell_type": "code",
   "execution_count": null,
   "metadata": {},
   "outputs": [],
   "source": [
    "amstat_unemp2_map=folium.Map(location=[46.900000, 8.226667],tiles='cartodbpositron',zoom_start=8)\n",
    "amstat_unemp2_map.choropleth(\n",
    "geo_data=swiss_cantons,\n",
    "data=amstat_unemp_rate,\n",
    "columns=['Code', \"Taux de demandeurs d'emplois\"],\n",
    "key_on='feature.id',\n",
    "topojson='objects.cantons',\n",
    "fill_color='YlOrRd', fill_opacity=0.7, line_opacity=0.8,line_color='white',\n",
    "legend_name=\"Unemployment rate without people having already a job [%] in September 2017\"\n",
    ")\n",
    "# Save the map in an HTML file\n",
    "amstat_unemp2_map.save('Swiss_unemployment_rate_2.html')\n",
    "amstat_unemp2_map"
   ]
  },
  {
   "cell_type": "markdown",
   "metadata": {
    "collapsed": true
   },
   "source": [
    "COMMENT"
   ]
  },
  {
   "cell_type": "markdown",
   "metadata": {},
   "source": [
    "#### Chloropleth map for the Youth unemployment rate"
   ]
  },
  {
   "cell_type": "code",
   "execution_count": null,
   "metadata": {},
   "outputs": [],
   "source": [
    "amstat_unemp_youth_map=folium.Map(location=[46.900000, 8.226667],tiles='cartodbpositron',zoom_start=8)\n",
    "amstat_unemp_youth_map.choropleth(\n",
    "geo_data=swiss_cantons,\n",
    "data=amstat_unemp_rate,\n",
    "columns=['Code', \"Taux de chômage des jeunes\"],\n",
    "key_on='feature.id',\n",
    "topojson='objects.cantons',\n",
    "fill_color='YlOrRd', fill_opacity=0.7, line_opacity=0.8,line_color='white',\n",
    "legend_name=\"Youth (15-24 y/o) unemployment rate [%] in September 2017\"\n",
    ")\n",
    "# Save the map in an HTML file\n",
    "amstat_unemp_youth_map.save('Swiss_unemployment_rate_2.html')\n",
    "amstat_unemp_youth_map"
   ]
  },
  {
   "cell_type": "markdown",
   "metadata": {},
   "source": [
    "## <font color='purple'>Question 3</font> \n",
    "<b>Use the amstat website again to find a dataset that includes the unemployment rates in Switzerland at recent date, this time making a distinction between Swiss and foreign workers.\n",
    "\n",
    "The Economic Secretary (SECO) releases a monthly report on the state of the employment market. In the latest report (September 2017), it is noted that there is a discrepancy between the unemployment rates for foreign (5.1%) and Swiss (2.2%) workers.\n",
    "\n",
    "Show the difference in unemployment rates between the two categories in each canton on a Choropleth map (hint The easy way is to show two separate maps, but can you think of something better ?). Where are the differences most visible ? Why do you think that is ?\n",
    "\n",
    "Now let's refine the analysis by adding the differences between age groups. As you may have guessed it is nearly impossible to plot so many variables on a map. Make a bar plot, which is a better suited visualization tool for this type of multivariate data.</b>"
   ]
  },
  {
   "cell_type": "code",
   "execution_count": null,
   "metadata": {
    "collapsed": true,
    "scrolled": true
   },
   "outputs": [],
   "source": [
    "foreign_vs_swiss = pd.read_csv('amstat_foreign_vs_swiss.csv',sep=',',skipfooter=1,thousands=\"'\",encoding='utf-16',engine='python')\n",
    "foreign_vs_swiss"
   ]
  },
  {
   "cell_type": "code",
   "execution_count": null,
   "metadata": {
    "collapsed": true
   },
   "outputs": [],
   "source": [
    "foreign_rate = foreign_vs_swiss[foreign_vs_swiss[\"Nationalité\"] == \"Etrangers\"].reset_index().drop([\"index\"],axis=1)\n",
    "foreign_rate = foreign_rate.merge(cantons_id[['Code']],left_index=True,right_index=True)\n",
    "swiss_rate = foreign_vs_swiss[foreign_vs_swiss[\"Nationalité\"] == \"Suisses\"].reset_index().drop([\"index\"],axis=1)\n",
    "swiss_rate = swiss_rate.merge(cantons_id[['Code']],left_index=True,right_index=True)"
   ]
  },
  {
   "cell_type": "code",
   "execution_count": null,
   "metadata": {
    "collapsed": true
   },
   "outputs": [],
   "source": [
    "foreign_map=folium.Map(location=[46.801111, 8.226667],tiles='cartodbpositron',zoom_start=8)\n",
    "foreign_map.choropleth(\n",
    "geo_data=swiss_cantons,\n",
    "data=foreign_rate,\n",
    "columns=['Code', 'Taux de chômage'],\n",
    "key_on='feature.id',\n",
    "topojson='objects.cantons',\n",
    "fill_color='BuPu',\n",
    "legend_name=\"Unemployment rates of people of foreign nationality (Nb of registered unemployed/Nb of active persons in %)\"\n",
    ")\n",
    "foreign_map"
   ]
  },
  {
   "cell_type": "code",
   "execution_count": null,
   "metadata": {
    "collapsed": true
   },
   "outputs": [],
   "source": [
    "swiss_map=folium.Map(location=[46.801111, 8.226667],tiles='cartodbpositron',zoom_start=8)\n",
    "swiss_map.choropleth(\n",
    "geo_data=swiss_cantons,\n",
    "data=swiss_rate,\n",
    "columns=['Code', 'Taux de chômage'],\n",
    "key_on='feature.id',\n",
    "topojson='objects.cantons',\n",
    "fill_color='BuPu',\n",
    "legend_name=\"Unemployment rates of people of swiss nationality (Nb of registered unemployed/Nb of active persons in %)\"\n",
    ")\n",
    "swiss_map"
   ]
  },
  {
   "cell_type": "code",
   "execution_count": null,
   "metadata": {
    "collapsed": true
   },
   "outputs": [],
   "source": []
  },
  {
   "cell_type": "markdown",
   "metadata": {},
   "source": [
    "## <font color='purple'>Question 4</font> \n",
    "<b>BONUS: using the map you have just built, and the geographical information contained in it, could you give a rough estimate of the difference in unemployment rates between the areas divided by the Röstigraben?</b>"
   ]
  },
  {
   "cell_type": "code",
   "execution_count": null,
   "metadata": {
    "collapsed": true
   },
   "outputs": [],
   "source": []
  }
 ],
 "metadata": {
  "kernelspec": {
   "display_name": "Python [default]",
   "language": "python",
   "name": "python3"
  },
  "language_info": {
   "codemirror_mode": {
    "name": "ipython",
    "version": 3
   },
   "file_extension": ".py",
   "mimetype": "text/x-python",
   "name": "python",
   "nbconvert_exporter": "python",
   "pygments_lexer": "ipython3",
   "version": "3.6.2"
  }
 },
 "nbformat": 4,
 "nbformat_minor": 2
}
