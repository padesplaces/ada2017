{
 "cells": [
  {
   "cell_type": "markdown",
   "metadata": {},
   "source": [
    "# Homework 3\n",
    "#### Pierre-Antoine Desplaces, Anaïs Ladoy, Lou Richard"
   ]
  },
  {
   "cell_type": "code",
   "execution_count": null,
   "metadata": {
    "collapsed": true
   },
   "outputs": [],
   "source": [
    "# Import libraries\n",
    "import pandas as pd\n",
    "import numpy as np\n",
    "import json\n",
    "import matplotlib.pyplot as plt\n",
    "import seaborn as sns\n",
    "import folium"
   ]
  },
  {
   "cell_type": "code",
   "execution_count": null,
   "metadata": {
    "collapsed": true
   },
   "outputs": [],
   "source": [
    "def bars(title, data, xlab, ylab):\n",
    "    sns.set_style('darkgrid')\n",
    "    fig, ax = plt.subplots(figsize = (15,8))\n",
    "    ax.set_title(title, fontsize=15, fontweight='bold')\n",
    "    sns.barplot(x=xlab, y=ylab, data=data, saturation=0.7, errcolor='.7')\n",
    "    plt.xticks(rotation=90)\n",
    "    plt.show()"
   ]
  },
  {
   "cell_type": "markdown",
   "metadata": {},
   "source": [
    "## <b> <font color='purple'>Question 1</font> </b>\n",
    "<b>Go to the eurostat website and try to find a dataset that includes the european unemployment rates at a recent date.\n",
    "\n",
    "Use this data to build a Choropleth map which shows the unemployment rate in Europe at a country level. Think about the colors you use, how you decided to split the intervals into data classes or which interactions you could add in order to make the visualization intuitive and expressive. Compare Switzerland's unemployment rate to that of the rest of Europe.</b>"
   ]
  },
  {
   "cell_type": "markdown",
   "metadata": {},
   "source": [
    "We find the unemployment information under Population and social conditions > Labour Market > Employment and unemployment. We chose to work with the Unemployment rates by sex, age and educational attainment level database found in the LFS - detailed annual survey results."
   ]
  },
  {
   "cell_type": "code",
   "execution_count": null,
   "metadata": {
    "collapsed": true
   },
   "outputs": [],
   "source": [
    "# Load the file\n",
    "raw_euro = pd.read_csv('lfsa_urgaed_1_Data.csv')"
   ]
  },
  {
   "cell_type": "markdown",
   "metadata": {},
   "source": [
    "Looking at the data, we see that we have a lot of unecessary informations. Since we just need the total unemployment rate, not considering the level of education nor the gender, we keep only the 'Total' rows from Sex column, and the 'All ISCED 2011 levels' from the ISCED11 column."
   ]
  },
  {
   "cell_type": "code",
   "execution_count": null,
   "metadata": {
    "collapsed": true
   },
   "outputs": [],
   "source": [
    "# Remove unecessary rows\n",
    "raw_euro = raw_euro[raw_euro.SEX == 'Total']\n",
    "raw_euro = raw_euro[raw_euro.ISCED11 == 'All ISCED 2011 levels ']"
   ]
  },
  {
   "cell_type": "markdown",
   "metadata": {},
   "source": [
    "We now create the Dataframe we will use keeping only the relevant columns GEO and Value. We then convert our values into a float type."
   ]
  },
  {
   "cell_type": "code",
   "execution_count": null,
   "metadata": {
    "collapsed": true
   },
   "outputs": [],
   "source": [
    "# Create dataframe with only the relevant columns\n",
    "df_euro = raw_euro[['GEO', 'Value']].copy()\n",
    "df_euro.columns = ('Country', 'Unemployment (%)')\n",
    "# Adjust the index\n",
    "df_euro.set_index((df_euro.index/15).astype(int), inplace=True)\n",
    "# Convert the values to float\n",
    "df_euro['Unemployment (%)'] = df_euro['Unemployment (%)'].astype(float)"
   ]
  },
  {
   "cell_type": "markdown",
   "metadata": {},
   "source": [
    "We now load the json we will use to display our map."
   ]
  },
  {
   "cell_type": "code",
   "execution_count": null,
   "metadata": {},
   "outputs": [],
   "source": [
    "# Load the json data of the map\n",
    "euro_geo_path = 'topojson/europe.topojson.json'\n",
    "euro_geo = json.load(open(euro_geo_path))\n",
    "# First element of the json\n",
    "euro_geo['objects']['europe']['geometries'][0]"
   ]
  },
  {
   "cell_type": "markdown",
   "metadata": {},
   "source": [
    "When we look at the json, we see that we will have to use the country IDs to match the values from our dataframe to the geometries of the json. We thus create a dictionary mapping the country names to their IDs. We also change the name of Germany and Macedonia in our dataframe in order to match them with the json data. We then add a new column in our dataframe containing the IDs for each country."
   ]
  },
  {
   "cell_type": "code",
   "execution_count": null,
   "metadata": {},
   "outputs": [],
   "source": [
    "# Clean the name of Germany and Macedonia\n",
    "df_euro.Country = df_euro.Country.replace({'Germany (until 1990 former territory of the FRG)': 'Germany'})\n",
    "df_euro.Country = df_euro.Country.replace({'Former Yugoslav Republic of Macedonia, the': 'The former Yugoslav Republic of Macedonia'})\n",
    "# Create a dictionary to convert country names to country IDs\n",
    "dict_country_id = dict(map(lambda x : (x['properties']['NAME'],x['id']),euro_geo['objects']['europe']['geometries']))\n",
    "# Adding a new column with country IDs\n",
    "df_euro['Country ID'] = df_euro.Country.map(lambda x : dict_country_id[x])\n",
    "# Resulting dataframe\n",
    "df_euro.head()"
   ]
  },
  {
   "cell_type": "markdown",
   "metadata": {},
   "source": [
    "To get a better idea of the distribution of the rates, we first display the values in a bar charts."
   ]
  },
  {
   "cell_type": "code",
   "execution_count": null,
   "metadata": {},
   "outputs": [],
   "source": [
    "bars('Unemployment in Europe', df_euro, 'Country', 'Unemployment (%)')"
   ]
  },
  {
   "cell_type": "markdown",
   "metadata": {},
   "source": [
    "We want to separate our data to get the most understandable map. To do so, we analyse its distribution using a histogram and a box plot."
   ]
  },
  {
   "cell_type": "code",
   "execution_count": null,
   "metadata": {},
   "outputs": [],
   "source": [
    "plt.subplot(2,1,1)\n",
    "df_euro['Unemployment (%)'].plot.hist()\n",
    "plt.subplot(2,1,2)\n",
    "sns.boxplot(data=df_euro[['Unemployment (%)']],orient='h',palette=\"Set2\",whis=1.5)\n",
    "plt.show()"
   ]
  },
  {
   "cell_type": "markdown",
   "metadata": {},
   "source": [
    "The distribution of our data is right skewed and we can detect the presence of outliers. Thus, the better option for the data classification is the Jenks natural breaks which defines an optimal arrangement of values, minimizing the intra-variance within classes. \n",
    "\n",
    "To do that, we use the jenkspy library, and use the jenks_breaks function to get our intervals.\n",
    "We decide to split our values into 5 different classes as it seems like a good compromize to detect the major trends.\n",
    "\n",
    "We round the interval values returned by the jenkspy function to the upper integer because the threshold scale used in the choropleth function round the provided list of values to the nearest order-of-magnitude integer. In our case, it will lead to an assignation of Croatia (unemployment rate=13.1%) with the outliers group (unemployment rate close to 20%) as the break defined by the Jenks algorithm is 13.1% but it is rounded to 13% in our cloropleth function."
   ]
  },
  {
   "cell_type": "code",
   "execution_count": null,
   "metadata": {},
   "outputs": [],
   "source": [
    "import jenkspy\n",
    "breaks = np.ceil(jenkspy.jenks_breaks(df_euro['Unemployment (%)'], nb_class=5)).tolist()\n",
    "breaks"
   ]
  },
  {
   "cell_type": "code",
   "execution_count": null,
   "metadata": {
    "collapsed": true
   },
   "outputs": [],
   "source": [
    "# Display the visualization map\n",
    "m_euro = folium.Map([54,15],zoom_start=4)\n",
    "m_euro.choropleth(\n",
    "    geo_data = euro_geo,\n",
    "    data=df_euro,\n",
    "    columns=['Country ID', 'Unemployment (%)'],\n",
    "    key_on='feature.id',\n",
    "    topojson='objects.europe',\n",
    "    fill_color = 'OrRd', fill_opacity=0.7,line_opacity=0.9,\n",
    "    line_color='white',\n",
    "    legend_name=\"Unemployment in Europe (in % of population)\",\n",
    "    threshold_scale = breaks\n",
    "    )\n",
    "m_euro.save(\"m_euro.html\")"
   ]
  },
  {
   "cell_type": "markdown",
   "metadata": {},
   "source": [
    "[Click here to see the map](m_euro.html)"
   ]
  },
  {
   "cell_type": "markdown",
   "metadata": {},
   "source": [
    "The countries with no color are those for which we don't have unemployment informations from Eurostat.\n",
    "\n",
    "Looking at the map, we observe that three countries stand out : Spain, Macedonia and Greece. They have the highest unemployment rate. Countries with high unemployment rate are mostly mediterranean countries : France, Italy, Turkey. \n",
    "\n",
    "If we look at Switzerland, we see that it belongs to countries with the lowest unemployment rate."
   ]
  },
  {
   "cell_type": "markdown",
   "metadata": {},
   "source": [
    "## <font color='purple'>Question 2</font> \n",
    "<b>Go to the amstat website to find a dataset that includes the unemployment rates in Switzerland at a recent date.\n",
    "\n",
    "HINT Go to the details tab to find the raw data you need. If you do not speak French, German or Italian, think of using free translation services to navigate your way through.\n",
    "Use this data to build another Choropleth map, this time showing the unemployment rate at the level of swiss cantons. Again, try to make the map as expressive as possible, and comment on the trends you observe.\n",
    "\n",
    "The Swiss Confederation defines the rates you have just plotted as the number of people looking for a job divided by the size of the active population (scaled by 100). This is surely a valid choice, but as we discussed one could argue for a different categorization.\n",
    "\n",
    "Copy the map you have just created, but this time don't count in your statistics people who already have a job and are looking for a new one. How do your observations change ? You can repeat this with different choices of categories to see how selecting different metrics can lead to different interpretations of the same data.</b>"
   ]
  },
  {
   "cell_type": "markdown",
   "metadata": {},
   "source": [
    "The unemployement rates of swiss cantons are downloadable through the amstat website (https://www.amstat.ch/v2/index.jsp) according several options we can specify (specific period, geographic level, economic or social attributes, ...).  \n",
    "We decide to use only the data corresponding to the **unemployement rates for September 2017 at a canton level** to analyze the most recent statistics.\n",
    "\n",
    "We choose to download four variables that characterize the unemployment in Switzerland : \n",
    "- *Unemployment rate (Taux de chômage)* : Registered unemployed / Active population [%]\n",
    "- *Registered unemployed (Chômeurs inscrits)* : Registered unemployed people that are looking for a job\n",
    "- *Registered job seekers that are not unemployed* : Registered job seekers that already have a job and are looking for a new one\n",
    "- *Job seekers (Demandeurs d'emplois)* : Registered unemployed + Registered job seekers that are not unemployed\n",
    "\n",
    "The goal in this exercise is to show how the choice of metrics to define unemployment can lead to very different interpretations.  \n",
    "We will first plot a chloropleth map representing the unemployment rate as it is defined by the Swiss confederation at a canton level. Then, we will plot a second chloropleth map representing this time the job seekers rate (unemployment rate considering both the unemployed and the ones who have already a job and are searching for a new one).  "
   ]
  },
  {
   "cell_type": "code",
   "execution_count": null,
   "metadata": {
    "collapsed": true
   },
   "outputs": [],
   "source": [
    "# Load the amstat datas\n",
    "amstat_unemp_rate=pd.read_csv('amstat_taux_chomage.csv',sep=',',skipfooter=1,thousands=\"'\",encoding='utf-16',engine='python')\n",
    "# Remove the first column\n",
    "amstat_unemp_rate.drop(amstat_unemp_rate.columns[0],axis=1,inplace=True)"
   ]
  },
  {
   "cell_type": "code",
   "execution_count": null,
   "metadata": {},
   "outputs": [],
   "source": [
    "amstat_unemp_rate.dtypes"
   ]
  },
  {
   "cell_type": "markdown",
   "metadata": {},
   "source": [
    "In order to plot the second chloropleth map (unemployment rate including the job seekers who have already a job but looking for a new one), we need to compute this new rate and add it to our dataframe.  \n",
    "The rate is defined as follow :\n",
    "\n",
    "*Job seekers rate* : Job seekers / Active population\n",
    "\n",
    "The active population per canton is not provided in the amstat website so we used the unemployment rate (Registered unemployed / Active population) to compute this metric."
   ]
  },
  {
   "cell_type": "code",
   "execution_count": null,
   "metadata": {},
   "outputs": [],
   "source": [
    "amstat_unemp_rate[\"Taux de demandeurs d'emplois\"]=amstat_unemp_rate[\"Demandeurs d'emploi\"]*amstat_unemp_rate['Taux de chômage']/amstat_unemp_rate['Chômeurs inscrits']\n",
    "amstat_unemp_rate"
   ]
  },
  {
   "cell_type": "markdown",
   "metadata": {},
   "source": [
    "The territorial limits of the swiss cantons are already provided in a TopoJSON file and it will be used as an overlay to create our chloropleth map.   \n",
    "\n",
    "\n",
    "We need to associate the parameters we want to visualize (rates at canton level) with the geographic entities present in the TopoJSON file (canton id). If we inspect our TopoJSON file, we can see that the object id are the canton codes (ZH, BE, ...) and this information is not present in our dataframe. Thus, the first step is to extract this information from the JSON file and add it as a new column to our data."
   ]
  },
  {
   "cell_type": "code",
   "execution_count": null,
   "metadata": {
    "collapsed": true
   },
   "outputs": [],
   "source": [
    "# Load the TopoJSON file\n",
    "swiss_cantons=json.load(open('./topojson/ch-cantons.topojson.json'))\n",
    "# Create a list with the corresponding code (id) for each canton\n",
    "cantons_id=[(i['properties']['name'],i['id']) for i in swiss_cantons['objects']['cantons']['geometries']]"
   ]
  },
  {
   "cell_type": "code",
   "execution_count": null,
   "metadata": {},
   "outputs": [],
   "source": [
    "cantons_id=pd.DataFrame(cantons_id,columns=['Canton','Code'])\n",
    "cantons_id.head()"
   ]
  },
  {
   "cell_type": "markdown",
   "metadata": {},
   "source": [
    "We notice that the swiss cantons names in our dataframe and in the TopoJSON file are really different as the names in the TopoJSON are expressed in the official language for each canton. \n",
    "Fortunately, we can see that the cantons are in the same order in both our dataframe and the TopoJSON, we can thus match the canton code according the index."
   ]
  },
  {
   "cell_type": "code",
   "execution_count": null,
   "metadata": {
    "collapsed": true
   },
   "outputs": [],
   "source": [
    "# Adding a new column with country IDs\n",
    "amstat_unemp_rate = amstat_unemp_rate.merge(cantons_id[['Code']],left_index=True,right_index=True)"
   ]
  },
  {
   "cell_type": "markdown",
   "metadata": {},
   "source": [
    "Another parameter that will influence a lot the interpretation of our map is the way we classify the data. The mode of classification (equal interval, quantile, natural breaks,...) will define the color intervals that we'll use in our data visualization and it's important to look at the values distribution of the parameters we will plot in order to choose the best method."
   ]
  },
  {
   "cell_type": "code",
   "execution_count": null,
   "metadata": {},
   "outputs": [],
   "source": [
    "sns.boxplot(data=amstat_unemp_rate[['Taux de chômage',\"Taux de demandeurs d'emplois\"]],orient='h',palette=\"Set2\",whis=1.5)\n",
    "plt.show()"
   ]
  },
  {
   "cell_type": "markdown",
   "metadata": {},
   "source": [
    "The distribution for the two parameters are more or less symmetric and we can notice an outlier for the Unemployment rate (Taux de chômage).\n",
    "\n",
    "The goal of this exercise is to see how the choice of metrics to quantify the unemployment rate can lead to different interpretations. Thus, it is better to use the same classification method for the two parameters we will plot in order to avoid an additional \"bias\" in the vizualisation interpretation.  \n",
    "\n",
    "That's why we won't choose the natural breaks classification which find an \"optimal\" classification for a particular dataset. \n",
    "An equal interval classification seems to be an interesting choice as the distributions are not very skewed (there won't be an overrepresentation of a class). The quantile interval leads to the approximately the same number of groups in every class and it doesn't seem as a good choice since we have outliers which could be unnoticed."
   ]
  },
  {
   "cell_type": "markdown",
   "metadata": {},
   "source": [
    "### Chloropleth map for the Unemployment rate as it defined by the Swiss Confederation"
   ]
  },
  {
   "cell_type": "code",
   "execution_count": null,
   "metadata": {
    "collapsed": true
   },
   "outputs": [],
   "source": [
    "# Create a folium map centered on the geographical center of Switzerland\n",
    "amstat_unemp_rate_map=folium.Map(location=[46.900000, 8.226667],tiles='cartodbpositron',zoom_start=8)\n",
    "\n",
    "# Add an overlay to the map (TopoJSON associated with the variable of interest)\n",
    "amstat_unemp_rate_map.choropleth(\n",
    "geo_data=swiss_cantons,\n",
    "data=amstat_unemp_rate,\n",
    "columns=['Code', 'Taux de chômage'],\n",
    "key_on='feature.id',\n",
    "topojson='objects.cantons',\n",
    "fill_color='YlOrRd', fill_opacity=0.7, line_opacity=0.8, line_color='white',\n",
    "legend_name=\"Unemployment rate [%] in September 2017\",\n",
    ")\n",
    "\n",
    "# Save the map in an HTML file\n",
    "amstat_unemp_rate_map.save('Swiss_unemployment_rate.html')"
   ]
  },
  {
   "cell_type": "markdown",
   "metadata": {},
   "source": [
    "[Click here to see the map](Swiss_unemployment_rate.html)"
   ]
  },
  {
   "cell_type": "markdown",
   "metadata": {},
   "source": [
    "The cantons of Geneva and Neuchâtel were the ones recording the maximum unemployment rate in Switzerland in September 2017 and we can detect a trend that the bordering cantons with France are the ones with the highest unemployment rate.\n",
    "\n",
    "Even if Geneva is the only outlier with an unemployment rate of 5.2%, the canton of Neuchâtel has also an extreme value (5.1%) so the choice of 6 bins for the data classification makes sense as it permites to highlight the cantons with the extreme unemployment rates without overrepresenting a specific class."
   ]
  },
  {
   "cell_type": "markdown",
   "metadata": {},
   "source": [
    "### Chloropleth map for the Job seekers rate"
   ]
  },
  {
   "cell_type": "code",
   "execution_count": null,
   "metadata": {
    "collapsed": true
   },
   "outputs": [],
   "source": [
    "amstat_job_seek_rate_map=folium.Map(location=[46.900000, 8.226667],tiles='cartodbpositron',zoom_start=8)\n",
    "amstat_job_seek_rate_map.choropleth(\n",
    "geo_data=swiss_cantons,\n",
    "data=amstat_unemp_rate,\n",
    "columns=['Code', \"Taux de demandeurs d'emplois\"],\n",
    "key_on='feature.id',\n",
    "topojson='objects.cantons',\n",
    "fill_color='YlOrRd', fill_opacity=0.7, line_opacity=0.8,line_color='white',\n",
    "legend_name=\"Job seekers rate [%] in September 2017\"\n",
    ")\n",
    "# Save the map in an HTML file\n",
    "amstat_job_seek_rate_map.save('Swiss_job_seekers_rate.html')"
   ]
  },
  {
   "cell_type": "markdown",
   "metadata": {},
   "source": [
    "[Click here to see the map](Swiss_job_seekers_rate.html)"
   ]
  },
  {
   "cell_type": "code",
   "execution_count": null,
   "metadata": {},
   "outputs": [],
   "source": [
    "# Cantons with the min and max difference between the two unemployment rates metrics\n",
    "diff=amstat_unemp_rate[\"Taux de demandeurs d'emplois\"]-amstat_unemp_rate[\"Taux de chômage\"]\n",
    "print('Canton with minimum increase: {} (+{}%)'.format(amstat_unemp_rate.loc[diff.idxmin()].Canton, min(diff).round(2)))\n",
    "print('Canton with maximum increase: {} (+{}%)'.format(amstat_unemp_rate.loc[diff.idxmax()].Canton, max(diff).round(2)))"
   ]
  },
  {
   "cell_type": "markdown",
   "metadata": {
    "collapsed": true
   },
   "source": [
    "Considering also the job seekers who have already a job and looking at a new one, we can see that it leads to a very different visualization and the unemployment rate increases from 0.45% (Appenzell Rhodes-Intérieures) to 2.43% (Schaffhouse).\n",
    "\n",
    "The center of the country (Nidwald, Obwald, Uri) have low unemployment rates compared to the rest of Switzerland. The previous unemployment rate visualization highlighted several cantons with extreme high values and this second visualization is more highlighting four cantons with very low values.COMMENT"
   ]
  },
  {
   "cell_type": "markdown",
   "metadata": {},
   "source": [
    "### Chloropleth map of the number of registered unemployed\n",
    "Finally, it seems interesting to plot the number of registered unemployed per canton and observe how the result could change without normalize the variable by the active population of the canton (as it is computed for the unemployment rate).\n",
    "\n",
    "We define manually a linear threshold scale because the colormap scale starts to a negative number otherelse which makes no sense."
   ]
  },
  {
   "cell_type": "code",
   "execution_count": null,
   "metadata": {
    "collapsed": true
   },
   "outputs": [],
   "source": [
    "threshold=np.linspace(0,max(amstat_unemp_rate[\"Chômeurs inscrits\"]),6).tolist()"
   ]
  },
  {
   "cell_type": "code",
   "execution_count": null,
   "metadata": {
    "collapsed": true
   },
   "outputs": [],
   "source": [
    "amstat_reg_unemp_map=folium.Map(location=[46.900000, 8.226667],tiles='cartodbpositron',zoom_start=8)\n",
    "amstat_reg_unemp_map.choropleth(\n",
    "geo_data=swiss_cantons,\n",
    "data=amstat_unemp_rate,\n",
    "columns=['Code', \"Chômeurs inscrits\"],\n",
    "key_on='feature.id',\n",
    "topojson='objects.cantons',\n",
    "fill_color='YlOrRd', fill_opacity=0.7, line_opacity=0.8,line_color='white',\n",
    "legend_name=\"Registered unemployed in September 2017\",\n",
    "threshold_scale=threshold\n",
    ")\n",
    "# Save the map in an HTML file\n",
    "amstat_reg_unemp_map.save('Swiss_registered_unemployed.html')"
   ]
  },
  {
   "cell_type": "markdown",
   "metadata": {},
   "source": [
    "[Click here to see the map](Swiss_registered_unemployed.html)"
   ]
  },
  {
   "cell_type": "markdown",
   "metadata": {},
   "source": [
    "We can see a huge difference comparing to the two previous maps as the trend with the maximal unemployment near the french border is no longer present. Furthermore, the canton of Zurich is clearly the one with the more unemployed people contrasting with the fact it was at a middle rank for both the unemployment and the job seekers rates.\n",
    "\n",
    "Indeed, we visualized the raw number of registered unemployed without taking consideration of the density of population in the canton. Thus, the canton of Zurich has the highest number of unemployed people in Switzerland but it is also the most populated canton. If we present this map to political parties, they will consider falsely the canton of Zurich as the first priority for unemployment reduction. That's why the choice of metrics to represent umployment must be take with a lot of consideration.  \n",
    "\n",
    "In this case, the data classification is also not appropriate (the majority of the cantons are in the same color) and this highlights even more the unemployment in Zurich."
   ]
  },
  {
   "cell_type": "markdown",
   "metadata": {},
   "source": [
    "## <font color='purple'>Question 3</font> \n",
    "<b>Use the amstat website again to find a dataset that includes the unemployment rates in Switzerland at recent date, this time making a distinction between Swiss and foreign workers.\n",
    "\n",
    "The Economic Secretary (SECO) releases a monthly report on the state of the employment market. In the latest report (September 2017), it is noted that there is a discrepancy between the unemployment rates for foreign (5.1%) and Swiss (2.2%) workers.\n",
    "\n",
    "Show the difference in unemployment rates between the two categories in each canton on a Choropleth map (hint The easy way is to show two separate maps, but can you think of something better ?). Where are the differences most visible ? Why do you think that is ?</b>"
   ]
  },
  {
   "cell_type": "markdown",
   "metadata": {},
   "source": [
    "First, we gather the rates for both categories in all cantons."
   ]
  },
  {
   "cell_type": "code",
   "execution_count": null,
   "metadata": {},
   "outputs": [],
   "source": [
    "foreigners_vs_swiss = pd.read_csv('amstat_foreigners_vs_swiss.csv',sep=',',skipfooter=1,thousands=\"'\",encoding='utf-16',engine='python')\n",
    "foreigners_vs_swiss"
   ]
  },
  {
   "cell_type": "markdown",
   "metadata": {},
   "source": [
    "Then we handle it in the same fashion as question 2, by linking the canton codes in order."
   ]
  },
  {
   "cell_type": "code",
   "execution_count": null,
   "metadata": {
    "collapsed": true
   },
   "outputs": [],
   "source": [
    "foreigners_rate = foreigners_vs_swiss[foreigners_vs_swiss[\"Nationalité\"] == \"Etrangers\"].reset_index().drop([\"index\"],axis=1)\n",
    "foreigners_rate = foreigners_rate.merge(cantons_id[['Code']],left_index=True,right_index=True)\n",
    "swiss_rate = foreigners_vs_swiss[foreigners_vs_swiss[\"Nationalité\"] == \"Suisses\"].reset_index().drop([\"index\"],axis=1)\n",
    "swiss_rate = swiss_rate.merge(cantons_id[['Code']],left_index=True,right_index=True)"
   ]
  },
  {
   "cell_type": "markdown",
   "metadata": {},
   "source": [
    "Now, we can simply map the rates for both categories :"
   ]
  },
  {
   "cell_type": "code",
   "execution_count": null,
   "metadata": {
    "collapsed": true
   },
   "outputs": [],
   "source": [
    "foreigners_map=folium.Map(location=[46.900000, 8.226667],tiles='cartodbpositron',zoom_start=8)\n",
    "foreigners_map.choropleth(\n",
    "geo_data=swiss_cantons,\n",
    "data=foreigners_rate,\n",
    "columns=['Code', 'Taux de chômage'],\n",
    "key_on='feature.id',\n",
    "topojson='objects.cantons',\n",
    "fill_color='YlOrRd',\n",
    "legend_name=\"Unemployment rate (%) of people of foreign nationality in september 2017\"\n",
    ")\n",
    "foreigners_map.save(\"foreigners_map.html\")"
   ]
  },
  {
   "cell_type": "markdown",
   "metadata": {},
   "source": [
    "[Click here to see the map](foreigners_map.html)"
   ]
  },
  {
   "cell_type": "code",
   "execution_count": null,
   "metadata": {
    "collapsed": true,
    "scrolled": false
   },
   "outputs": [],
   "source": [
    "swiss_map=folium.Map(location=[46.900000, 8.226667],tiles='cartodbpositron',zoom_start=8)\n",
    "swiss_map.choropleth(\n",
    "geo_data=swiss_cantons,\n",
    "data=swiss_rate,\n",
    "columns=['Code', 'Taux de chômage'],\n",
    "key_on='feature.id',\n",
    "topojson='objects.cantons',\n",
    "fill_color='YlOrRd',\n",
    "legend_name=\"Unemployment rate (%) of people of swiss nationality in september 2017\"\n",
    ")\n",
    "swiss_map.save(\"swiss_map.html\")"
   ]
  },
  {
   "cell_type": "markdown",
   "metadata": {},
   "source": [
    "[Click here to see the map](swiss_map.html)"
   ]
  },
  {
   "cell_type": "markdown",
   "metadata": {},
   "source": [
    "The first thing we notice is that the maximum rate for swiss people is about half of the maximum rate for foreigners and the minimum rate for foreigners is near the mean of the swiss rates, which is effectively a big discrepancy. It adds up with the general 2-for-1 gap that has been observed on a national level. We can note that all cantons have higher unemployment rates for foreigners that locals.\n",
    "\n",
    "Besides that, on their respective scales, the rates vary similarly for most cantons, the only big difference being for Bern, which is in the top 50% for foreigners (high unemployment rate, between 6 and 7%) but quite low for swiss people (only between 1.1 and 1.9%). It is only a reinforcement of the trend that we observed and not a counter-example."
   ]
  },
  {
   "cell_type": "markdown",
   "metadata": {},
   "source": [
    "<b>Now let's refine the analysis by adding the differences between age groups. As you may have guessed it is nearly impossible to plot so many variables on a map. Make a bar plot, which is a better suited visualization tool for this type of multivariate data.</b>\n",
    "\n",
    "\n",
    "Since there is not way to get the rate for those double criteria categories (nationality and age) from the amstat website, we decided to get the numbers alone and calculate the proportion of each age category for each nationality. \n",
    "\n",
    "The most suited visualization tool for multivariate data like this is a stacked bar chart. Using these proportions, we can draw one simply based on the rate for the nationality and divide each bar into the different age groups.\n",
    "\n",
    "First we read the data gathered from amstat and arrange it in a nice way to get the numbers needed to compute the proportions :"
   ]
  },
  {
   "cell_type": "code",
   "execution_count": null,
   "metadata": {
    "scrolled": true
   },
   "outputs": [],
   "source": [
    "df_age_nationality = pd.read_csv('amstat_age_and_nationality.csv',sep=',',skipfooter=1,thousands=\"'\",encoding='utf-16',engine='python')\n",
    "df_age_nationality = df_age_nationality.drop([df_age_nationality.columns[2],df_age_nationality.columns[4]],axis=1)\n",
    "df_age_nationality = df_age_nationality[df_age_nationality[\"Nationalité\"]!=\"Total\"]\n",
    "df_age_nationality = df_age_nationality.rename(columns={df_age_nationality.columns[2] : \"Age\"})\n",
    "df_age_nationality = df_age_nationality.fillna(\"Total\")\n",
    "df_age_nationality"
   ]
  },
  {
   "cell_type": "markdown",
   "metadata": {},
   "source": [
    "Then, we select the different categories and we compute their proportions :"
   ]
  },
  {
   "cell_type": "code",
   "execution_count": null,
   "metadata": {
    "collapsed": true
   },
   "outputs": [],
   "source": [
    "total_swiss = df_age_nationality[(df_age_nationality[\"Nationalité\"]==\"Suisses\") & (df_age_nationality[\"Age\"]==\"Total\")][[\"Chômeurs inscrits\"]].astype(float)\n",
    "total_foreigners = df_age_nationality[(df_age_nationality[\"Nationalité\"]==\"Etrangers\") & (df_age_nationality[\"Age\"]==\"Total\")][[\"Chômeurs inscrits\"]].astype(float)\n",
    "\n",
    "young_swiss = df_age_nationality[(df_age_nationality[\"Nationalité\"]==\"Suisses\") & (df_age_nationality[\"Age\"]==\"15-24 ans\")][[\"Chômeurs inscrits\"]]\n",
    "young_foreigners = df_age_nationality[(df_age_nationality[\"Nationalité\"]==\"Etrangers\") & (df_age_nationality[\"Age\"]==\"15-24 ans\")][[\"Chômeurs inscrits\"]]\n",
    "\n",
    "middle_swiss = df_age_nationality[(df_age_nationality[\"Nationalité\"]==\"Suisses\") & (df_age_nationality[\"Age\"]==\"25-49 ans\")][[\"Chômeurs inscrits\"]]\n",
    "middle_foreigners = df_age_nationality[(df_age_nationality[\"Nationalité\"]==\"Etrangers\") & (df_age_nationality[\"Age\"]==\"25-49 ans\")][[\"Chômeurs inscrits\"]]\n",
    "\n",
    "old_swiss = df_age_nationality[(df_age_nationality[\"Nationalité\"]==\"Suisses\") & (df_age_nationality[\"Age\"]==\"50 ans et plus\")][[\"Chômeurs inscrits\"]]\n",
    "old_foreigners = df_age_nationality[(df_age_nationality[\"Nationalité\"]==\"Etrangers\") & (df_age_nationality[\"Age\"]==\"50 ans et plus\")][[\"Chômeurs inscrits\"]]"
   ]
  },
  {
   "cell_type": "code",
   "execution_count": null,
   "metadata": {
    "collapsed": true,
    "scrolled": true
   },
   "outputs": [],
   "source": [
    "#this is from the previous dataframe that contains the rates for each nationality\n",
    "general_swiss_rate = swiss_rate[\"Taux de chômage\"].values\n",
    "\n",
    "young_swiss_rate = np.squeeze(young_swiss.values/total_swiss.values)*general_swiss_rate\n",
    "middle_swiss_rate = np.squeeze(middle_swiss.values/total_swiss.values)*general_swiss_rate\n",
    "old_swiss_rate = np.squeeze(old_swiss.values/total_swiss.values)*general_swiss_rate"
   ]
  },
  {
   "cell_type": "code",
   "execution_count": null,
   "metadata": {
    "collapsed": true,
    "scrolled": true
   },
   "outputs": [],
   "source": [
    "#same thing here\n",
    "general_foreigners_rate = foreigners_rate[\"Taux de chômage\"].values\n",
    "\n",
    "young_foreigners_rate = np.squeeze(young_foreigners.values/total_foreigners.values) * general_foreigners_rate\n",
    "middle_foreigners_rate = np.squeeze(middle_foreigners.values/total_foreigners.values) * general_foreigners_rate\n",
    "old_foreigners_rate = np.squeeze(old_foreigners.values/total_foreigners.values) * general_foreigners_rate"
   ]
  },
  {
   "cell_type": "markdown",
   "metadata": {},
   "source": [
    "Finally, we put all of this in a nice stacked bar chart :"
   ]
  },
  {
   "cell_type": "code",
   "execution_count": null,
   "metadata": {},
   "outputs": [],
   "source": [
    "cantons = swiss_rate[\"Canton\"].values\n",
    "nb_cantons = np.arange(len(cantons))\n",
    "\n",
    "plt.figure(figsize=(30,10))\n",
    "\n",
    "b1 = plt.bar(nb_cantons-0.2, young_swiss_rate+middle_swiss_rate+old_swiss_rate, width=0.4, color=\"#092195\", align='center')\n",
    "b2 = plt.bar(nb_cantons-0.2, young_swiss_rate+middle_swiss_rate, width=0.4, color=\"#536EF3\", align='center')\n",
    "b3 = plt.bar(nb_cantons-0.2, young_swiss_rate, width=0.4, color=\"#BCC7FB\", align='center')\n",
    "\n",
    "b4 = plt.bar(nb_cantons+0.2, young_foreigners_rate+middle_foreigners_rate+old_foreigners_rate, width=0.4, color=\"#FB9902\", align='center')\n",
    "b5 = plt.bar(nb_cantons+0.2, young_foreigners_rate+middle_foreigners_rate, width=0.4, color=\"#FCB54A\", align='center')\n",
    "b6 = plt.bar(nb_cantons+0.2, young_foreigners_rate, width=0.4, color=\"#FFE0B3\", align='center')\n",
    "\n",
    "plt.xticks(nb_cantons,cantons,rotation=90,fontsize=18)\n",
    "plt.yticks(fontsize=18)\n",
    "\n",
    "lgd = plt.legend([b1,b2,b3,b4,b5,b6],[\"Swiss (50+ yo)\",\"Swiss (25-49 yo)\",\"Swiss (15-24 yo)\",\"Foreigners (50+ yo)\",\"Foreigners (25-49 yo)\",\"Foreigners (15-24 yo)\"],fontsize=18)\n",
    "\n",
    "ttl = plt.title(\"Unemployment rates (in %) for each canton depending on nationality and age\",fontsize=22,fontweight='bold')\n",
    "ttl.set_position([.5, 1.05])\n",
    "\n",
    "plt.savefig(\"nationality_and_age_rates\", bbox_extra_artists=(lgd,), bbox_inches='tight')\n",
    "plt.show()"
   ]
  },
  {
   "cell_type": "markdown",
   "metadata": {},
   "source": [
    "In this graph, the blue bars represent the unemployment rate for locals and the orange bar, for foreigners. We can clearly see here the trend that we observed before on the maps, but we can add that Geneva is the canton where the two rates are the closest (less than 1% gap).\n",
    "\n",
    "The new information here is that for both locals and foreigners, in all cantons, the 25-49 age range constitutes the biggest part of unemployed people. This makes sense since it is most certainly the biggest part of the active population. Also all the cantons seem to have a very low unemployment rate for young people."
   ]
  },
  {
   "cell_type": "markdown",
   "metadata": {},
   "source": [
    "## <font color='purple'>Question 4</font>\n",
    "<b>*BONUS*: using the map you have just built, and the geographical information contained in it, could you give a *rough estimate* of the difference in unemployment rates between the areas divided by the [Röstigraben](https://en.wikipedia.org/wiki/R%C3%B6stigraben) ?</b>"
   ]
  },
  {
   "cell_type": "markdown",
   "metadata": {},
   "source": [
    "To compare the different areas, we first need to map each canton with its proper 'region'. We collect these informations on the wikipedia Webpage : https://fr.wikipedia.org/wiki/Canton_(Suisse). We will use Beautiful Soup to extract the desired informations."
   ]
  },
  {
   "cell_type": "code",
   "execution_count": null,
   "metadata": {
    "collapsed": true
   },
   "outputs": [],
   "source": [
    "import requests\n",
    "from bs4 import BeautifulSoup\n",
    "\n",
    "wiki_r = requests.get('https://fr.wikipedia.org/wiki/Canton_(Suisse)')\n",
    "soup = BeautifulSoup(wiki_r.text, \"html.parser\")"
   ]
  },
  {
   "cell_type": "markdown",
   "metadata": {},
   "source": [
    "On this webpage, we find every canton with its language in a table. We thus create a dictionary mapping each canton to its region according to its language. For those who are bilingual, we give the prority to French, then German, and then Italian. For example, the canton of Fribourg has both French and German as languages, but will be considered as a French canton. Bern is the only exception to this rule, but we will modify it manually."
   ]
  },
  {
   "cell_type": "code",
   "execution_count": null,
   "metadata": {
    "collapsed": true
   },
   "outputs": [],
   "source": [
    "dict_cantons = {}\n",
    "for canton in soup.find_all('tr'):\n",
    "    soup2 = BeautifulSoup(str(canton), \"html.parser\")\n",
    "    canton_id = soup2.find('th')\n",
    "    allemand = soup2.find('a', href='/wiki/Allemand')\n",
    "    romand = soup2.find('a', href='/wiki/Fran%C3%A7ais_(langue)')\n",
    "    italien = soup2.find('a', href='/wiki/Italien')\n",
    "    if romand is None:\n",
    "        if allemand is None:\n",
    "            if italien is not None:\n",
    "                dict_cantons[canton_id.text] = \"IT\"\n",
    "        else :\n",
    "            dict_cantons[canton_id.text] = \"DE\"\n",
    "    else :\n",
    "        dict_cantons[canton_id.text] = \"FR\""
   ]
  },
  {
   "cell_type": "markdown",
   "metadata": {},
   "source": [
    "We just need to modify the canton of Bern as a German canton."
   ]
  },
  {
   "cell_type": "code",
   "execution_count": null,
   "metadata": {
    "collapsed": true
   },
   "outputs": [],
   "source": [
    "dict_cantons['BE'] = \"DE\""
   ]
  },
  {
   "cell_type": "markdown",
   "metadata": {},
   "source": [
    "We can now create a dataframe from the amstat_unemp_rate dataframe, with the region information in a new column."
   ]
  },
  {
   "cell_type": "code",
   "execution_count": null,
   "metadata": {},
   "outputs": [],
   "source": [
    "rosti_rate = amstat_unemp_rate[['Canton', 'Taux de chômage', 'Chômeurs inscrits', 'Code']].copy()\n",
    "rosti_rate['Area'] = rosti_rate['Code'].map(lambda x : dict_cantons[x])\n",
    "rosti_rate.head()"
   ]
  },
  {
   "cell_type": "markdown",
   "metadata": {},
   "source": [
    "We can visualize the repartition of the cantons into the different areas creating the following map."
   ]
  },
  {
   "cell_type": "code",
   "execution_count": null,
   "metadata": {
    "collapsed": true
   },
   "outputs": [],
   "source": [
    "def area_color(canton):\n",
    "    \"\"\"Maps Clinton wins to blue and Trump wins to red.\"\"\"\n",
    "    region = rosti_rate.loc[rosti_rate['Code'] == canton, 'Area'].values[0]\n",
    "    if region == \"DE\":\n",
    "        return '#80DABD'\n",
    "    elif region == \"FR\":\n",
    "        return '#DAA680'\n",
    "    else :\n",
    "        return '#DA8096'\n",
    "\n",
    "\n",
    "rosti_map=folium.Map(location=[46.900000, 8.226667],tiles='cartodbpositron',zoom_start=8)\n",
    "\n",
    "folium.TopoJson(\n",
    "    swiss_cantons,\n",
    "    object_path = 'objects.cantons',\n",
    "    style_function=lambda feature: {\n",
    "        'fillColor': area_color(feature['id']),\n",
    "        'color' : 'white'\n",
    "        }\n",
    "    ).add_to(rosti_map)\n",
    "\n",
    "rosti_map.save(\"rosti_map.html\")"
   ]
  },
  {
   "cell_type": "markdown",
   "metadata": {},
   "source": [
    "[Click here to see the map of the Röstigraben areas](rosti_map.html)"
   ]
  },
  {
   "cell_type": "markdown",
   "metadata": {},
   "source": [
    "In order to later calculate the unemployment rate per region, we need to calculate the number of active persons in each canton."
   ]
  },
  {
   "cell_type": "code",
   "execution_count": null,
   "metadata": {
    "collapsed": true
   },
   "outputs": [],
   "source": [
    "rosti_rate['Active population'] = rosti_rate['Chômeurs inscrits']/rosti_rate['Taux de chômage']"
   ]
  },
  {
   "cell_type": "markdown",
   "metadata": {},
   "source": [
    "Now that we have all the informations that we need, we aggregate the data per area, and compute the sum to get the total numbers of active and umployed population for each region."
   ]
  },
  {
   "cell_type": "code",
   "execution_count": null,
   "metadata": {
    "collapsed": true
   },
   "outputs": [],
   "source": [
    "region_rate = rosti_rate.groupby('Area').sum()"
   ]
  },
  {
   "cell_type": "markdown",
   "metadata": {},
   "source": [
    "We can now recalculate properly the unemployment rates according to the active and the unemployed numbers."
   ]
  },
  {
   "cell_type": "code",
   "execution_count": null,
   "metadata": {},
   "outputs": [],
   "source": [
    "region_rate['Taux de chômage'] = region_rate['Chômeurs inscrits']/region_rate['Active population']\n",
    "# Convert the active population to integer number\n",
    "region_rate['Active population']=region_rate['Active population'].astype('int')\n",
    "region_rate"
   ]
  },
  {
   "cell_type": "markdown",
   "metadata": {},
   "source": [
    "This result shows that the unemployment rate in the french area is higher by almost 1.5% than the german area, and by almost 1% than the italien area."
   ]
  }
 ],
 "metadata": {
  "kernelspec": {
   "display_name": "Python [default]",
   "language": "python",
   "name": "python3"
  },
  "language_info": {
   "codemirror_mode": {
    "name": "ipython",
    "version": 3
   },
   "file_extension": ".py",
   "mimetype": "text/x-python",
   "name": "python",
   "nbconvert_exporter": "python",
   "pygments_lexer": "ipython3",
   "version": "3.6.2"
  }
 },
 "nbformat": 4,
 "nbformat_minor": 2
}
