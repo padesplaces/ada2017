{
 "cells": [
  {
   "cell_type": "code",
   "execution_count": 13,
   "metadata": {},
   "outputs": [],
   "source": [
    "# Import libraries\n",
    "import pandas as pd\n",
    "import numpy as np\n",
    "import json\n",
    "import matplotlib.pyplot as plt\n",
    "import seaborn as sns\n",
    "import folium\n",
    "import json\n",
    "import glob\n",
    "import pickle\n",
    "import re\n",
    "from difflib import SequenceMatcher"
   ]
  },
  {
   "cell_type": "markdown",
   "metadata": {},
   "source": [
    "### 6. Addition of the genre for each track (Use of LastFM dataset and external website for genre listing)"
   ]
  },
  {
   "cell_type": "markdown",
   "metadata": {},
   "source": [
    "To find the genre of a song, we will use the LastFM dataset that contains a list a tags for each song.\n",
    "Since the dataset is from the MillionSongDataset, we will not use all of the available tracks from LastFM but, but only the ones contained in the SecondHandSong dataset."
   ]
  },
  {
   "cell_type": "code",
   "execution_count": 5,
   "metadata": {},
   "outputs": [],
   "source": [
    "# Loading the files if they are in the SecondHandSong dataset and create the dataframe\n",
    "covers_df = pickle.load(open(\"data/covers.p\",\"rb\"))\n",
    "list_tracks = covers_df.trackID\n",
    "test_path = \"../../lastfm_test\"\n",
    "train_path = \"../../lastfm_train\"\n",
    "\n",
    "genre_df = pd.DataFrame()\n",
    "def create_dataFrame(genre_df):\n",
    "    for track in list_tracks:\n",
    "        folder1 = track[2]\n",
    "        folder2 = track[3]\n",
    "        folder3 = track[4]\n",
    "        folder_path = \"/\" + folder1 + \"/\" + folder2 + \"/\" + folder3 + \"/\"\n",
    "        track_path = folder_path + track + \".json\"\n",
    "        if glob.glob(train_path + track_path) != []:\n",
    "                genre_df = genre_df.append(pd.DataFrame.from_dict(json.load(open(train_path + track_path)), orient=\"index\").transpose())\n",
    "        elif glob.glob(test_path + folder_path + track) != []:\n",
    "                genre_df = genre_df.append(pd.DataFrame.from_dict(json.load(open(test_path + track_path)), orient=\"index\").transpose())\n",
    "    genre_df = genre_df.reset_index()\n",
    "    return genre_df\n",
    "\n",
    "#tracks_with_tags = create_dataFrame(genre_df)\n",
    "tracks_with_tags = pickle.load(open(\"data/last_fm_data.p\", \"rb\"))"
   ]
  },
  {
   "cell_type": "markdown",
   "metadata": {},
   "source": [
    "We now list the unique tags in the resulting dataframe."
   ]
  },
  {
   "cell_type": "code",
   "execution_count": 358,
   "metadata": {},
   "outputs": [],
   "source": [
    "def unique_tags_shs():\n",
    "    tags = list()\n",
    "    for track in tracks_with_tags.tags:\n",
    "        if not track is np.nan:\n",
    "            for tag in track:\n",
    "                if tag not in tags:\n",
    "                    tags = tags+tag\n",
    "    return tags\n",
    "\n",
    "#tags_shs = unique_tags_shs()\n",
    "tags_shs = pickle.load(open(\"data/tags_shs.p\", \"rb\")) "
   ]
  },
  {
   "cell_type": "markdown",
   "metadata": {},
   "source": [
    "A lot of tags contains useless information, thus we first proceed to a pre-cleaning."
   ]
  },
  {
   "cell_type": "code",
   "execution_count": 359,
   "metadata": {},
   "outputs": [
    {
     "name": "stdout",
     "output_type": "stream",
     "text": [
      "Number of tags before cleaning : 416074\n",
      "Number of tags after cleaning : 66336\n"
     ]
    }
   ],
   "source": [
    "def filter_zz(tag):\n",
    "    t = tag.lower()\n",
    "    return (not \"zz\" in t or \"jazz\" in t)\n",
    "            \n",
    "\n",
    "def clean_up_tags(tags):\n",
    "    \n",
    "    # We first observe a lot of unmeaningful tag with repetitions of characters such as : \"----\", \"ooo\", \"zzzz\" etc\n",
    "    clean_tags = list(filter(lambda x : not re.match(r'.*o[-o](?![Ff][Ii])', x), tags)) # tags containing \"oo\" or \"o-\"\n",
    "    clean_tags = list(filter(lambda x : not re.match(r'.*-o', x), clean_tags))          # tags containing \"-o\"\n",
    "    clean_tags = list(filter(lambda x : not re.match(r'.*--', x), clean_tags))          # tags containing repetitions of \"--\"\n",
    "    clean_tags = list(filter(lambda x : filter_zz(x), clean_tags))                      # tags containing repetitions of z but not \"jazz\"\n",
    "   \n",
    "    # Then we note that a lot of tags are \"subjective\" (Favorite, beautiful...) or don't relate to music genre \"Love\", \"Sex\", \"Cover\"\n",
    "    clean_tags = list(filter(lambda x : not re.match(r'(?i).*fav', x), clean_tags))   # tags containing \"fav\" like \"My favorite song\"\n",
    "    clean_tags = list(filter(lambda x : not re.match(r'(?i).*beau', x), clean_tags))  # tags containing \"beau\" like \"Beautiful song\"\n",
    "    clean_tags = list(filter(lambda x : not re.match(r'^\\d+\\'?s?\\Z', x), clean_tags)) # tags starting with a number\n",
    "    clean_tags = list(filter(lambda x : not re.match(r'^\\'\\d+\\s?', x), clean_tags)) # tags starting with a number\n",
    "    clean_tags = list(filter(lambda x : not re.match(r'(?i).*lov', x), clean_tags))   # tags containing \"Love\"\n",
    "    clean_tags = list(filter(lambda x : not re.match(r'(?i).*sex', x), clean_tags))   # tags containing \"Sex\"\n",
    "    clean_tags = list(filter(lambda x : not re.match(r'(?i).*cover', x), clean_tags)) # tags containing \"Cover\"\n",
    "    clean_tags = list(filter(lambda x : not re.match(r'(?i).*listen', x), clean_tags))# tags containing \"Listen\"\n",
    "    clean_tags = list(filter(lambda x : not re.match(r'(?i).*\\bhate', x), clean_tags))  # tags containing \"Hate\"\n",
    "    clean_tags = list(filter(lambda x : not re.match(r'(?i).*like', x), clean_tags))  # tags containing \"Like\"\n",
    "    \n",
    "    \n",
    "    # We also filter all tags with a less than 3 characters.\n",
    "    clean_tags = list(filter(lambda x : len(x) > 2, clean_tags))\n",
    "    \n",
    "    return clean_tags\n",
    "    \n",
    "print(\"Number of tags before cleaning : \" + str(len(tags_shs)))\n",
    "tags_shs = list(np.unique(clean_up_tags(tags_shs)))\n",
    "print(\"Number of tags after cleaning : \" + str(len(tags_shs)))"
   ]
  },
  {
   "cell_type": "markdown",
   "metadata": {},
   "source": [
    "In order assign a genre to each song, we will use their different tags and try to match it with a list of genre obtained by webscrapping the http://www.musicgenreslist.com website. For more details on the webscrapping see the notebook Genre Webscrapping.ipynb."
   ]
  },
  {
   "cell_type": "code",
   "execution_count": 384,
   "metadata": {},
   "outputs": [],
   "source": [
    "genre_dict = pickle.load(open(\"data/genres_categories.p\", \"rb\"))\n",
    "all_genres = pickle.load(open(\"data/all_genres.p\", \"rb\"))"
   ]
  },
  {
   "cell_type": "markdown",
   "metadata": {},
   "source": [
    "The all_genres list contains all the genres together, and the genre_dict is a dictionary each \"general\" genre to its subgenres, e.g. for \"Rock\" below, we can find Acid Rock, Afro Punk, Alternative Rock, and more."
   ]
  },
  {
   "cell_type": "code",
   "execution_count": 385,
   "metadata": {},
   "outputs": [
    {
     "data": {
      "text/plain": [
       "['Acid Rock',\n",
       " 'Adult-Oriented Rock',\n",
       " 'Afro Punk',\n",
       " 'Adult Alternative',\n",
       " 'Alternative Rock']"
      ]
     },
     "execution_count": 385,
     "metadata": {},
     "output_type": "execute_result"
    }
   ],
   "source": [
    "genre_dict[\"Rock\"][:5]"
   ]
  },
  {
   "cell_type": "markdown",
   "metadata": {},
   "source": [
    "We first proceed to a basic matching : if the tag is contained in a genre, and vice versa, then we have a match."
   ]
  },
  {
   "cell_type": "code",
   "execution_count": 386,
   "metadata": {},
   "outputs": [],
   "source": [
    "def tag_in_genre(t, genre):\n",
    "    g = genre.lower().replace(\"&\", \"n\")\n",
    "    match = \"\"\n",
    "    if \"/\" in g :\n",
    "        g1 = g.split(\"/\")[0]\n",
    "        g2 = g.split(\"/\")[1]\n",
    "        if (t in g1) or (g1 in t):\n",
    "            return genre.split(\"/\")[0]\n",
    "        elif (t in g2) or (g2 in t):\n",
    "            match = genre.split(\"/\")[1]\n",
    "        else: \n",
    "            match = \"\"\n",
    "    elif (t in g) or (g in t) :\n",
    "        match = genre\n",
    "    return match\n",
    "\n",
    "def generalize_match(match, genres):\n",
    "    for g in genres.keys():\n",
    "        if match in genres[g]:\n",
    "            return g\n",
    "    return match\n",
    "    \n",
    "def first_matching(genres, tags, all_genres):\n",
    "    tag_to_genre = {}\n",
    "    no_match = []\n",
    "    for tag in tags:\n",
    "        match = \"\"\n",
    "        t = tag.lower().replace(\"'\", \"\").replace(\"&\", \"n\")\n",
    "        for genre in genres.keys():\n",
    "            if match == \"\":\n",
    "                match = tag_in_genre(t, genre)\n",
    "        if match == \"\":\n",
    "            for genre in all_genres:\n",
    "                if match == \"\":\n",
    "                    match = tag_in_genre(t, genre)\n",
    "            if match == \"\":\n",
    "                no_match.append(tag)\n",
    "            else:\n",
    "                match = generalize_match(match, genres)\n",
    "        \n",
    "        tag_to_genre[tag] = match\n",
    "    return (tag_to_genre, no_match)"
   ]
  },
  {
   "cell_type": "code",
   "execution_count": 387,
   "metadata": {},
   "outputs": [],
   "source": [
    "(tag_to_genre, no_match) = first_matching(genre_dict, tags_shs, all_genres)"
   ]
  },
  {
   "cell_type": "code",
   "execution_count": 388,
   "metadata": {},
   "outputs": [
    {
     "name": "stdout",
     "output_type": "stream",
     "text": [
      "Number of tags : 66336       \n",
      "Number of tags matching a genre : 13088       \n",
      "Percentage of matching =  19.73 %\n"
     ]
    }
   ],
   "source": [
    "print(\"Number of tags : {} \\\n",
    "      \\nNumber of tags matching a genre : {} \\\n",
    "      \\nPercentage of matching = {: .2f} %\"\\\n",
    "      .format(len(tag_to_genre), len(tag_to_genre)-len(no_match), 100 - len(no_match)/len(tag_to_genre)*100))"
   ]
  },
  {
   "cell_type": "markdown",
   "metadata": {},
   "source": [
    "Around 20% of the tags (not all the tags, as we already removed some garbage tags before) correspong to a matching. \n",
    "\n",
    "We will now try to assign a genre for each track we have."
   ]
  },
  {
   "cell_type": "code",
   "execution_count": 389,
   "metadata": {},
   "outputs": [],
   "source": [
    "def find_match(tags, tag_to_genre):\n",
    "    if type(tags) == float:\n",
    "        return tags\n",
    "    else:\n",
    "        for tag in tags:\n",
    "            if tag[0] in tag_to_genre.keys() and tag_to_genre[tag[0]] != \"\":\n",
    "                return tag_to_genre[tag[0]]\n",
    "        return np.nan"
   ]
  },
  {
   "cell_type": "code",
   "execution_count": 394,
   "metadata": {},
   "outputs": [
    {
     "data": {
      "text/html": [
       "<div>\n",
       "<style>\n",
       "    .dataframe thead tr:only-child th {\n",
       "        text-align: right;\n",
       "    }\n",
       "\n",
       "    .dataframe thead th {\n",
       "        text-align: left;\n",
       "    }\n",
       "\n",
       "    .dataframe tbody tr th {\n",
       "        vertical-align: top;\n",
       "    }\n",
       "</style>\n",
       "<table border=\"1\" class=\"dataframe\">\n",
       "  <thead>\n",
       "    <tr style=\"text-align: right;\">\n",
       "      <th></th>\n",
       "      <th>title</th>\n",
       "      <th>tags</th>\n",
       "      <th>artist</th>\n",
       "      <th>genre</th>\n",
       "    </tr>\n",
       "    <tr>\n",
       "      <th>track_id</th>\n",
       "      <th></th>\n",
       "      <th></th>\n",
       "      <th></th>\n",
       "      <th></th>\n",
       "    </tr>\n",
       "  </thead>\n",
       "  <tbody>\n",
       "    <tr>\n",
       "      <th>TRGDMZP128F42BC52B</th>\n",
       "      <td>Stardust</td>\n",
       "      <td>[[jazz, 100], [trumpet, 75], [swing, 50], [My ...</td>\n",
       "      <td>Louis Armstrong &amp; His Orchestra</td>\n",
       "      <td>Jazz</td>\n",
       "    </tr>\n",
       "    <tr>\n",
       "      <th>TRCATYW12903D038FE</th>\n",
       "      <td>Stardust</td>\n",
       "      <td>[[jazz, 100], [Big Band, 100], [trumpet, 40], ...</td>\n",
       "      <td>Artie Shaw And His Orchestra</td>\n",
       "      <td>Jazz</td>\n",
       "    </tr>\n",
       "    <tr>\n",
       "      <th>TRVMZJZ128F4270CE4</th>\n",
       "      <td>Star Dust</td>\n",
       "      <td>[[jazz standard, 100], [jazz standards, 100], ...</td>\n",
       "      <td>Hoagy Carmichael</td>\n",
       "      <td>Jazz</td>\n",
       "    </tr>\n",
       "    <tr>\n",
       "      <th>TROJZTF128F428B546</th>\n",
       "      <td>Yo vengo a ofrecer mi corazón</td>\n",
       "      <td>[[Ana Belen, 100], [new age, 66], [puro alt, 6...</td>\n",
       "      <td>Ana Belén</td>\n",
       "      <td>New Age</td>\n",
       "    </tr>\n",
       "    <tr>\n",
       "      <th>TRYQEDQ128F427917C</th>\n",
       "      <td>Yo Vengo A Ofrecer Mi Corazon</td>\n",
       "      <td>[[fito paez, 100], [Ro de la Plata, 20], [chai...</td>\n",
       "      <td>Fito Páez</td>\n",
       "      <td>Rock</td>\n",
       "    </tr>\n",
       "    <tr>\n",
       "      <th>TRCKNGE128F92DA3F3</th>\n",
       "      <td>Mr. Blue Sky</td>\n",
       "      <td>[[classic rock, 100], [70s, 77], [rock, 57], [...</td>\n",
       "      <td>Electric Light Orchestra</td>\n",
       "      <td>Rock</td>\n",
       "    </tr>\n",
       "    <tr>\n",
       "      <th>TRIOPLY128F423CFF3</th>\n",
       "      <td>Mr Blue Sky</td>\n",
       "      <td>[[pop, 100], [cover, 100], [happy, 44], [alter...</td>\n",
       "      <td>Lily Allen</td>\n",
       "      <td>Pop</td>\n",
       "    </tr>\n",
       "    <tr>\n",
       "      <th>TRWNDEU128F9329BF7</th>\n",
       "      <td>Mr Your On Fire Mr</td>\n",
       "      <td>[[post-punk, 100], [indie, 50], [2001, 50], [a...</td>\n",
       "      <td>Liars</td>\n",
       "      <td>Alternative</td>\n",
       "    </tr>\n",
       "    <tr>\n",
       "      <th>TRYOPHS128F146DEFD</th>\n",
       "      <td>Mr You're on Fire Mr</td>\n",
       "      <td>[[punk, 100], [covers, 80], [alternative, 80],...</td>\n",
       "      <td>Yeah Yeah Yeahs</td>\n",
       "      <td>Alternative</td>\n",
       "    </tr>\n",
       "    <tr>\n",
       "      <th>TRMBSQR128F92DF66E</th>\n",
       "      <td>More More More</td>\n",
       "      <td>[[Disco, 100], [70s, 62], [pop, 30], [sexy, 16...</td>\n",
       "      <td>Andrea True Connection</td>\n",
       "      <td>R&amp;B/Soul</td>\n",
       "    </tr>\n",
       "    <tr>\n",
       "      <th>TRQNZCE128E078A9C0</th>\n",
       "      <td>More, More, More</td>\n",
       "      <td>[[pop, 100], [80s, 75], [female vocalists, 75]...</td>\n",
       "      <td>Bananarama</td>\n",
       "      <td>Pop</td>\n",
       "    </tr>\n",
       "    <tr>\n",
       "      <th>TRTUJKS128F4262F5F</th>\n",
       "      <td>Moonage Daydream (Live)</td>\n",
       "      <td>[[glam rock, 100], [david bowie, 85], [rock, 7...</td>\n",
       "      <td>David Bowie</td>\n",
       "      <td>Rock</td>\n",
       "    </tr>\n",
       "    <tr>\n",
       "      <th>TRLLCAL128F428B903</th>\n",
       "      <td>Moonage Daydream</td>\n",
       "      <td>[[covers, 100], [cover, 100], [garage, 100], [...</td>\n",
       "      <td>Zen Guerrilla</td>\n",
       "      <td>Dance</td>\n",
       "    </tr>\n",
       "    <tr>\n",
       "      <th>TRGYREY128E0791913</th>\n",
       "      <td>Monday_ Monday</td>\n",
       "      <td>NaN</td>\n",
       "      <td>The Mamas &amp; The Papas</td>\n",
       "      <td>NaN</td>\n",
       "    </tr>\n",
       "    <tr>\n",
       "      <th>TRBLBSR128F425EBFE</th>\n",
       "      <td>Memphis Tennessee</td>\n",
       "      <td>[[electronic, 100], [voyage of the rock aliens...</td>\n",
       "      <td>Silicon Teens</td>\n",
       "      <td>Electronic</td>\n",
       "    </tr>\n",
       "    <tr>\n",
       "      <th>TRLRWJK128F427D602</th>\n",
       "      <td>Memphis, Tennessee</td>\n",
       "      <td>[[Rock and Roll, 100], [50s, 100], [Rock  Roll...</td>\n",
       "      <td>Chuck Berry</td>\n",
       "      <td>Rock</td>\n",
       "    </tr>\n",
       "    <tr>\n",
       "      <th>TRYEKWE128F1459C42</th>\n",
       "      <td>I Am A Man Of Constant Sorrow</td>\n",
       "      <td>[[bluegrass, 100], [country, 69], [Soundtrack,...</td>\n",
       "      <td>The Soggy Bottom Boys</td>\n",
       "      <td>Country</td>\n",
       "    </tr>\n",
       "    <tr>\n",
       "      <th>TRYXXWR12903CA7191</th>\n",
       "      <td>Lowrider</td>\n",
       "      <td>[[Nu Metal, 100], [Korn, 73], [90s, 33], [cove...</td>\n",
       "      <td>Korn</td>\n",
       "      <td>Rock</td>\n",
       "    </tr>\n",
       "    <tr>\n",
       "      <th>TRTTEXX128F428BE1D</th>\n",
       "      <td>Lowrider</td>\n",
       "      <td>[[punk, 100], [cover, 66], [horrible covers, 66]]</td>\n",
       "      <td>JFA</td>\n",
       "      <td>Alternative</td>\n",
       "    </tr>\n",
       "    <tr>\n",
       "      <th>TRQPBQV128F423C1E9</th>\n",
       "      <td>Low Rider</td>\n",
       "      <td>[[funk, 100], [70s, 42], [classic rock, 30], [...</td>\n",
       "      <td>War</td>\n",
       "      <td>R&amp;B/Soul</td>\n",
       "    </tr>\n",
       "  </tbody>\n",
       "</table>\n",
       "</div>"
      ],
      "text/plain": [
       "                                            title  \\\n",
       "track_id                                            \n",
       "TRGDMZP128F42BC52B                       Stardust   \n",
       "TRCATYW12903D038FE                       Stardust   \n",
       "TRVMZJZ128F4270CE4                      Star Dust   \n",
       "TROJZTF128F428B546  Yo vengo a ofrecer mi corazón   \n",
       "TRYQEDQ128F427917C  Yo Vengo A Ofrecer Mi Corazon   \n",
       "TRCKNGE128F92DA3F3                   Mr. Blue Sky   \n",
       "TRIOPLY128F423CFF3                    Mr Blue Sky   \n",
       "TRWNDEU128F9329BF7             Mr Your On Fire Mr   \n",
       "TRYOPHS128F146DEFD           Mr You're on Fire Mr   \n",
       "TRMBSQR128F92DF66E                 More More More   \n",
       "TRQNZCE128E078A9C0               More, More, More   \n",
       "TRTUJKS128F4262F5F        Moonage Daydream (Live)   \n",
       "TRLLCAL128F428B903               Moonage Daydream   \n",
       "TRGYREY128E0791913                 Monday_ Monday   \n",
       "TRBLBSR128F425EBFE              Memphis Tennessee   \n",
       "TRLRWJK128F427D602             Memphis, Tennessee   \n",
       "TRYEKWE128F1459C42  I Am A Man Of Constant Sorrow   \n",
       "TRYXXWR12903CA7191                       Lowrider   \n",
       "TRTTEXX128F428BE1D                       Lowrider   \n",
       "TRQPBQV128F423C1E9                      Low Rider   \n",
       "\n",
       "                                                                 tags  \\\n",
       "track_id                                                                \n",
       "TRGDMZP128F42BC52B  [[jazz, 100], [trumpet, 75], [swing, 50], [My ...   \n",
       "TRCATYW12903D038FE  [[jazz, 100], [Big Band, 100], [trumpet, 40], ...   \n",
       "TRVMZJZ128F4270CE4  [[jazz standard, 100], [jazz standards, 100], ...   \n",
       "TROJZTF128F428B546  [[Ana Belen, 100], [new age, 66], [puro alt, 6...   \n",
       "TRYQEDQ128F427917C  [[fito paez, 100], [Ro de la Plata, 20], [chai...   \n",
       "TRCKNGE128F92DA3F3  [[classic rock, 100], [70s, 77], [rock, 57], [...   \n",
       "TRIOPLY128F423CFF3  [[pop, 100], [cover, 100], [happy, 44], [alter...   \n",
       "TRWNDEU128F9329BF7  [[post-punk, 100], [indie, 50], [2001, 50], [a...   \n",
       "TRYOPHS128F146DEFD  [[punk, 100], [covers, 80], [alternative, 80],...   \n",
       "TRMBSQR128F92DF66E  [[Disco, 100], [70s, 62], [pop, 30], [sexy, 16...   \n",
       "TRQNZCE128E078A9C0  [[pop, 100], [80s, 75], [female vocalists, 75]...   \n",
       "TRTUJKS128F4262F5F  [[glam rock, 100], [david bowie, 85], [rock, 7...   \n",
       "TRLLCAL128F428B903  [[covers, 100], [cover, 100], [garage, 100], [...   \n",
       "TRGYREY128E0791913                                                NaN   \n",
       "TRBLBSR128F425EBFE  [[electronic, 100], [voyage of the rock aliens...   \n",
       "TRLRWJK128F427D602  [[Rock and Roll, 100], [50s, 100], [Rock  Roll...   \n",
       "TRYEKWE128F1459C42  [[bluegrass, 100], [country, 69], [Soundtrack,...   \n",
       "TRYXXWR12903CA7191  [[Nu Metal, 100], [Korn, 73], [90s, 33], [cove...   \n",
       "TRTTEXX128F428BE1D  [[punk, 100], [cover, 66], [horrible covers, 66]]   \n",
       "TRQPBQV128F423C1E9  [[funk, 100], [70s, 42], [classic rock, 30], [...   \n",
       "\n",
       "                                             artist        genre  \n",
       "track_id                                                          \n",
       "TRGDMZP128F42BC52B  Louis Armstrong & His Orchestra         Jazz  \n",
       "TRCATYW12903D038FE     Artie Shaw And His Orchestra         Jazz  \n",
       "TRVMZJZ128F4270CE4                 Hoagy Carmichael         Jazz  \n",
       "TROJZTF128F428B546                        Ana Belén      New Age  \n",
       "TRYQEDQ128F427917C                        Fito Páez         Rock  \n",
       "TRCKNGE128F92DA3F3         Electric Light Orchestra         Rock  \n",
       "TRIOPLY128F423CFF3                       Lily Allen          Pop  \n",
       "TRWNDEU128F9329BF7                            Liars  Alternative  \n",
       "TRYOPHS128F146DEFD                  Yeah Yeah Yeahs  Alternative  \n",
       "TRMBSQR128F92DF66E           Andrea True Connection     R&B/Soul  \n",
       "TRQNZCE128E078A9C0                       Bananarama          Pop  \n",
       "TRTUJKS128F4262F5F                      David Bowie         Rock  \n",
       "TRLLCAL128F428B903                    Zen Guerrilla        Dance  \n",
       "TRGYREY128E0791913            The Mamas & The Papas          NaN  \n",
       "TRBLBSR128F425EBFE                    Silicon Teens   Electronic  \n",
       "TRLRWJK128F427D602                      Chuck Berry         Rock  \n",
       "TRYEKWE128F1459C42            The Soggy Bottom Boys      Country  \n",
       "TRYXXWR12903CA7191                             Korn         Rock  \n",
       "TRTTEXX128F428BE1D                              JFA  Alternative  \n",
       "TRQPBQV128F423C1E9                              War     R&B/Soul  "
      ]
     },
     "execution_count": 394,
     "metadata": {},
     "output_type": "execute_result"
    }
   ],
   "source": [
    "tracks_with_tags['genre'] = tracks_with_tags['tags'].map(lambda x : find_match(x, tag_to_genre))\n",
    "tracks_with_tags.head(20)"
   ]
  },
  {
   "cell_type": "code",
   "execution_count": 350,
   "metadata": {},
   "outputs": [
    {
     "name": "stdout",
     "output_type": "stream",
     "text": [
      "On 15856 tracks, 12554 (79.18 %) have tags, and we can assign a genre for 11263 of them, which represent 71.03 % of the total number of tracks, but 89.72 % of tags for which we have tags.\n"
     ]
    }
   ],
   "source": [
    "total_tracks = len(tracks_with_tags)\n",
    "tracks_with_genre_nb = len(tracks_with_tags.dropna(axis=0, how=\"any\"))\n",
    "tracks_with_tags_nb = len(tracks_with_tags[['title', 'tags']].dropna(axis=0, how=\"any\"))\n",
    "\n",
    "print(\"On {} tracks, {} ({:.2f} %) have tags, and we can assign a genre for {} of them, \\\n",
    "which represent {:.2f} % of the total number of tracks, but {:.2f} % of tags for which we have tags.\"\\\n",
    "      .format(total_tracks, tracks_with_tags_nb, 100*tracks_with_tags_nb/total_tracks, tracks_with_genre_nb, \\\n",
    "              100*tracks_with_genre_nb/total_tracks, 100*tracks_with_genre_nb/tracks_with_tags_nb))"
   ]
  },
  {
   "cell_type": "code",
   "execution_count": 397,
   "metadata": {},
   "outputs": [],
   "source": [
    "pickle.dump(tracks_with_tags, open(\"data/genres_shs.p\", \"wb\"))"
   ]
  }
 ],
 "metadata": {
  "kernelspec": {
   "display_name": "Python 3",
   "language": "python",
   "name": "python3"
  },
  "language_info": {
   "codemirror_mode": {
    "name": "ipython",
    "version": 3
   },
   "file_extension": ".py",
   "mimetype": "text/x-python",
   "name": "python",
   "nbconvert_exporter": "python",
   "pygments_lexer": "ipython3",
   "version": "3.6.3"
  }
 },
 "nbformat": 4,
 "nbformat_minor": 2
}
