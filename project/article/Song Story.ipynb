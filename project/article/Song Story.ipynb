{
 "cells": [
  {
   "cell_type": "markdown",
   "metadata": {},
   "source": [
    "# Project story\n",
    "### Follow the evolution of \"My way\"\n",
    "\n",
    "#### Plan\n",
    "- 14 covers in our dataset and 289 on SHS website\n",
    "- Web-scrapping of the covers we don't have\n",
    "- Have at least Country/Year/Language/Artist/Title for each song\n"
   ]
  },
  {
   "cell_type": "code",
   "execution_count": 47,
   "metadata": {
    "collapsed": true
   },
   "outputs": [],
   "source": [
    "# Import libraries\n",
    "import pandas as pd\n",
    "import numpy as np\n",
    "import json\n",
    "import matplotlib.pyplot as plt\n",
    "import seaborn as sns\n",
    "import folium\n",
    "from io import StringIO\n",
    "import sys\n",
    "import requests\n",
    "from bs4 import BeautifulSoup\n",
    "import pickle\n",
    "import os\n",
    "import glob\n",
    "from pathlib import Path"
   ]
  },
  {
   "cell_type": "code",
   "execution_count": null,
   "metadata": {},
   "outputs": [],
   "source": [
    "# Clique for \"My Way\"\n",
    "covers.loc[1190]"
   ]
  },
  {
   "cell_type": "code",
   "execution_count": 48,
   "metadata": {
    "collapsed": true
   },
   "outputs": [],
   "source": [
    "r=requests.get('https://secondhandsongs.com/work/4250/versions#nav-entity')\n",
    "soup = BeautifulSoup(r.text, 'html.parser')\n"
   ]
  },
  {
   "cell_type": "code",
   "execution_count": 49,
   "metadata": {},
   "outputs": [
    {
     "data": {
      "text/plain": [
       "27"
      ]
     },
     "execution_count": 49,
     "metadata": {},
     "output_type": "execute_result"
    }
   ],
   "source": [
    "len(soup.find_all('table'))"
   ]
  },
  {
   "cell_type": "code",
   "execution_count": 50,
   "metadata": {},
   "outputs": [
    {
     "data": {
      "text/plain": [
       "<tr itemprop=\"recordedAs\" itemscope=\"\" itemtype=\"http://schema.org/MusicRecording\">\n",
       "<td class=\"field-icon\"></td>\n",
       "<td class=\"field-title\"><a class=\"link-performance\" href=\"/performance/491567/versions\" itemprop=\"url\"><span itemprop=\"name\">Comme d'habitude</span></a></td>\n",
       "<td class=\"field-performer\"><span itemprop=\"byArtist\" itemscope=\"\" itemtype=\"http://schema.org/MusicGroup\"><a class=\"link-performer\" href=\"/artist/26302\" itemprop=\"url\"><span itemprop=\"name\">M. Pokora</span></a></span></td>\n",
       "<td class=\"field-date\">October 21, 2016</td>\n",
       "<td class=\"field-info\"></td>\n",
       "</tr>"
      ]
     },
     "execution_count": 50,
     "metadata": {},
     "output_type": "execute_result"
    }
   ],
   "source": [
    "soup.find_all('table')[0].find('tbody').find_all('tr')[15]"
   ]
  },
  {
   "cell_type": "code",
   "execution_count": 51,
   "metadata": {},
   "outputs": [
    {
     "data": {
      "text/plain": [
       "'41140'"
      ]
     },
     "execution_count": 51,
     "metadata": {},
     "output_type": "execute_result"
    }
   ],
   "source": [
    "soup.find_all('table')[17].find('tbody').find_all('tr')[0].find('td',attrs={'class':'field-performer'}).find('a')['href'].split('/')[2]"
   ]
  },
  {
   "cell_type": "code",
   "execution_count": 52,
   "metadata": {
    "collapsed": true
   },
   "outputs": [],
   "source": [
    "# Functions to search for each track \"My Way\" informations about its language, its released date and artist informations\n",
    "def myWay_versions(table_id) :\n",
    "    \n",
    "    songs_table=[]\n",
    "    nb_elems=len(soup.find_all('table')[table_id].find('tbody').find_all('tr')) \n",
    "    \n",
    "    for i in range(0,nb_elems) : # Go through all the tracks contained in the table\n",
    "        elem_sect=soup.find_all('table')[table_id].find('tbody').find_all('tr')[i]\n",
    "        song_sect=elem_sect.find('td',attrs={'class':'field-title'})\n",
    "        artist_sect=elem_sect.find('td',attrs={'class':'field-performer'})\n",
    "        info_sect=elem_sect.find('td',attrs={'class':'field-info'})\n",
    "        \n",
    "        if info_sect.text=='Submitted' :\n",
    "            status='case'\n",
    "        else :\n",
    "            status='performance'\n",
    "    \n",
    "        artist_id=artist_sect.find('a')\n",
    "        \n",
    "        if artist_id is None :\n",
    "            artist_id='Missing'\n",
    "        else :\n",
    "            artist_id=artist_id['href'].split('/')[2]\n",
    "            \n",
    "            if artist_id.find('+')!=-1 : #For featuring (several artist_id) keep first one\n",
    "                artist_id=int(artist_id.split('+')[0])\n",
    "            else :\n",
    "                artist_id=int(artist_id)\n",
    "        \n",
    "        artist_name=artist_sect.text\n",
    "        song_id=int(song_sect.find('a')['href'].split('/')[2])\n",
    "        song_name=song_sect.text\n",
    "        perfLanguage, perfDate, artist_nationality = get_info(song_id,artist_id,status)\n",
    "        songs_table.append([artist_name, song_name, perfLanguage, perfDate, artist_nationality])\n",
    "    \n",
    "    return songs_table\n",
    "    \n",
    "    \n",
    "def get_info(song_id,artist_id,status) :     \n",
    "# Web-scrapping of performance page (language and released year of the track)\n",
    "    song_request = requests.get('https://secondhandsongs.com/'+status+'/'+str(song_id)) # Access to the song page on SHS\n",
    "\n",
    "    song_soup = BeautifulSoup(song_request.text, 'html.parser')\n",
    "    perfMeta=song_soup.find('dl',attrs={'class':'dl-horizontal'})\n",
    "\n",
    "    if perfMeta is None :\n",
    "        perfLanguage='Missing'\n",
    "        perfDate='Missing'\n",
    "    else :\n",
    "        # Extract language\n",
    "        perfLanguage=perfMeta.find('dd',attrs={'itemprop':'inLanguage'})\n",
    "        if perfLanguage is None :\n",
    "            \n",
    "            if perfMeta.find_all('dd') is None :\n",
    "                perfLanguage='Missing'\n",
    "            else :\n",
    "                perfLanguage1=perfMeta.find_all('dd')[3].text.replace(\" \",\"\").strip('\\n').rstrip('\\n')\n",
    "                perfLanguage2=perfMeta.find_all('dd')[2].text.replace(\" \",\"\").strip('\\n').rstrip('\\n')\n",
    "                \n",
    "                if (perfLanguage1=='') & (perfLanguage2 !='') :\n",
    "                    perfLanguage=perfLanguage2\n",
    "                elif (perfLanguage2=='') & (perfLanguage1 !='') :\n",
    "                    perfLanguage=perfLanguage1\n",
    "                else :\n",
    "                    perfLanguage='Missing'\n",
    "                \n",
    "            \n",
    "        else :\n",
    "            perfLanguage=perfLanguage.text\n",
    "\n",
    "        # Extract released date    \n",
    "        perfDate=perfMeta.find('div',attrs={'class':'media-body'})\n",
    "        if perfDate is None :\n",
    "            \n",
    "            if perfMeta.find_all('dd') is None :\n",
    "                perfDate='Missing'\n",
    "            else :\n",
    "                perfDate=perfMeta.find_all('dd')[6].text\n",
    "            \n",
    "        else :\n",
    "            perfDate=perfDate.find('p').text.split('\\n')[2].strip(' ')\n",
    "\n",
    "# Web-scrapping of performance page (language and released year of the track)\n",
    "\n",
    "    if artist_id=='Missing':\n",
    "        artist_nationality='Missing'\n",
    "    else :\n",
    "        \n",
    "        artist_request = requests.get('https://secondhandsongs.com/artist/'+str(artist_id)) # Access to the song page on SHS\n",
    "        artist_soup = BeautifulSoup(artist_request.text, 'html.parser')\n",
    "        artist_nationality=artist_soup.find('dl',attrs={'class':'dl-horizontal'}).find('dd',attrs={'itemprop':'nationality'})\n",
    "\n",
    "        if artist_nationality is None :\n",
    "            artist_nationality='Missing'\n",
    "        else :\n",
    "            artist_nationality=artist_nationality.text.split(' ')[-1].rstrip('\\n')\n",
    "\n",
    "    return perfLanguage, perfDate, artist_nationality\n",
    "    "
   ]
  },
  {
   "cell_type": "code",
   "execution_count": 53,
   "metadata": {
    "collapsed": true
   },
   "outputs": [],
   "source": [
    "myWay=pd.DataFrame()"
   ]
  },
  {
   "cell_type": "code",
   "execution_count": 54,
   "metadata": {
    "collapsed": true
   },
   "outputs": [],
   "source": [
    "#for i in range(0,len(soup.find_all('table'))):\n",
    "#    myWay=myWay.append(myWay_versions(i))"
   ]
  },
  {
   "cell_type": "code",
   "execution_count": 75,
   "metadata": {},
   "outputs": [],
   "source": [
    "#pickle.dump(myWay,open('data/song_story.p','wb'))\n",
    "myWay=pickle.load(open('song_story.p','rb'))"
   ]
  },
  {
   "cell_type": "code",
   "execution_count": 71,
   "metadata": {},
   "outputs": [],
   "source": [
    "# Rename unvalid country (cut with algorithm)\n",
    "myWay.replace(['Kingdom','States'],['United Kingdom','United States'],inplace=True)"
   ]
  },
  {
   "cell_type": "code",
   "execution_count": 72,
   "metadata": {},
   "outputs": [],
   "source": [
    "# Rename columns\n",
    "myWay.columns=['artist','title','language','date','location']\n",
    "myWay.reset_index(drop=True,inplace=True)"
   ]
  },
  {
   "cell_type": "code",
   "execution_count": 73,
   "metadata": {
    "collapsed": true
   },
   "outputs": [],
   "source": [
    "myWay['year']=myWay.date.str[-4:]\n",
    "myWay.drop('date',axis=1,inplace=True)"
   ]
  },
  {
   "cell_type": "code",
   "execution_count": 78,
   "metadata": {},
   "outputs": [
    {
     "data": {
      "text/html": [
       "<div>\n",
       "<style>\n",
       "    .dataframe thead tr:only-child th {\n",
       "        text-align: right;\n",
       "    }\n",
       "\n",
       "    .dataframe thead th {\n",
       "        text-align: left;\n",
       "    }\n",
       "\n",
       "    .dataframe tbody tr th {\n",
       "        vertical-align: top;\n",
       "    }\n",
       "</style>\n",
       "<table border=\"1\" class=\"dataframe\">\n",
       "  <thead>\n",
       "    <tr style=\"text-align: right;\">\n",
       "      <th></th>\n",
       "      <th>artist</th>\n",
       "      <th>title</th>\n",
       "      <th>language</th>\n",
       "      <th>location</th>\n",
       "      <th>year</th>\n",
       "    </tr>\n",
       "  </thead>\n",
       "  <tbody>\n",
       "    <tr>\n",
       "      <th>0</th>\n",
       "      <td>Claude François</td>\n",
       "      <td>Comme d'habitude</td>\n",
       "      <td>French</td>\n",
       "      <td>France</td>\n",
       "      <td>1967</td>\n",
       "    </tr>\n",
       "    <tr>\n",
       "      <th>1</th>\n",
       "      <td>Michel Pagliaro</td>\n",
       "      <td>Comme d'habitude</td>\n",
       "      <td>French</td>\n",
       "      <td>Canada</td>\n",
       "      <td>1968</td>\n",
       "    </tr>\n",
       "    <tr>\n",
       "      <th>2</th>\n",
       "      <td>Michel Sardou</td>\n",
       "      <td>Comme d'habitude</td>\n",
       "      <td>French</td>\n",
       "      <td>France</td>\n",
       "      <td>1978</td>\n",
       "    </tr>\n",
       "    <tr>\n",
       "      <th>3</th>\n",
       "      <td>Hervé Vilard</td>\n",
       "      <td>Comme d'habitude</td>\n",
       "      <td>French</td>\n",
       "      <td>France</td>\n",
       "      <td>1984</td>\n",
       "    </tr>\n",
       "    <tr>\n",
       "      <th>4</th>\n",
       "      <td>Mireille Mathieu</td>\n",
       "      <td>Comme d'habitude</td>\n",
       "      <td>French</td>\n",
       "      <td>France</td>\n",
       "      <td>1985</td>\n",
       "    </tr>\n",
       "  </tbody>\n",
       "</table>\n",
       "</div>"
      ],
      "text/plain": [
       "             artist             title language location  year\n",
       "0   Claude François  Comme d'habitude   French   France  1967\n",
       "1   Michel Pagliaro  Comme d'habitude   French   Canada  1968\n",
       "2     Michel Sardou  Comme d'habitude   French   France  1978\n",
       "3      Hervé Vilard  Comme d'habitude   French   France  1984\n",
       "4  Mireille Mathieu  Comme d'habitude   French   France  1985"
      ]
     },
     "execution_count": 78,
     "metadata": {},
     "output_type": "execute_result"
    }
   ],
   "source": [
    "myWay.head()"
   ]
  },
  {
   "cell_type": "code",
   "execution_count": 79,
   "metadata": {},
   "outputs": [
    {
     "name": "stdout",
     "output_type": "stream",
     "text": [
      "Number of missing artists :  0\n",
      "Number of missing titles :  0\n",
      "Number of missing languages :  0\n",
      "Number of missing years :  0\n",
      "Number of missing locations :  0\n"
     ]
    }
   ],
   "source": [
    "print('Number of missing artists : ', len(myWay[myWay.artist=='Missing']))\n",
    "print('Number of missing titles : ', len(myWay[myWay.title=='Missing']))\n",
    "print('Number of missing languages : ', len(myWay[myWay.language=='Missing']))\n",
    "print('Number of missing years : ', len(myWay[myWay.year=='Missing']))\n",
    "print('Number of missing locations : ', len(myWay[myWay.location=='Missing']))"
   ]
  },
  {
   "cell_type": "code",
   "execution_count": 80,
   "metadata": {},
   "outputs": [
    {
     "data": {
      "text/html": [
       "<div>\n",
       "<style>\n",
       "    .dataframe thead tr:only-child th {\n",
       "        text-align: right;\n",
       "    }\n",
       "\n",
       "    .dataframe thead th {\n",
       "        text-align: left;\n",
       "    }\n",
       "\n",
       "    .dataframe tbody tr th {\n",
       "        vertical-align: top;\n",
       "    }\n",
       "</style>\n",
       "<table border=\"1\" class=\"dataframe\">\n",
       "  <thead>\n",
       "    <tr style=\"text-align: right;\">\n",
       "      <th></th>\n",
       "      <th>artist</th>\n",
       "      <th>title</th>\n",
       "      <th>language</th>\n",
       "      <th>location</th>\n",
       "      <th>year</th>\n",
       "    </tr>\n",
       "  </thead>\n",
       "  <tbody>\n",
       "  </tbody>\n",
       "</table>\n",
       "</div>"
      ],
      "text/plain": [
       "Empty DataFrame\n",
       "Columns: [artist, title, language, location, year]\n",
       "Index: []"
      ]
     },
     "execution_count": 80,
     "metadata": {},
     "output_type": "execute_result"
    }
   ],
   "source": [
    "myWay[myWay.language=='Missing']"
   ]
  },
  {
   "cell_type": "code",
   "execution_count": 62,
   "metadata": {},
   "outputs": [],
   "source": [
    "myWay.loc[28, 'language'] = 'Instrumental'"
   ]
  },
  {
   "cell_type": "code",
   "execution_count": 63,
   "metadata": {},
   "outputs": [],
   "source": [
    "#Remove weird covers\n",
    "myWay.drop(157,axis=0,inplace=True)"
   ]
  },
  {
   "cell_type": "code",
   "execution_count": 64,
   "metadata": {},
   "outputs": [],
   "source": [
    "#Remove [1] in artist names\n",
    "myWay.replace('[1]','',inplace=True)"
   ]
  },
  {
   "cell_type": "code",
   "execution_count": null,
   "metadata": {},
   "outputs": [],
   "source": [
    "myWay.loc[[5,180],'location'] = 'Italy'\n",
    "myWay.loc[[9,236],'location'] = 'Switzerland'\n",
    "myWay.loc[[11],'location'] = 'Belgium'\n",
    "myWay.loc[[25,57,145,153],'location'] = 'United Kingdom'\n",
    "myWay.loc[[40,277],'location'] = 'France'\n",
    "myWay.loc[[60],'location'] = 'Poland'\n",
    "myWay.loc[[70],'location'] = 'Canada'\n",
    "myWay.loc[[72,188,221,250,278],'location'] = 'United States'\n",
    "myWay.loc[[72],'artist'] = 'Francky Perez'\n",
    "myWay.loc[[115,247],'location'] ='Czech Republic'\n",
    "myWay.loc[[156],'location'] ='Serbia'\n",
    "myWay.loc[[156],'artist']='Boba Stefanović'\n",
    "myWay.loc[[174,248],'location'] ='Spain'\n",
    "myWay.loc[[191],'location'] ='Brazil'\n",
    "myWay.loc[[208],'location'] ='Australia'\n",
    "myWay.loc[[218],'location'] ='Hungary'\n",
    "myWay.loc[[265,270,286],'location'] ='Germany'\n",
    "myWay.loc[[275],'location'] ='Russia'\n",
    "myWay.loc[[288],'location'] ='Austria'"
   ]
  },
  {
   "cell_type": "code",
   "execution_count": 82,
   "metadata": {
    "collapsed": true
   },
   "outputs": [],
   "source": [
    "myWay.drop(myWay[myWay.location=='Missing'].index,axis=0,inplace=True)"
   ]
  },
  {
   "cell_type": "code",
   "execution_count": 83,
   "metadata": {},
   "outputs": [
    {
     "data": {
      "text/html": [
       "<div>\n",
       "<style>\n",
       "    .dataframe thead tr:only-child th {\n",
       "        text-align: right;\n",
       "    }\n",
       "\n",
       "    .dataframe thead th {\n",
       "        text-align: left;\n",
       "    }\n",
       "\n",
       "    .dataframe tbody tr th {\n",
       "        vertical-align: top;\n",
       "    }\n",
       "</style>\n",
       "<table border=\"1\" class=\"dataframe\">\n",
       "  <thead>\n",
       "    <tr style=\"text-align: right;\">\n",
       "      <th></th>\n",
       "      <th>artist</th>\n",
       "      <th>title</th>\n",
       "      <th>language</th>\n",
       "      <th>location</th>\n",
       "      <th>year</th>\n",
       "    </tr>\n",
       "  </thead>\n",
       "  <tbody>\n",
       "  </tbody>\n",
       "</table>\n",
       "</div>"
      ],
      "text/plain": [
       "Empty DataFrame\n",
       "Columns: [artist, title, language, location, year]\n",
       "Index: []"
      ]
     },
     "execution_count": 83,
     "metadata": {},
     "output_type": "execute_result"
    }
   ],
   "source": [
    "myWay[myWay.location=='Missing']"
   ]
  },
  {
   "cell_type": "code",
   "execution_count": 138,
   "metadata": {
    "collapsed": true
   },
   "outputs": [],
   "source": [
    "#pickle.dump(myWay,open('song_story.p','wb'))\n",
    "myWay=pickle.load(open('song_story.p','rb'))"
   ]
  },
  {
   "cell_type": "code",
   "execution_count": 171,
   "metadata": {},
   "outputs": [
    {
     "data": {
      "text/html": [
       "<div>\n",
       "<style>\n",
       "    .dataframe thead tr:only-child th {\n",
       "        text-align: right;\n",
       "    }\n",
       "\n",
       "    .dataframe thead th {\n",
       "        text-align: left;\n",
       "    }\n",
       "\n",
       "    .dataframe tbody tr th {\n",
       "        vertical-align: top;\n",
       "    }\n",
       "</style>\n",
       "<table border=\"1\" class=\"dataframe\">\n",
       "  <thead>\n",
       "    <tr style=\"text-align: right;\">\n",
       "      <th></th>\n",
       "      <th>artist</th>\n",
       "      <th>title</th>\n",
       "      <th>language</th>\n",
       "      <th>location</th>\n",
       "      <th>year</th>\n",
       "    </tr>\n",
       "    <tr>\n",
       "      <th>index</th>\n",
       "      <th></th>\n",
       "      <th></th>\n",
       "      <th></th>\n",
       "      <th></th>\n",
       "      <th></th>\n",
       "    </tr>\n",
       "  </thead>\n",
       "  <tbody>\n",
       "    <tr>\n",
       "      <th>244</th>\n",
       "      <td>Ben L'Oncle Soul</td>\n",
       "      <td>My Way</td>\n",
       "      <td>English</td>\n",
       "      <td>France</td>\n",
       "      <td>2016</td>\n",
       "    </tr>\n",
       "    <tr>\n",
       "      <th>245</th>\n",
       "      <td>Jim Armstrong</td>\n",
       "      <td>My Way</td>\n",
       "      <td>English</td>\n",
       "      <td>United Kingdom</td>\n",
       "      <td>2016</td>\n",
       "    </tr>\n",
       "    <tr>\n",
       "      <th>246</th>\n",
       "      <td>Seth MacFarlane</td>\n",
       "      <td>My Way</td>\n",
       "      <td>English</td>\n",
       "      <td>United States</td>\n",
       "      <td>2016</td>\n",
       "    </tr>\n",
       "    <tr>\n",
       "      <th>256</th>\n",
       "      <td>Masa Mainds</td>\n",
       "      <td>Minun tieni</td>\n",
       "      <td>Finnish</td>\n",
       "      <td>Finland</td>\n",
       "      <td>2016</td>\n",
       "    </tr>\n",
       "    <tr>\n",
       "      <th>15</th>\n",
       "      <td>M. Pokora</td>\n",
       "      <td>Comme d'habitude</td>\n",
       "      <td>French</td>\n",
       "      <td>France</td>\n",
       "      <td>2016</td>\n",
       "    </tr>\n",
       "  </tbody>\n",
       "</table>\n",
       "</div>"
      ],
      "text/plain": [
       "                 artist             title language        location  year\n",
       "index                                                                   \n",
       "244    Ben L'Oncle Soul            My Way  English          France  2016\n",
       "245       Jim Armstrong            My Way  English  United Kingdom  2016\n",
       "246     Seth MacFarlane            My Way  English   United States  2016\n",
       "256         Masa Mainds       Minun tieni  Finnish         Finland  2016\n",
       "15            M. Pokora  Comme d'habitude   French          France  2016"
      ]
     },
     "execution_count": 171,
     "metadata": {},
     "output_type": "execute_result"
    }
   ],
   "source": [
    "myWay.sort_values('year').tail()"
   ]
  },
  {
   "cell_type": "code",
   "execution_count": 140,
   "metadata": {
    "collapsed": true
   },
   "outputs": [],
   "source": [
    "myWay.loc[[65,68,258,250],'location'] = 'Croatia'\n",
    "myWay.loc[[205,212,233,225],'location'] = 'New Zealand'"
   ]
  },
  {
   "cell_type": "code",
   "execution_count": 141,
   "metadata": {},
   "outputs": [
    {
     "data": {
      "text/plain": [
       "artist        Ray Quinn\n",
       "title            My Way\n",
       "language        English\n",
       "location    New Zealand\n",
       "year               2007\n",
       "Name: 205, dtype: object"
      ]
     },
     "execution_count": 141,
     "metadata": {},
     "output_type": "execute_result"
    }
   ],
   "source": [
    "myWay.loc[205]"
   ]
  },
  {
   "cell_type": "code",
   "execution_count": 155,
   "metadata": {
    "collapsed": true
   },
   "outputs": [],
   "source": []
  },
  {
   "cell_type": "code",
   "execution_count": 156,
   "metadata": {},
   "outputs": [
    {
     "data": {
      "text/html": [
       "<div>\n",
       "<style>\n",
       "    .dataframe thead tr:only-child th {\n",
       "        text-align: right;\n",
       "    }\n",
       "\n",
       "    .dataframe thead th {\n",
       "        text-align: left;\n",
       "    }\n",
       "\n",
       "    .dataframe tbody tr th {\n",
       "        vertical-align: top;\n",
       "    }\n",
       "</style>\n",
       "<table border=\"1\" class=\"dataframe\">\n",
       "  <thead>\n",
       "    <tr style=\"text-align: right;\">\n",
       "      <th></th>\n",
       "      <th>title</th>\n",
       "    </tr>\n",
       "    <tr>\n",
       "      <th>year</th>\n",
       "      <th></th>\n",
       "    </tr>\n",
       "  </thead>\n",
       "  <tbody>\n",
       "    <tr>\n",
       "      <th>1967</th>\n",
       "      <td>1</td>\n",
       "    </tr>\n",
       "    <tr>\n",
       "      <th>1968</th>\n",
       "      <td>2</td>\n",
       "    </tr>\n",
       "    <tr>\n",
       "      <th>1969</th>\n",
       "      <td>21</td>\n",
       "    </tr>\n",
       "    <tr>\n",
       "      <th>1970</th>\n",
       "      <td>20</td>\n",
       "    </tr>\n",
       "    <tr>\n",
       "      <th>1971</th>\n",
       "      <td>15</td>\n",
       "    </tr>\n",
       "  </tbody>\n",
       "</table>\n",
       "</div>"
      ],
      "text/plain": [
       "      title\n",
       "year       \n",
       "1967      1\n",
       "1968      2\n",
       "1969     21\n",
       "1970     20\n",
       "1971     15"
      ]
     },
     "execution_count": 156,
     "metadata": {},
     "output_type": "execute_result"
    }
   ],
   "source": [
    "myWay[['title','year']].groupby('year').agg('count').head()"
   ]
  },
  {
   "cell_type": "code",
   "execution_count": 157,
   "metadata": {},
   "outputs": [
    {
     "data": {
      "text/html": [
       "<div>\n",
       "<style>\n",
       "    .dataframe thead tr:only-child th {\n",
       "        text-align: right;\n",
       "    }\n",
       "\n",
       "    .dataframe thead th {\n",
       "        text-align: left;\n",
       "    }\n",
       "\n",
       "    .dataframe tbody tr th {\n",
       "        vertical-align: top;\n",
       "    }\n",
       "</style>\n",
       "<table border=\"1\" class=\"dataframe\">\n",
       "  <thead>\n",
       "    <tr style=\"text-align: right;\">\n",
       "      <th></th>\n",
       "      <th>artist</th>\n",
       "      <th>title</th>\n",
       "      <th>language</th>\n",
       "      <th>location</th>\n",
       "      <th>year</th>\n",
       "    </tr>\n",
       "    <tr>\n",
       "      <th>index</th>\n",
       "      <th></th>\n",
       "      <th></th>\n",
       "      <th></th>\n",
       "      <th></th>\n",
       "      <th></th>\n",
       "    </tr>\n",
       "  </thead>\n",
       "  <tbody>\n",
       "  </tbody>\n",
       "</table>\n",
       "</div>"
      ],
      "text/plain": [
       "Empty DataFrame\n",
       "Columns: [artist, title, language, location, year]\n",
       "Index: []"
      ]
     },
     "execution_count": 157,
     "metadata": {},
     "output_type": "execute_result"
    }
   ],
   "source": [
    "myWay[myWay.location=='Zealand']"
   ]
  },
  {
   "cell_type": "code",
   "execution_count": 158,
   "metadata": {},
   "outputs": [],
   "source": [
    "#http://gothos.info/resources/\n",
    "country_info=pd.read_csv('country_centroids_all.csv',sep='\\t')"
   ]
  },
  {
   "cell_type": "code",
   "execution_count": 159,
   "metadata": {},
   "outputs": [],
   "source": [
    "country_info=country_info[['LAT','LONG','SHORT_NAME']]"
   ]
  },
  {
   "cell_type": "code",
   "execution_count": 160,
   "metadata": {},
   "outputs": [
    {
     "data": {
      "text/html": [
       "<div>\n",
       "<style>\n",
       "    .dataframe thead tr:only-child th {\n",
       "        text-align: right;\n",
       "    }\n",
       "\n",
       "    .dataframe thead th {\n",
       "        text-align: left;\n",
       "    }\n",
       "\n",
       "    .dataframe tbody tr th {\n",
       "        vertical-align: top;\n",
       "    }\n",
       "</style>\n",
       "<table border=\"1\" class=\"dataframe\">\n",
       "  <thead>\n",
       "    <tr style=\"text-align: right;\">\n",
       "      <th></th>\n",
       "      <th>LAT</th>\n",
       "      <th>LONG</th>\n",
       "      <th>SHORT_NAME</th>\n",
       "    </tr>\n",
       "  </thead>\n",
       "  <tbody>\n",
       "    <tr>\n",
       "      <th>0</th>\n",
       "      <td>33.000000</td>\n",
       "      <td>66.0</td>\n",
       "      <td>Afghanistan</td>\n",
       "    </tr>\n",
       "    <tr>\n",
       "      <th>1</th>\n",
       "      <td>41.000000</td>\n",
       "      <td>20.0</td>\n",
       "      <td>Albania</td>\n",
       "    </tr>\n",
       "    <tr>\n",
       "      <th>2</th>\n",
       "      <td>28.000000</td>\n",
       "      <td>3.0</td>\n",
       "      <td>Algeria</td>\n",
       "    </tr>\n",
       "    <tr>\n",
       "      <th>3</th>\n",
       "      <td>-14.333333</td>\n",
       "      <td>-170.0</td>\n",
       "      <td>American Samoa</td>\n",
       "    </tr>\n",
       "    <tr>\n",
       "      <th>4</th>\n",
       "      <td>42.500000</td>\n",
       "      <td>1.5</td>\n",
       "      <td>Andorra</td>\n",
       "    </tr>\n",
       "  </tbody>\n",
       "</table>\n",
       "</div>"
      ],
      "text/plain": [
       "         LAT   LONG      SHORT_NAME\n",
       "0  33.000000   66.0     Afghanistan\n",
       "1  41.000000   20.0         Albania\n",
       "2  28.000000    3.0         Algeria\n",
       "3 -14.333333 -170.0  American Samoa\n",
       "4  42.500000    1.5         Andorra"
      ]
     },
     "execution_count": 160,
     "metadata": {},
     "output_type": "execute_result"
    }
   ],
   "source": [
    "country_info.head()"
   ]
  },
  {
   "cell_type": "code",
   "execution_count": 161,
   "metadata": {},
   "outputs": [
    {
     "data": {
      "text/html": [
       "<div>\n",
       "<style>\n",
       "    .dataframe thead tr:only-child th {\n",
       "        text-align: right;\n",
       "    }\n",
       "\n",
       "    .dataframe thead th {\n",
       "        text-align: left;\n",
       "    }\n",
       "\n",
       "    .dataframe tbody tr th {\n",
       "        vertical-align: top;\n",
       "    }\n",
       "</style>\n",
       "<table border=\"1\" class=\"dataframe\">\n",
       "  <thead>\n",
       "    <tr style=\"text-align: right;\">\n",
       "      <th></th>\n",
       "      <th>LAT</th>\n",
       "      <th>LONG</th>\n",
       "      <th>SHORT_NAME</th>\n",
       "    </tr>\n",
       "  </thead>\n",
       "  <tbody>\n",
       "    <tr>\n",
       "      <th>163</th>\n",
       "      <td>-42.0</td>\n",
       "      <td>174.0</td>\n",
       "      <td>New Zealand</td>\n",
       "    </tr>\n",
       "  </tbody>\n",
       "</table>\n",
       "</div>"
      ],
      "text/plain": [
       "      LAT   LONG   SHORT_NAME\n",
       "163 -42.0  174.0  New Zealand"
      ]
     },
     "execution_count": 161,
     "metadata": {},
     "output_type": "execute_result"
    }
   ],
   "source": [
    "country_info[country_info.SHORT_NAME.str.contains('Zealand')]"
   ]
  },
  {
   "cell_type": "code",
   "execution_count": 162,
   "metadata": {},
   "outputs": [],
   "source": [
    "merged_df=myWay.merge(country_info, how='left',left_on='location',right_on='SHORT_NAME')"
   ]
  },
  {
   "cell_type": "code",
   "execution_count": 163,
   "metadata": {},
   "outputs": [
    {
     "data": {
      "text/html": [
       "<div>\n",
       "<style>\n",
       "    .dataframe thead tr:only-child th {\n",
       "        text-align: right;\n",
       "    }\n",
       "\n",
       "    .dataframe thead th {\n",
       "        text-align: left;\n",
       "    }\n",
       "\n",
       "    .dataframe tbody tr th {\n",
       "        vertical-align: top;\n",
       "    }\n",
       "</style>\n",
       "<table border=\"1\" class=\"dataframe\">\n",
       "  <thead>\n",
       "    <tr style=\"text-align: right;\">\n",
       "      <th></th>\n",
       "      <th>artist</th>\n",
       "      <th>title</th>\n",
       "      <th>language</th>\n",
       "      <th>location</th>\n",
       "      <th>year</th>\n",
       "      <th>LAT</th>\n",
       "      <th>LONG</th>\n",
       "      <th>SHORT_NAME</th>\n",
       "    </tr>\n",
       "  </thead>\n",
       "  <tbody>\n",
       "  </tbody>\n",
       "</table>\n",
       "</div>"
      ],
      "text/plain": [
       "Empty DataFrame\n",
       "Columns: [artist, title, language, location, year, LAT, LONG, SHORT_NAME]\n",
       "Index: []"
      ]
     },
     "execution_count": 163,
     "metadata": {},
     "output_type": "execute_result"
    }
   ],
   "source": [
    "merged_df[merged_df.SHORT_NAME.isnull()]"
   ]
  },
  {
   "cell_type": "code",
   "execution_count": 168,
   "metadata": {
    "collapsed": true
   },
   "outputs": [],
   "source": [
    "merged_df.index.rename('index',inplace=True)"
   ]
  },
  {
   "cell_type": "code",
   "execution_count": 169,
   "metadata": {},
   "outputs": [],
   "source": [
    "pickle.dump(merged_df,open('merged_centroids.p','wb'))"
   ]
  },
  {
   "cell_type": "code",
   "execution_count": 170,
   "metadata": {
    "collapsed": true
   },
   "outputs": [],
   "source": [
    "merged_df.to_csv('song_story.csv')"
   ]
  },
  {
   "cell_type": "code",
   "execution_count": null,
   "metadata": {
    "collapsed": true
   },
   "outputs": [],
   "source": []
  }
 ],
 "metadata": {
  "kernelspec": {
   "display_name": "Python [conda root]",
   "language": "python",
   "name": "conda-root-py"
  },
  "language_info": {
   "codemirror_mode": {
    "name": "ipython",
    "version": 3
   },
   "file_extension": ".py",
   "mimetype": "text/x-python",
   "name": "python",
   "nbconvert_exporter": "python",
   "pygments_lexer": "ipython3",
   "version": "3.6.2"
  }
 },
 "nbformat": 4,
 "nbformat_minor": 2
}
