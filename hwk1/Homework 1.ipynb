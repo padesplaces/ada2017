{
 "cells": [
  {
   "cell_type": "markdown",
   "metadata": {},
   "source": [
    "# Table of Contents\n",
    " <p><div class=\"lev1\"><a href=\"#Task-1.-Compiling-Ebola-Data\"><span class=\"toc-item-num\">Task 1.&nbsp;&nbsp;</span>Compiling Ebola Data</a></div>\n",
    " <div class=\"lev1\"><a href=\"#Task-2.-RNA-Sequences\"><span class=\"toc-item-num\">Task 2.&nbsp;&nbsp;</span>RNA Sequences</a></div>\n",
    " <div class=\"lev1\"><a href=\"#Task-3.-Class-War-in-Titanic\"><span class=\"toc-item-num\">Task 3.&nbsp;&nbsp;</span>Class War in Titanic</a></div></p>"
   ]
  },
  {
   "cell_type": "code",
   "execution_count": null,
   "metadata": {
    "collapsed": true
   },
   "outputs": [],
   "source": [
    "import pandas as pd\n",
    "import numpy as np\n",
    "import glob\n",
    "pd.options.mode.chained_assignment = None\n",
    "\n",
    "DATA_FOLDER = './Data/' # Use the data folder provided in Tutorial 02 - Intro to Pandas."
   ]
  },
  {
   "cell_type": "markdown",
   "metadata": {},
   "source": [
    "## Task 1. Compiling Ebola Data\n",
    "\n",
    "The `DATA_FOLDER/ebola` folder contains summarized reports of Ebola cases from three countries (Guinea, Liberia and Sierra Leone) during the recent outbreak of the disease in West Africa. For each country, there are daily reports that contain various information about the outbreak in several cities in each country.\n",
    "\n",
    "Use pandas to import these data files into a single `Dataframe`.\n",
    "Using this `DataFrame`, calculate for *each country*, the *daily average per month* of *new cases* and *deaths*.\n",
    "Make sure you handle all the different expressions for *new cases* and *deaths* that are used in the reports."
   ]
  },
  {
   "cell_type": "markdown",
   "metadata": {},
   "source": [
    "### GUINEA\n",
    "\n",
    "First of all, we concatenate all the files in the guinea folder and we only take the 3 columns that interests us : the date, the description and the total for the whole country. We also parse the date with the right format.\n",
    "Then we put the date as the index."
   ]
  },
  {
   "cell_type": "code",
   "execution_count": null,
   "metadata": {
    "collapsed": true
   },
   "outputs": [],
   "source": [
    "path_guinea = DATA_FOLDER+\"ebola/guinea_data/\"\n",
    "files_guinea = glob.glob(path_guinea+\"*.csv\")\n",
    "\n",
    "df_guinea= pd.concat((pd.read_csv(f,usecols=[\"Date\",\"Description\",\"Totals\"],parse_dates=[\"Date\"]) for f in files_guinea),ignore_index=True)\n",
    "df_guinea.index = df_guinea.Date\n",
    "df_guinea = df_guinea.drop('Date',axis=1)"
   ]
  },
  {
   "cell_type": "markdown",
   "metadata": {},
   "source": [
    "Now we filter the only 2 rows we need, here they are the new cases and the new deaths. We notice the first file uses a different description for the new deaths, so we replace it with the one that is used in the other files."
   ]
  },
  {
   "cell_type": "code",
   "execution_count": null,
   "metadata": {
    "collapsed": true
   },
   "outputs": [],
   "source": [
    "filtered_guinea = df_guinea[(df_guinea.Description == \"Total new cases registered so far\") | (df_guinea.Description == \"New deaths registered\") | (df_guinea.Description == \"New deaths registered today\")]\n",
    "filtered_guinea = filtered_guinea.replace(\"New deaths registered today\",\"New deaths registered\")"
   ]
  },
  {
   "cell_type": "markdown",
   "metadata": {},
   "source": [
    "The pivot is just a convenient way of looking at it, we don't actually change the structure of the dataframe, because the current structure makes the following easier."
   ]
  },
  {
   "cell_type": "code",
   "execution_count": null,
   "metadata": {
    "scrolled": true
   },
   "outputs": [],
   "source": [
    "filtered_guinea.pivot(columns=\"Description\",values=\"Totals\")"
   ]
  },
  {
   "cell_type": "markdown",
   "metadata": {},
   "source": [
    "We now extract one serie for each (cases and deaths) and convert the values into integers."
   ]
  },
  {
   "cell_type": "code",
   "execution_count": null,
   "metadata": {
    "scrolled": true
   },
   "outputs": [],
   "source": [
    "cases_guinea = filtered_guinea[filtered_guinea.Description == \"Total new cases registered so far\"].Totals.astype(str).astype(int)\n",
    "deaths_guinea = filtered_guinea[filtered_guinea.Description == \"New deaths registered\"].Totals.astype(str).astype(int)\n",
    "cases_guinea"
   ]
  },
  {
   "cell_type": "markdown",
   "metadata": {},
   "source": [
    "This allows us to average by month quite easily :"
   ]
  },
  {
   "cell_type": "code",
   "execution_count": null,
   "metadata": {},
   "outputs": [],
   "source": [
    "avg_cases_guinea = cases_guinea.resample('M').mean()\n",
    "avg_deaths_guinea = deaths_guinea.resample('M').mean()\n",
    "avg_cases_guinea"
   ]
  },
  {
   "cell_type": "markdown",
   "metadata": {},
   "source": [
    "And we can finally present the data in a nice, concise way."
   ]
  },
  {
   "cell_type": "code",
   "execution_count": null,
   "metadata": {},
   "outputs": [],
   "source": [
    "avg_guinea = pd.DataFrame({\"avg new cases\":avg_cases_guinea.values,\"avg new deaths\":avg_deaths_guinea.values},index=avg_cases_guinea.index.strftime('%B'))\n",
    "avg_guinea"
   ]
  },
  {
   "cell_type": "markdown",
   "metadata": {},
   "source": [
    "### LIBERIA\n",
    "\n",
    "We proceed the same way, only with different names for columns and rows."
   ]
  },
  {
   "cell_type": "code",
   "execution_count": null,
   "metadata": {},
   "outputs": [],
   "source": [
    "path_liberia = DATA_FOLDER+\"ebola/liberia_data/\"\n",
    "files_liberia = glob.glob(path_liberia+\"*.csv\")\n",
    "\n",
    "df_liberia= pd.concat((pd.read_csv(f,usecols=[\"Date\",\"Variable\",\"National\"],parse_dates=[\"Date\"]) for f in files_liberia),ignore_index=True)\n",
    "df_liberia.columns=[\"Date\",\"Description\",\"Totals\"] #for clarity we use the same column names as before\n",
    "df_liberia.index = df_liberia.Date\n",
    "df_liberia = df_liberia.drop('Date',axis=1)"
   ]
  },
  {
   "cell_type": "code",
   "execution_count": null,
   "metadata": {
    "scrolled": true
   },
   "outputs": [],
   "source": [
    "filtered_liberia = df_liberia[(df_liberia.Description.str.contains(\"New Case|New case\")) | (df_liberia.Description == \"Newly reported deaths\")]"
   ]
  },
  {
   "cell_type": "markdown",
   "metadata": {},
   "source": [
    "Here, we have to considerate all the different types of new cases and sum them by day."
   ]
  },
  {
   "cell_type": "code",
   "execution_count": null,
   "metadata": {
    "scrolled": true
   },
   "outputs": [],
   "source": [
    "separate_cases = filtered_liberia[filtered_liberia.Description != \"Newly reported deaths\"]\n",
    "cases_liberia = separate_cases.groupby(separate_cases.index).sum().Totals\n",
    "deaths_liberia = filtered_liberia[filtered_liberia.Description == \"Newly reported deaths\"].Totals"
   ]
  },
  {
   "cell_type": "code",
   "execution_count": null,
   "metadata": {},
   "outputs": [],
   "source": [
    "avg_cases_liberia = cases_liberia.resample('M').mean()\n",
    "avg_deaths_liberia = deaths_liberia.resample('M').mean()"
   ]
  },
  {
   "cell_type": "code",
   "execution_count": null,
   "metadata": {},
   "outputs": [],
   "source": [
    "avg_liberia = pd.DataFrame({\"avg new cases\":avg_cases_liberia.values,\"avg new deaths\":avg_deaths_liberia.values},index=avg_cases_liberia.index.strftime('%B'))\n",
    "avg_liberia"
   ]
  },
  {
   "cell_type": "markdown",
   "metadata": {},
   "source": [
    "### SIERRA LEONE"
   ]
  },
  {
   "cell_type": "code",
   "execution_count": null,
   "metadata": {},
   "outputs": [],
   "source": [
    "path_sierra = DATA_FOLDER+\"ebola/sl_data/\"\n",
    "files_sierra = glob.glob(path_sierra+\"*.csv\")\n",
    "\n",
    "df_sierra= pd.concat((pd.read_csv(f,usecols=[\"date\",\"variable\",\"National\"],parse_dates=[\"date\"]) for f in files_sierra),ignore_index=True)\n",
    "df_sierra.columns=[\"Date\",\"Description\",\"Totals\"] #for clarity we use the same column names as before\n",
    "df_sierra.index = df_sierra.Date\n",
    "df_sierra = df_sierra.drop('Date',axis=1)"
   ]
  },
  {
   "cell_type": "code",
   "execution_count": null,
   "metadata": {
    "scrolled": true
   },
   "outputs": [],
   "source": [
    "filtered_sierra = df_sierra[(df_sierra.Description.str.contains(\"new_suspected|new_probable|new_confirmed\")) | (df_sierra.Description == \"etc_new_deaths\")]"
   ]
  },
  {
   "cell_type": "markdown",
   "metadata": {},
   "source": [
    "As for Liberia, we have to sum all the different types of new cases (suspected, probable, confirmed)."
   ]
  },
  {
   "cell_type": "code",
   "execution_count": null,
   "metadata": {
    "scrolled": true
   },
   "outputs": [],
   "source": [
    "separate_cases = filtered_sierra[filtered_sierra.Description != \"etc_new_deaths\"].Totals.astype(str).astype(float)\n",
    "cases_sierra = separate_cases.groupby(separate_cases.index).sum()\n",
    "deaths_sierra = filtered_sierra[filtered_sierra.Description == \"etc_new_deaths\"].Totals.astype(str).astype(float)"
   ]
  },
  {
   "cell_type": "code",
   "execution_count": null,
   "metadata": {
    "collapsed": true
   },
   "outputs": [],
   "source": [
    "avg_cases_sierra = cases_sierra.resample('M').mean()\n",
    "avg_deaths_sierra = deaths_sierra.resample('M').mean()"
   ]
  },
  {
   "cell_type": "code",
   "execution_count": null,
   "metadata": {},
   "outputs": [],
   "source": [
    "avg_sierra = pd.DataFrame({\"avg new cases\":avg_cases_sierra.values,\"avg new deaths\":avg_deaths_sierra.values},index=avg_cases_sierra.index.strftime('%B'))\n",
    "avg_sierra"
   ]
  },
  {
   "cell_type": "markdown",
   "metadata": {},
   "source": [
    "### Concatenating all the results in one dataframe"
   ]
  },
  {
   "cell_type": "markdown",
   "metadata": {},
   "source": [
    "We can note that one value, the average number of new cases in Liberia in december, is strongly out of the domain formed by the other values. This is due to the data (probably wrong) and not the calculations."
   ]
  },
  {
   "cell_type": "code",
   "execution_count": null,
   "metadata": {},
   "outputs": [],
   "source": [
    "final_result = pd.concat([avg_guinea,avg_liberia,avg_sierra],axis=1,keys=[\"Guinea\",\"Liberia\",\"Sierra\"]).reindex(avg_liberia.index)\n",
    "final_result.fillna(\"unknown\",inplace=True)\n",
    "final_result"
   ]
  },
  {
   "cell_type": "markdown",
   "metadata": {},
   "source": [
    "## Task 2. RNA Sequences\n",
    "\n",
    "In the `DATA_FOLDER/microbiome` subdirectory, there are 9 spreadsheets of microbiome data that was acquired from high-throughput RNA sequencing procedures, along with a 10<sup>th</sup> file that describes the content of each. \n",
    "\n",
    "Use pandas to import the first 9 spreadsheets into a single `DataFrame`.\n",
    "Then, add the metadata information from the 10<sup>th</sup> spreadsheet as columns in the combined `DataFrame`.\n",
    "Make sure that the final `DataFrame` has a unique index and all the `NaN` values have been replaced by the tag `unknown`."
   ]
  },
  {
   "cell_type": "code",
   "execution_count": null,
   "metadata": {},
   "outputs": [],
   "source": [
    "# Read MID files\n",
    "\n",
    "path=DATA_FOLDER+\"microbiome/\"\n",
    "MID_files = glob.glob(path+\"MID*.xls\")\n",
    "MID_files"
   ]
  },
  {
   "cell_type": "code",
   "execution_count": null,
   "metadata": {},
   "outputs": [],
   "source": [
    "df_microbiome=pd.concat((pd.read_excel(f,index_col=0,header=None) for f in MID_files),axis=1)\n",
    "df_microbiome.columns=['MID1','MID2','MID3','MID4','MID5','MID6','MID7','MID8','MID9']\n",
    "df_microbiome=df_microbiome.transpose()\n",
    "df_microbiome.index.names=['BARCODE']\n",
    "df_microbiome"
   ]
  },
  {
   "cell_type": "code",
   "execution_count": null,
   "metadata": {},
   "outputs": [],
   "source": [
    "df_microbiome.columns=[i for i in range(0,9)]"
   ]
  },
  {
   "cell_type": "code",
   "execution_count": null,
   "metadata": {},
   "outputs": [],
   "source": [
    "df_metadata=pd.read_excel('Data/microbiome/metadata.xls',index_col='BARCODE')\n",
    "df_metadata"
   ]
  },
  {
   "cell_type": "code",
   "execution_count": null,
   "metadata": {},
   "outputs": [],
   "source": [
    "df_merged=pd.merge(df_microbiome, df_metadata, left_index=True, right_index=True)\n",
    "df_merged"
   ]
  },
  {
   "cell_type": "code",
   "execution_count": null,
   "metadata": {},
   "outputs": [],
   "source": [
    "df_merged.fillna('unknown',inplace=True)\n",
    "df_merged"
   ]
  },
  {
   "cell_type": "code",
   "execution_count": null,
   "metadata": {},
   "outputs": [],
   "source": [
    "df_merged.index.is_unique"
   ]
  },
  {
   "cell_type": "markdown",
   "metadata": {},
   "source": [
    "## Task 3. Class War in Titanic\n",
    "\n",
    "Use pandas to import the data file `Data/titanic.xls`. It contains data on all the passengers that travelled on the Titanic."
   ]
  },
  {
   "cell_type": "code",
   "execution_count": null,
   "metadata": {
    "collapsed": true
   },
   "outputs": [],
   "source": [
    "from IPython.core.display import HTML\n",
    "HTML(filename=DATA_FOLDER+'/titanic.html')"
   ]
  },
  {
   "cell_type": "markdown",
   "metadata": {},
   "source": [
    "For each of the following questions state clearly your assumptions and discuss your findings:\n",
    "1. Describe the *type* and the *value range* of each attribute. Indicate and transform the attributes that can be `Categorical`. \n",
    "2. Plot histograms for the *travel class*, *embarkation port*, *sex* and *age* attributes. For the latter one, use *discrete decade intervals*. \n",
    "3. Calculate the proportion of passengers by *cabin floor*. Present your results in a *pie chart*.\n",
    "4. For each *travel class*, calculate the proportion of the passengers that survived. Present your results in *pie charts*.\n",
    "5. Calculate the proportion of the passengers that survived by *travel class* and *sex*. Present your results in *a single histogram*.\n",
    "6. Create 2 equally populated *age categories* and calculate survival proportions by *age category*, *travel class* and *sex*. Present your results in a `DataFrame` with unique index."
   ]
  },
  {
   "cell_type": "code",
   "execution_count": null,
   "metadata": {
    "collapsed": true
   },
   "outputs": [],
   "source": [
    "# Write your answer here"
   ]
  }
 ],
 "metadata": {
  "kernelspec": {
   "display_name": "Python 3",
   "language": "python",
   "name": "python3"
  },
  "language_info": {
   "codemirror_mode": {
    "name": "ipython",
    "version": 3
   },
   "file_extension": ".py",
   "mimetype": "text/x-python",
   "name": "python",
   "nbconvert_exporter": "python",
   "pygments_lexer": "ipython3",
   "version": "3.6.1"
  }
 },
 "nbformat": 4,
 "nbformat_minor": 2
}
