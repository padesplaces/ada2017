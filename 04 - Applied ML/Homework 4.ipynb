{
 "cells": [
  {
   "cell_type": "markdown",
   "metadata": {},
   "source": [
    "# Homework 4\n",
    "#### Pierre-Antoine Desplaces, Anaïs Ladoy, Lou Richard\n"
   ]
  },
  {
   "cell_type": "code",
   "execution_count": 1,
   "metadata": {},
   "outputs": [],
   "source": [
    "# Import libraries\n",
    "import pandas as pd\n",
    "import numpy as np\n",
    "import matplotlib.pyplot as plt\n",
    "from scipy import stats\n",
    "from scipy.stats import chi2_contingency\n",
    "import seaborn as sns\n",
    "import math"
   ]
  },
  {
   "cell_type": "markdown",
   "metadata": {},
   "source": [
    "## <b> <font color='purple'>Question 1 - Propensity score matching</font> </b>\n",
    "In this exercise, you will apply [propensity score matching](http://www.stewartschultz.com/statistics/books/Design%20of%20observational%20studies.pdf), which we discussed in lecture 5 (\"Observational studies\"), in order to draw conclusions from an observational study.\n",
    "\n",
    "We will work with a by-now classic dataset from Robert LaLonde's study \"[Evaluating the Econometric Evaluations of Training Programs](http://people.hbs.edu/nashraf/LaLonde_1986.pdf)\" (1986).\n",
    "The study investigated the effect of a job training program (\"National Supported Work Demonstration\") on the real earnings of an individual, a couple of years after completion of the program.\n",
    "Your task is to determine the effectiveness of the \"treatment\" represented by the job training program.\n",
    "\n",
    "#### Dataset description\n",
    "\n",
    "- `treat`: 1 if the subject participated in the job training program, 0 otherwise\n",
    "- `age`: the subject's age\n",
    "- `educ`: years of education\n",
    "- `race`: categorical variable with three possible values: Black, Hispanic, or White\n",
    "- `married`: 1 if the subject was married at the time of the training program, 0 otherwise\n",
    "- `nodegree`: 1 if the subject has earned no school degree, 0 otherwise\n",
    "- `re74`: real earnings in 1974 (pre-treatment)\n",
    "- `re75`: real earnings in 1975 (pre-treatment)\n",
    "- `re78`: real earnings in 1978 (outcome)\n",
    "\n",
    "If you want to brush up your knowledge on propensity scores and observational studies, we highly recommend Rosenbaum's excellent book on the [\"Design of Observational Studies\"](http://www.stewartschultz.com/statistics/books/Design%20of%20observational%20studies.pdf). Even just reading the first chapter (18 pages) will help you a lot."
   ]
  },
  {
   "cell_type": "markdown",
   "metadata": {},
   "source": [
    "### <b> <font color='purple'>1.1 - A naive analysis</font> </b>\n",
    "<b> Compare the distribution of the outcome variable (`re78`) between the two groups, using plots and numbers.\n",
    "To summarize and compare the distributions, you may use the techniques we discussed in lectures 4 (\"Read the stats carefully\") and 6 (\"Data visualization\").\n",
    "\n",
    "What might a naive \"researcher\" conclude from this superficial analysis? <b>"
   ]
  },
  {
   "cell_type": "code",
   "execution_count": 2,
   "metadata": {},
   "outputs": [
    {
     "data": {
      "text/html": [
       "<div>\n",
       "<style>\n",
       "    .dataframe thead tr:only-child th {\n",
       "        text-align: right;\n",
       "    }\n",
       "\n",
       "    .dataframe thead th {\n",
       "        text-align: left;\n",
       "    }\n",
       "\n",
       "    .dataframe tbody tr th {\n",
       "        vertical-align: top;\n",
       "    }\n",
       "</style>\n",
       "<table border=\"1\" class=\"dataframe\">\n",
       "  <thead>\n",
       "    <tr style=\"text-align: right;\">\n",
       "      <th></th>\n",
       "      <th>treat</th>\n",
       "      <th>age</th>\n",
       "      <th>educ</th>\n",
       "      <th>black</th>\n",
       "      <th>hispan</th>\n",
       "      <th>married</th>\n",
       "      <th>nodegree</th>\n",
       "      <th>re74</th>\n",
       "      <th>re75</th>\n",
       "      <th>re78</th>\n",
       "    </tr>\n",
       "    <tr>\n",
       "      <th>id</th>\n",
       "      <th></th>\n",
       "      <th></th>\n",
       "      <th></th>\n",
       "      <th></th>\n",
       "      <th></th>\n",
       "      <th></th>\n",
       "      <th></th>\n",
       "      <th></th>\n",
       "      <th></th>\n",
       "      <th></th>\n",
       "    </tr>\n",
       "  </thead>\n",
       "  <tbody>\n",
       "    <tr>\n",
       "      <th>NSW1</th>\n",
       "      <td>1</td>\n",
       "      <td>37</td>\n",
       "      <td>11</td>\n",
       "      <td>1</td>\n",
       "      <td>0</td>\n",
       "      <td>1</td>\n",
       "      <td>1</td>\n",
       "      <td>0.0</td>\n",
       "      <td>0.0</td>\n",
       "      <td>9930.0460</td>\n",
       "    </tr>\n",
       "    <tr>\n",
       "      <th>NSW2</th>\n",
       "      <td>1</td>\n",
       "      <td>22</td>\n",
       "      <td>9</td>\n",
       "      <td>0</td>\n",
       "      <td>1</td>\n",
       "      <td>0</td>\n",
       "      <td>1</td>\n",
       "      <td>0.0</td>\n",
       "      <td>0.0</td>\n",
       "      <td>3595.8940</td>\n",
       "    </tr>\n",
       "    <tr>\n",
       "      <th>NSW3</th>\n",
       "      <td>1</td>\n",
       "      <td>30</td>\n",
       "      <td>12</td>\n",
       "      <td>1</td>\n",
       "      <td>0</td>\n",
       "      <td>0</td>\n",
       "      <td>0</td>\n",
       "      <td>0.0</td>\n",
       "      <td>0.0</td>\n",
       "      <td>24909.4500</td>\n",
       "    </tr>\n",
       "    <tr>\n",
       "      <th>NSW4</th>\n",
       "      <td>1</td>\n",
       "      <td>27</td>\n",
       "      <td>11</td>\n",
       "      <td>1</td>\n",
       "      <td>0</td>\n",
       "      <td>0</td>\n",
       "      <td>1</td>\n",
       "      <td>0.0</td>\n",
       "      <td>0.0</td>\n",
       "      <td>7506.1460</td>\n",
       "    </tr>\n",
       "    <tr>\n",
       "      <th>NSW5</th>\n",
       "      <td>1</td>\n",
       "      <td>33</td>\n",
       "      <td>8</td>\n",
       "      <td>1</td>\n",
       "      <td>0</td>\n",
       "      <td>0</td>\n",
       "      <td>1</td>\n",
       "      <td>0.0</td>\n",
       "      <td>0.0</td>\n",
       "      <td>289.7899</td>\n",
       "    </tr>\n",
       "  </tbody>\n",
       "</table>\n",
       "</div>"
      ],
      "text/plain": [
       "      treat  age  educ  black  hispan  married  nodegree  re74  re75  \\\n",
       "id                                                                     \n",
       "NSW1      1   37    11      1       0        1         1   0.0   0.0   \n",
       "NSW2      1   22     9      0       1        0         1   0.0   0.0   \n",
       "NSW3      1   30    12      1       0        0         0   0.0   0.0   \n",
       "NSW4      1   27    11      1       0        0         1   0.0   0.0   \n",
       "NSW5      1   33     8      1       0        0         1   0.0   0.0   \n",
       "\n",
       "            re78  \n",
       "id                \n",
       "NSW1   9930.0460  \n",
       "NSW2   3595.8940  \n",
       "NSW3  24909.4500  \n",
       "NSW4   7506.1460  \n",
       "NSW5    289.7899  "
      ]
     },
     "execution_count": 2,
     "metadata": {},
     "output_type": "execute_result"
    }
   ],
   "source": [
    "# Load data\n",
    "lalonde_data=pd.read_csv('lalonde.csv',index_col=0)\n",
    "lalonde_data.head()"
   ]
  },
  {
   "cell_type": "code",
   "execution_count": 3,
   "metadata": {},
   "outputs": [],
   "source": [
    "# Create two subsets of the dataset (one for each group)\n",
    "data_control=lalonde_data[lalonde_data.treat==0]\n",
    "data_treat=lalonde_data[lalonde_data.treat==1]"
   ]
  },
  {
   "cell_type": "code",
   "execution_count": 4,
   "metadata": {},
   "outputs": [
    {
     "data": {
      "image/png": "[encoded data removed]",
      "text/plain": [
       "<matplotlib.figure.Figure at 0x1099fd1d0>"
      ]
     },
     "metadata": {},
     "output_type": "display_data"
    }
   ],
   "source": [
    "# Visualization of the respective distribution of the outcome variable for the two groups with an histogram \n",
    "fig = plt.figure(figsize=(12, 6))\n",
    "\n",
    "# Histrogram for the treated group\n",
    "plt.subplot(1,2,1)\n",
    "plt.hist(data_treat.re78,color='#00ccff')\n",
    "plt.title('Distribution of earning for the group with job training')\n",
    "plt.xlabel('real earning in 1978 [$]')\n",
    "plt.ylabel('frequency')\n",
    "\n",
    "# Histrogram for the control group\n",
    "plt.subplot(1,2,2)\n",
    "plt.hist(data_control.re78,color='#00ccff')\n",
    "plt.title('Distribution of earning for the group without job training')\n",
    "plt.xlabel('real earning in 1978 [$]')\n",
    "plt.ylabel('frequency')\n",
    "plt.show()"
   ]
  },
  {
   "cell_type": "code",
   "execution_count": 5,
   "metadata": {},
   "outputs": [
    {
     "name": "stderr",
     "output_type": "stream",
     "text": [
      "/Library/Frameworks/Python.framework/Versions/3.6/lib/python3.6/site-packages/numpy/core/fromnumeric.py:57: FutureWarning: reshape is deprecated and will raise in a subsequent release. Please use .values.reshape(...) instead\n",
      "  return getattr(obj, method)(*args, **kwds)\n"
     ]
    },
    {
     "data": {
      "image/png": "[encoded data removed]",
      "text/plain": [
       "<matplotlib.figure.Figure at 0x1099d2978>"
      ]
     },
     "metadata": {},
     "output_type": "display_data"
    }
   ],
   "source": [
    "# Boxplots of the outcome variable (earning in 1978) for the two groups\n",
    "fig = plt.figure(1, figsize=(8, 6))\n",
    "ax = fig.add_subplot(111)\n",
    "plt.boxplot([data_treat.re78, data_control.re78])\n",
    "ax.set_title('Real earning in 1978')\n",
    "ax.set_xticklabels(['With job training','Without job training'])\n",
    "ax.set_ylabel('earning [$]')\n",
    "plt.show()"
   ]
  },
  {
   "cell_type": "code",
   "execution_count": 6,
   "metadata": {},
   "outputs": [
    {
     "name": "stdout",
     "output_type": "stream",
     "text": [
      "Number of people in the treatment group with no earnings in 1978 : 45 (24.32%)\n",
      "Number of people in the control group with no earnings in 1978 : 98 (22.84%)\n"
     ]
    }
   ],
   "source": [
    "# Compute the number of people in each group (rows) where earning in 1978 is equal to 0 and the relative proportion\n",
    "print('Number of people in the treatment group with no earnings in 1978 : {} ({}%)'.format(len(data_treat[data_treat.re78==0]),round(len(data_treat[data_treat.re78==0])/len(data_treat)*100,2)))\n",
    "print('Number of people in the control group with no earnings in 1978 : {} ({}%)'.format(len(data_control[data_control.re78==0]),round(len(data_control[data_control.re78==0])/len(data_control)*100,2)))"
   ]
  },
  {
   "cell_type": "markdown",
   "metadata": {},
   "source": [
    "First, we can see that the two distributions are highly skewed which is common for incomes data. Furthermore, a lot of people (~20% of people in each group) have earnings equal to 0, it must mean that they are unemployed in 1978.\n",
    "\n",
    "The earnings tend to go higher for people with job training as we can notice a lot of outliers (3 peoples were earning more than 35'000$ in 1978). In comparison, the earnings are more concencatred for the control group (no outliers)."
   ]
  },
  {
   "cell_type": "code",
   "execution_count": 7,
   "metadata": {},
   "outputs": [
    {
     "data": {
      "text/html": [
       "<div>\n",
       "<style>\n",
       "    .dataframe thead tr:only-child th {\n",
       "        text-align: right;\n",
       "    }\n",
       "\n",
       "    .dataframe thead th {\n",
       "        text-align: left;\n",
       "    }\n",
       "\n",
       "    .dataframe tbody tr th {\n",
       "        vertical-align: top;\n",
       "    }\n",
       "</style>\n",
       "<table border=\"1\" class=\"dataframe\">\n",
       "  <thead>\n",
       "    <tr style=\"text-align: right;\">\n",
       "      <th></th>\n",
       "      <th>With job training</th>\n",
       "      <th>Without job training</th>\n",
       "    </tr>\n",
       "  </thead>\n",
       "  <tbody>\n",
       "    <tr>\n",
       "      <th>count</th>\n",
       "      <td>185.00</td>\n",
       "      <td>429.00</td>\n",
       "    </tr>\n",
       "    <tr>\n",
       "      <th>mean</th>\n",
       "      <td>6349.14</td>\n",
       "      <td>6984.17</td>\n",
       "    </tr>\n",
       "    <tr>\n",
       "      <th>std</th>\n",
       "      <td>7867.40</td>\n",
       "      <td>7294.16</td>\n",
       "    </tr>\n",
       "    <tr>\n",
       "      <th>min</th>\n",
       "      <td>0.00</td>\n",
       "      <td>0.00</td>\n",
       "    </tr>\n",
       "    <tr>\n",
       "      <th>25%</th>\n",
       "      <td>485.23</td>\n",
       "      <td>220.18</td>\n",
       "    </tr>\n",
       "    <tr>\n",
       "      <th>50%</th>\n",
       "      <td>4232.31</td>\n",
       "      <td>4975.50</td>\n",
       "    </tr>\n",
       "    <tr>\n",
       "      <th>75%</th>\n",
       "      <td>9643.00</td>\n",
       "      <td>11688.82</td>\n",
       "    </tr>\n",
       "    <tr>\n",
       "      <th>max</th>\n",
       "      <td>60307.93</td>\n",
       "      <td>25564.67</td>\n",
       "    </tr>\n",
       "  </tbody>\n",
       "</table>\n",
       "</div>"
      ],
      "text/plain": [
       "       With job training  Without job training\n",
       "count             185.00                429.00\n",
       "mean             6349.14               6984.17\n",
       "std              7867.40               7294.16\n",
       "min                 0.00                  0.00\n",
       "25%               485.23                220.18\n",
       "50%              4232.31               4975.50\n",
       "75%              9643.00              11688.82\n",
       "max             60307.93              25564.67"
      ]
     },
     "execution_count": 7,
     "metadata": {},
     "output_type": "execute_result"
    }
   ],
   "source": [
    "# Decriptive statistics for the distribution of the outcome variable\n",
    "pd.DataFrame({'Without job training' :data_control.re78.describe(), 'With job training':data_treat.re78.describe()}).round(2)"
   ]
  },
  {
   "cell_type": "markdown",
   "metadata": {},
   "source": [
    "This data frame summarize the information contained in the previous plots. \n",
    "We can note that the mean income is a little bit higher for the people that didn't participate to a job training but the maximum income is much bigger in the treatment group (34 743$ of difference).\n",
    "\n",
    "\n",
    "As a naive conclusion, we could say that we have more chance to be rich with a job training program."
   ]
  },
  {
   "cell_type": "markdown",
   "metadata": {},
   "source": [
    "### <b> <font color='purple'>1.2 - A closer look at the data</font> </b>\n",
    "<b> You're not naive, of course (and even if you are, you've learned certain things in ADA), so you aren't content with a superficial analysis such as the above.\n",
    "You're aware of the dangers of observational studies, so you take a closer look at the data before jumping to conclusions.\n",
    "\n",
    "For each feature in the dataset, compare its distribution in the treated group with its distribution in the control group, using plots and numbers.\n",
    "As above, you may use the techniques we discussed in class for summarizing and comparing the distributions.\n",
    "\n",
    "What do you observe?\n",
    "Describe what your observations mean for the conclusions drawn by the naive \"researcher\" from his superficial analysis. <b>"
   ]
  },
  {
   "cell_type": "code",
   "execution_count": 8,
   "metadata": {},
   "outputs": [
    {
     "name": "stdout",
     "output_type": "stream",
     "text": [
      "Range of values for each feature in the dataset:\n",
      "age : 16 - 55\n",
      "educ : 0 - 18\n",
      "black : 0 - 1\n",
      "hispan : 0 - 1\n",
      "married : 0 - 1\n",
      "nodegree : 0 - 1\n",
      "re74 : 0.0 - 35040.07\n",
      "re75 : 0.0 - 25142.24\n",
      "re78 : 0.0 - 60307.93\n"
     ]
    }
   ],
   "source": [
    "print('Range of values for each feature in the dataset:')\n",
    "for column in lalonde_data[lalonde_data.columns[1:]] :\n",
    "    print('{} : {} - {}'.format(column,min(lalonde_data[column]),max(lalonde_data[column])))"
   ]
  },
  {
   "cell_type": "markdown",
   "metadata": {},
   "source": [
    "The methods to analyse the distribution between two groups change according the type of variables and in our case, we will make a distinction between the binary variables (race, married and no degree) and the continuous variables (age, education level and earnings). \n",
    "\n",
    "In order to have an observational study as close as possible to a experimental study, people needs to be assigned almost by chance to the Job Training program (treatment). Thus ideally, the covariates shouldn't have an influence about the assignement to a the treatment or control group.\n",
    "\n",
    "We will compute for each type of variables some basic statistics and we will assess the statistical dependance between each covariate and the attribution to the treatment group, both with statistical test and with the computation of the standardized difference.\n",
    "\n",
    "\n",
    "#### Categorical features (Race, Married and No degree)\n",
    "The goal with categorical variables is to compare the proportions of each feature between the two groups.\n",
    "In order to compare the prevalence of each binary covariate (black, hispan, married and no degree peoples) between the two groups, we will use a Chi-squared test which is defined as :\n",
    "\n",
    "\\begin{align}\n",
    "\\chi^2 & = \\sum_{all cells} \\frac {(Observed_f - Expected_f)^2}{Expected_f}\\\\\n",
    "\\end{align}\n",
    "\n",
    "For example, if we take the first binary variable in our data frame, corresponding to the number of black people. Our 2x2 contingency table will be composed of the number of Black and Not Black present in the Control and Treatment groups and the Chi-squared test hypotheses will be :  \n",
    "\n",
    "$H_{0}$ : The proportion of people assigned to the job training is independent of the fact that they are black or not.  \n",
    "$H_{1}$ : The proportion of people assigned to the job training is associated to the fact that they are black or not.\n",
    "\n",
    "Given a significance level of 5%, we can reject the null hypothesis ($H_{0}$) if the $chi^2$ test returns a p-value<0.05."
   ]
  },
  {
   "cell_type": "code",
   "execution_count": 9,
   "metadata": {},
   "outputs": [
    {
     "data": {
      "text/html": [
       "<div>\n",
       "<style>\n",
       "    .dataframe thead tr:only-child th {\n",
       "        text-align: right;\n",
       "    }\n",
       "\n",
       "    .dataframe thead th {\n",
       "        text-align: left;\n",
       "    }\n",
       "\n",
       "    .dataframe tbody tr th {\n",
       "        vertical-align: top;\n",
       "    }\n",
       "</style>\n",
       "<table border=\"1\" class=\"dataframe\">\n",
       "  <thead>\n",
       "    <tr style=\"text-align: right;\">\n",
       "      <th></th>\n",
       "      <th>Without Job Training (N=429)</th>\n",
       "      <th>With Job Training (N=185)</th>\n",
       "    </tr>\n",
       "    <tr>\n",
       "      <th>Variable</th>\n",
       "      <th></th>\n",
       "      <th></th>\n",
       "    </tr>\n",
       "  </thead>\n",
       "  <tbody>\n",
       "    <tr>\n",
       "      <th>black</th>\n",
       "      <td>20.28</td>\n",
       "      <td>84.32</td>\n",
       "    </tr>\n",
       "    <tr>\n",
       "      <th>hispan</th>\n",
       "      <td>14.22</td>\n",
       "      <td>5.95</td>\n",
       "    </tr>\n",
       "    <tr>\n",
       "      <th>married</th>\n",
       "      <td>51.28</td>\n",
       "      <td>18.92</td>\n",
       "    </tr>\n",
       "    <tr>\n",
       "      <th>nodegree</th>\n",
       "      <td>59.67</td>\n",
       "      <td>70.81</td>\n",
       "    </tr>\n",
       "  </tbody>\n",
       "</table>\n",
       "</div>"
      ],
      "text/plain": [
       "          Without Job Training (N=429)  With Job Training (N=185)\n",
       "Variable                                                         \n",
       "black                            20.28                      84.32\n",
       "hispan                           14.22                       5.95\n",
       "married                          51.28                      18.92\n",
       "nodegree                         59.67                      70.81"
      ]
     },
     "execution_count": 9,
     "metadata": {},
     "output_type": "execute_result"
    }
   ],
   "source": [
    "# Compute the percentage of each covariate in the control group and in the treatment group\n",
    "control_cat=data_control[['black','hispan','married','nodegree']].apply(lambda x:(sum(x)/len(x))*100,axis=0).round(2)\n",
    "treat_cat=data_treat[['black','hispan','married','nodegree']].apply(lambda x:(sum(x)/len(x))*100,axis=0).round(2)\n",
    "data_cat=pd.DataFrame(np.column_stack([control_cat, treat_cat]),index=control_cat.keys(),columns=['Without Job Training (N=429)','With Job Training (N=185)'])\n",
    "data_cat.index.name='Variable'\n",
    "data_cat"
   ]
  },
  {
   "cell_type": "code",
   "execution_count": 10,
   "metadata": {},
   "outputs": [],
   "source": [
    "# Chi-square test of independence between the table of contingency for two categorical variables \n",
    "def chisquare_test(var1,var2):\n",
    "    contingency_table=pd.crosstab(var1,var2)\n",
    "    p_value=stats.chi2_contingency(contingency_table)[1]\n",
    "    if p_value<0.05:\n",
    "        test='Significant'\n",
    "    else:\n",
    "        test='Not significant'\n",
    "    return test"
   ]
  },
  {
   "cell_type": "code",
   "execution_count": 11,
   "metadata": {},
   "outputs": [],
   "source": [
    "# Compute the chi-square test for each categorical feature and add it to the dataframe\n",
    "lalonde_cat=lalonde_data[['black','hispan','married','nodegree']]\n",
    "data_cat['Statistic Test Significance']=lalonde_cat.apply(lambda x: chisquare_test(lalonde_data['treat'],x), axis=0)"
   ]
  },
  {
   "cell_type": "markdown",
   "metadata": {},
   "source": [
    "The standardized difference compares the difference in means between two groups in units of the grouped standard deviation. This metric has the main advantage to not be influenced by the group size and allow the comparison between different variables (no units)."
   ]
  },
  {
   "cell_type": "code",
   "execution_count": 12,
   "metadata": {},
   "outputs": [],
   "source": [
    "# Standardized difference for categorical variables\n",
    "def stand_diff_cat(p_c,p_t):\n",
    "    # Convert the percentage in proportions\n",
    "    p_c=p_c/100\n",
    "    p_t=p_t/100\n",
    "    diff=(p_t-p_c)/(np.sqrt((p_t*(1-p_t)+p_c*(1-p_c))/2))\n",
    "    return diff"
   ]
  },
  {
   "cell_type": "code",
   "execution_count": 13,
   "metadata": {},
   "outputs": [
    {
     "data": {
      "text/html": [
       "<div>\n",
       "<style>\n",
       "    .dataframe thead tr:only-child th {\n",
       "        text-align: right;\n",
       "    }\n",
       "\n",
       "    .dataframe thead th {\n",
       "        text-align: left;\n",
       "    }\n",
       "\n",
       "    .dataframe tbody tr th {\n",
       "        vertical-align: top;\n",
       "    }\n",
       "</style>\n",
       "<table border=\"1\" class=\"dataframe\">\n",
       "  <thead>\n",
       "    <tr style=\"text-align: right;\">\n",
       "      <th></th>\n",
       "      <th>Without Job Training (N=429)</th>\n",
       "      <th>With Job Training (N=185)</th>\n",
       "      <th>Statistic Test Significance</th>\n",
       "      <th>Standardized difference</th>\n",
       "    </tr>\n",
       "    <tr>\n",
       "      <th>Variable</th>\n",
       "      <th></th>\n",
       "      <th></th>\n",
       "      <th></th>\n",
       "      <th></th>\n",
       "    </tr>\n",
       "  </thead>\n",
       "  <tbody>\n",
       "    <tr>\n",
       "      <th>black</th>\n",
       "      <td>20.28</td>\n",
       "      <td>84.32</td>\n",
       "      <td>Significant</td>\n",
       "      <td>1.670617</td>\n",
       "    </tr>\n",
       "    <tr>\n",
       "      <th>hispan</th>\n",
       "      <td>14.22</td>\n",
       "      <td>5.95</td>\n",
       "      <td>Significant</td>\n",
       "      <td>-0.277259</td>\n",
       "    </tr>\n",
       "    <tr>\n",
       "      <th>married</th>\n",
       "      <td>51.28</td>\n",
       "      <td>18.92</td>\n",
       "      <td>Significant</td>\n",
       "      <td>-0.720679</td>\n",
       "    </tr>\n",
       "    <tr>\n",
       "      <th>nodegree</th>\n",
       "      <td>59.67</td>\n",
       "      <td>70.81</td>\n",
       "      <td>Significant</td>\n",
       "      <td>0.235548</td>\n",
       "    </tr>\n",
       "  </tbody>\n",
       "</table>\n",
       "</div>"
      ],
      "text/plain": [
       "          Without Job Training (N=429)  With Job Training (N=185)  \\\n",
       "Variable                                                            \n",
       "black                            20.28                      84.32   \n",
       "hispan                           14.22                       5.95   \n",
       "married                          51.28                      18.92   \n",
       "nodegree                         59.67                      70.81   \n",
       "\n",
       "         Statistic Test Significance  Standardized difference  \n",
       "Variable                                                       \n",
       "black                    Significant                 1.670617  \n",
       "hispan                   Significant                -0.277259  \n",
       "married                  Significant                -0.720679  \n",
       "nodegree                 Significant                 0.235548  "
      ]
     },
     "execution_count": 13,
     "metadata": {},
     "output_type": "execute_result"
    }
   ],
   "source": [
    "# Compute the standardized difference between for each categorical variable\n",
    "data_cat['Standardized difference']=stand_diff_cat(data_cat['Without Job Training (N=429)'],data_cat['With Job Training (N=185)'])\n",
    "data_cat"
   ]
  },
  {
   "cell_type": "code",
   "execution_count": 14,
   "metadata": {},
   "outputs": [
    {
     "data": {
      "image/png": "[encoded data removed]",
      "text/plain": [
       "<matplotlib.figure.Figure at 0x109acf748>"
      ]
     },
     "metadata": {},
     "output_type": "display_data"
    }
   ],
   "source": [
    "# Compare the distribution of the different continuous features between the two groups (treat and no treat)\n",
    "fig = plt.figure(1, figsize=(13, 8))\n",
    "plt.subplot(2,2,1)\n",
    "sns.barplot(x=\"treat\",y=\"black\",data=lalonde_data)\n",
    "plt.subplot(2,2,2)\n",
    "sns.barplot(x=\"treat\",y=\"hispan\",data=lalonde_data)\n",
    "plt.subplot(2,2,3)\n",
    "sns.barplot(x=\"treat\",y=\"married\",data=lalonde_data)\n",
    "plt.subplot(2,2,4)\n",
    "sns.barplot(x=\"treat\",y=\"nodegree\",data=lalonde_data)\n",
    "plt.show()"
   ]
  },
  {
   "cell_type": "markdown",
   "metadata": {},
   "source": [
    "All the variables are significant, it means we can reject the hypothesis that the covariate is independant to the treatment assignation. Furthermore, we can notice some important differences between the mean in the two groups."
   ]
  },
  {
   "cell_type": "markdown",
   "metadata": {},
   "source": [
    "#### Continuous features (Age, Education level and Earnings)"
   ]
  },
  {
   "cell_type": "code",
   "execution_count": 15,
   "metadata": {
    "scrolled": true
   },
   "outputs": [
    {
     "data": {
      "text/html": [
       "<div>\n",
       "<style>\n",
       "    .dataframe thead tr:only-child th {\n",
       "        text-align: right;\n",
       "    }\n",
       "\n",
       "    .dataframe thead th {\n",
       "        text-align: left;\n",
       "    }\n",
       "\n",
       "    .dataframe tbody tr th {\n",
       "        vertical-align: top;\n",
       "    }\n",
       "</style>\n",
       "<table border=\"1\" class=\"dataframe\">\n",
       "  <thead>\n",
       "    <tr style=\"text-align: right;\">\n",
       "      <th></th>\n",
       "      <th></th>\n",
       "      <th>Without Job Training (N=429)</th>\n",
       "      <th>With Job Training (N=185)</th>\n",
       "    </tr>\n",
       "  </thead>\n",
       "  <tbody>\n",
       "    <tr>\n",
       "      <th rowspan=\"2\" valign=\"top\">age</th>\n",
       "      <th>mean</th>\n",
       "      <td>28.03</td>\n",
       "      <td>25.82</td>\n",
       "    </tr>\n",
       "    <tr>\n",
       "      <th>std</th>\n",
       "      <td>10.79</td>\n",
       "      <td>7.16</td>\n",
       "    </tr>\n",
       "    <tr>\n",
       "      <th rowspan=\"2\" valign=\"top\">educ</th>\n",
       "      <th>mean</th>\n",
       "      <td>10.24</td>\n",
       "      <td>10.35</td>\n",
       "    </tr>\n",
       "    <tr>\n",
       "      <th>std</th>\n",
       "      <td>2.86</td>\n",
       "      <td>2.01</td>\n",
       "    </tr>\n",
       "    <tr>\n",
       "      <th rowspan=\"2\" valign=\"top\">re74</th>\n",
       "      <th>mean</th>\n",
       "      <td>5619.24</td>\n",
       "      <td>2095.57</td>\n",
       "    </tr>\n",
       "    <tr>\n",
       "      <th>std</th>\n",
       "      <td>6788.75</td>\n",
       "      <td>4886.62</td>\n",
       "    </tr>\n",
       "    <tr>\n",
       "      <th rowspan=\"2\" valign=\"top\">re75</th>\n",
       "      <th>mean</th>\n",
       "      <td>2466.48</td>\n",
       "      <td>1532.06</td>\n",
       "    </tr>\n",
       "    <tr>\n",
       "      <th>std</th>\n",
       "      <td>3292.00</td>\n",
       "      <td>3219.25</td>\n",
       "    </tr>\n",
       "    <tr>\n",
       "      <th rowspan=\"2\" valign=\"top\">re78</th>\n",
       "      <th>mean</th>\n",
       "      <td>6984.17</td>\n",
       "      <td>6349.14</td>\n",
       "    </tr>\n",
       "    <tr>\n",
       "      <th>std</th>\n",
       "      <td>7294.16</td>\n",
       "      <td>7867.40</td>\n",
       "    </tr>\n",
       "  </tbody>\n",
       "</table>\n",
       "</div>"
      ],
      "text/plain": [
       "           Without Job Training (N=429)  With Job Training (N=185)\n",
       "age  mean                         28.03                      25.82\n",
       "     std                          10.79                       7.16\n",
       "educ mean                         10.24                      10.35\n",
       "     std                           2.86                       2.01\n",
       "re74 mean                       5619.24                    2095.57\n",
       "     std                        6788.75                    4886.62\n",
       "re75 mean                       2466.48                    1532.06\n",
       "     std                        3292.00                    3219.25\n",
       "re78 mean                       6984.17                    6349.14\n",
       "     std                        7294.16                    7867.40"
      ]
     },
     "execution_count": 15,
     "metadata": {},
     "output_type": "execute_result"
    }
   ],
   "source": [
    "control_cont=data_control[['age','educ','re74','re75','re78']].groupby(lambda idx: 0).agg(['mean','std']).round(2).transpose()\n",
    "treat_cont=data_treat[['age','educ','re74','re75','re78']].groupby(lambda idx: 0).agg(['mean','std']).round(2).transpose()\n",
    "data_cont=pd.concat([control_cont,treat_cont],axis=1)\n",
    "data_cont.columns=['Without Job Training (N=429)','With Job Training (N=185)']\n",
    "data_cont"
   ]
  },
  {
   "cell_type": "markdown",
   "metadata": {},
   "source": [
    "The two sample t-test has the same goal as the Chi-squared test, meaning that it test the independance of covariates in the treatment assignation. We can reject the hypothesis that the covariate distribution has no influence on the assignation to treatment if the returned p-value is lower than 5%."
   ]
  },
  {
   "cell_type": "code",
   "execution_count": 16,
   "metadata": {},
   "outputs": [],
   "source": [
    "# Two sample t-test\n",
    "def t_test(var1,var2):\n",
    "    p_value=stats.ttest_ind(var1, var2, equal_var=False)[1]\n",
    "    if p_value<0.05:\n",
    "        test='Significant'\n",
    "    else:\n",
    "        test='Not significant'\n",
    "    return test"
   ]
  },
  {
   "cell_type": "code",
   "execution_count": 17,
   "metadata": {},
   "outputs": [],
   "source": [
    "lalonde_cont=lalonde_data[['age','educ','re74','re75','re78']]\n",
    "# Compute the two sample t-test for each continuous variable\n",
    "t_test_res=lalonde_cont.apply(lambda x: chisquare_test(lalonde_data['treat'],x), axis=0)\n",
    "# Add result to dataframe\n",
    "data_cont.loc[[('age','mean'),('educ','mean'),('re74','mean'),('re75','mean'),('re78','mean')],'Test Significance']=list(zip(t_test_res))"
   ]
  },
  {
   "cell_type": "code",
   "execution_count": 18,
   "metadata": {},
   "outputs": [],
   "source": [
    "# Standardized difference for continuous variables\n",
    "def stand_diff_cont(x_c,sd_c,x_t,sd_t):\n",
    "    diff=(x_t-x_c)/(np.sqrt((sd_t**2+sd_c**2)/2))\n",
    "    return diff"
   ]
  },
  {
   "cell_type": "code",
   "execution_count": 19,
   "metadata": {},
   "outputs": [
    {
     "data": {
      "text/html": [
       "<div>\n",
       "<style>\n",
       "    .dataframe thead tr:only-child th {\n",
       "        text-align: right;\n",
       "    }\n",
       "\n",
       "    .dataframe thead th {\n",
       "        text-align: left;\n",
       "    }\n",
       "\n",
       "    .dataframe tbody tr th {\n",
       "        vertical-align: top;\n",
       "    }\n",
       "</style>\n",
       "<table border=\"1\" class=\"dataframe\">\n",
       "  <thead>\n",
       "    <tr style=\"text-align: right;\">\n",
       "      <th></th>\n",
       "      <th></th>\n",
       "      <th>Without Job Training (N=429)</th>\n",
       "      <th>With Job Training (N=185)</th>\n",
       "      <th>Test Significance</th>\n",
       "      <th>Standardized difference</th>\n",
       "    </tr>\n",
       "  </thead>\n",
       "  <tbody>\n",
       "    <tr>\n",
       "      <th rowspan=\"2\" valign=\"top\">age</th>\n",
       "      <th>mean</th>\n",
       "      <td>28.03</td>\n",
       "      <td>25.82</td>\n",
       "      <td>Significant</td>\n",
       "      <td>-0.241354</td>\n",
       "    </tr>\n",
       "    <tr>\n",
       "      <th>std</th>\n",
       "      <td>10.79</td>\n",
       "      <td>7.16</td>\n",
       "      <td></td>\n",
       "      <td></td>\n",
       "    </tr>\n",
       "    <tr>\n",
       "      <th rowspan=\"2\" valign=\"top\">educ</th>\n",
       "      <th>mean</th>\n",
       "      <td>10.24</td>\n",
       "      <td>10.35</td>\n",
       "      <td>Significant</td>\n",
       "      <td>0.0445018</td>\n",
       "    </tr>\n",
       "    <tr>\n",
       "      <th>std</th>\n",
       "      <td>2.86</td>\n",
       "      <td>2.01</td>\n",
       "      <td></td>\n",
       "      <td></td>\n",
       "    </tr>\n",
       "    <tr>\n",
       "      <th rowspan=\"2\" valign=\"top\">re74</th>\n",
       "      <th>mean</th>\n",
       "      <td>5619.24</td>\n",
       "      <td>2095.57</td>\n",
       "      <td>Not significant</td>\n",
       "      <td>-0.595753</td>\n",
       "    </tr>\n",
       "    <tr>\n",
       "      <th>std</th>\n",
       "      <td>6788.75</td>\n",
       "      <td>4886.62</td>\n",
       "      <td></td>\n",
       "      <td></td>\n",
       "    </tr>\n",
       "    <tr>\n",
       "      <th rowspan=\"2\" valign=\"top\">re75</th>\n",
       "      <th>mean</th>\n",
       "      <td>2466.48</td>\n",
       "      <td>1532.06</td>\n",
       "      <td>Not significant</td>\n",
       "      <td>-0.286999</td>\n",
       "    </tr>\n",
       "    <tr>\n",
       "      <th>std</th>\n",
       "      <td>3292.00</td>\n",
       "      <td>3219.25</td>\n",
       "      <td></td>\n",
       "      <td></td>\n",
       "    </tr>\n",
       "    <tr>\n",
       "      <th rowspan=\"2\" valign=\"top\">re78</th>\n",
       "      <th>mean</th>\n",
       "      <td>6984.17</td>\n",
       "      <td>6349.14</td>\n",
       "      <td>Not significant</td>\n",
       "      <td>-0.0837086</td>\n",
       "    </tr>\n",
       "    <tr>\n",
       "      <th>std</th>\n",
       "      <td>7294.16</td>\n",
       "      <td>7867.40</td>\n",
       "      <td></td>\n",
       "      <td></td>\n",
       "    </tr>\n",
       "  </tbody>\n",
       "</table>\n",
       "</div>"
      ],
      "text/plain": [
       "           Without Job Training (N=429)  With Job Training (N=185)  \\\n",
       "age  mean                         28.03                      25.82   \n",
       "     std                          10.79                       7.16   \n",
       "educ mean                         10.24                      10.35   \n",
       "     std                           2.86                       2.01   \n",
       "re74 mean                       5619.24                    2095.57   \n",
       "     std                        6788.75                    4886.62   \n",
       "re75 mean                       2466.48                    1532.06   \n",
       "     std                        3292.00                    3219.25   \n",
       "re78 mean                       6984.17                    6349.14   \n",
       "     std                        7294.16                    7867.40   \n",
       "\n",
       "          Test Significance Standardized difference  \n",
       "age  mean       Significant               -0.241354  \n",
       "     std                                             \n",
       "educ mean       Significant               0.0445018  \n",
       "     std                                             \n",
       "re74 mean   Not significant               -0.595753  \n",
       "     std                                             \n",
       "re75 mean   Not significant               -0.286999  \n",
       "     std                                             \n",
       "re78 mean   Not significant              -0.0837086  \n",
       "     std                                             "
      ]
     },
     "execution_count": 19,
     "metadata": {},
     "output_type": "execute_result"
    }
   ],
   "source": [
    "# Compute the standardized difference for each continuous variable and add the result to the dataframe in the same time\n",
    "data_cont.loc[('age','mean'),'Standardized difference']=stand_diff_cont(data_cont.loc[('age','mean'),'Without Job Training (N=429)'],data_cont.loc[('age','std'),'Without Job Training (N=429)'],data_cont.loc[('age','mean'),'With Job Training (N=185)'],data_cont.loc[('age','std'),'With Job Training (N=185)'])\n",
    "data_cont.loc[('educ','mean'),'Standardized difference']=stand_diff_cont(data_cont.loc[('educ','mean'),'Without Job Training (N=429)'],data_cont.loc[('educ','std'),'Without Job Training (N=429)'],data_cont.loc[('educ','mean'),'With Job Training (N=185)'],data_cont.loc[('educ','std'),'With Job Training (N=185)'])\n",
    "data_cont.loc[('re74','mean'),'Standardized difference']=stand_diff_cont(data_cont.loc[('re74','mean'),'Without Job Training (N=429)'],data_cont.loc[('re74','std'),'Without Job Training (N=429)'],data_cont.loc[('re74','mean'),'With Job Training (N=185)'],data_cont.loc[('re74','std'),'With Job Training (N=185)'])\n",
    "data_cont.loc[('re75','mean'),'Standardized difference']=stand_diff_cont(data_cont.loc[('re75','mean'),'Without Job Training (N=429)'],data_cont.loc[('re75','std'),'Without Job Training (N=429)'],data_cont.loc[('re75','mean'),'With Job Training (N=185)'],data_cont.loc[('re75','std'),'With Job Training (N=185)'])\n",
    "data_cont.loc[('re78','mean'),'Standardized difference']=stand_diff_cont(data_cont.loc[('re78','mean'),'Without Job Training (N=429)'],data_cont.loc[('re78','std'),'Without Job Training (N=429)'],data_cont.loc[('re78','mean'),'With Job Training (N=185)'],data_cont.loc[('re78','std'),'With Job Training (N=185)'])\n",
    "data_cont = data_cont.replace(np.nan, '', regex=True)\n",
    "data_cont\n"
   ]
  },
  {
   "cell_type": "code",
   "execution_count": 20,
   "metadata": {},
   "outputs": [
    {
     "data": {
      "image/png": "[encoded data removed]",
      "text/plain": [
       "<matplotlib.figure.Figure at 0x10a02e208>"
      ]
     },
     "metadata": {},
     "output_type": "display_data"
    }
   ],
   "source": [
    "# Compare the distribution of the different continuous features between the two groups (treat and no treat)\n",
    "fig = plt.figure(1, figsize=(17, 10))\n",
    "plt.subplot(2,3,1)\n",
    "sns.boxplot(x='treat', y='age', data=lalonde_data)\n",
    "plt.subplot(2,3,2)\n",
    "sns.boxplot(x='treat', y='educ', data=lalonde_data)\n",
    "plt.subplot(2,3,3)\n",
    "sns.boxplot(x='treat', y='re74', data=lalonde_data)\n",
    "plt.subplot(2,3,4)\n",
    "sns.boxplot(x='treat', y='re75', data=lalonde_data)\n",
    "plt.subplot(2,3,5)\n",
    "sns.boxplot(x='treat', y='re78', data=lalonde_data)\n",
    "plt.show()"
   ]
  },
  {
   "cell_type": "markdown",
   "metadata": {},
   "source": [
    "Concerning the continuous variables, only the age and the education level are not independant of the fact that people were assigned to a specific group."
   ]
  },
  {
   "cell_type": "markdown",
   "metadata": {},
   "source": [
    "### <b> <font color='purple'>1.3 - A propensity score model</font> </b>\n",
    "<b> Use logistic regression to estimate propensity scores for all points in the dataset.\n",
    "You may use `sklearn` to fit the logistic regression model and apply it to each data point to obtain propensity scores:\n",
    "\n",
    "```python\n",
    "from sklearn import linear_model\n",
    "logistic = linear_model.LogisticRegression()\n",
    "```\n",
    "\n",
    "Recall that the propensity score of a data point represents its probability of receiving the treatment, based on its pre-treatment features (in this case, age, education, pre-treatment income, etc.).\n",
    "To brush up on propensity scores, you may read chapter 3.3 of the above-cited book by Rosenbaum or [this article](https://drive.google.com/file/d/0B4jctQY-uqhzTlpBaTBJRTJFVFE/view).\n",
    "\n",
    "Note: you do not need a train/test split here. Train and apply the model on the entire dataset. If you're wondering why this is the right thing to do in this situation, recall that the propensity score model is not used in order to make predictions about unseen data. Its sole purpose is to balance the dataset across treatment groups.\n",
    "(See p. 74 of Rosenbaum's book for an explanation why slight overfitting is even good for propensity scores.\n",
    "If you want even more information, read [this article](https://drive.google.com/file/d/0B4jctQY-uqhzTlpBaTBJRTJFVFE/view).) <b>"
   ]
  },
  {
   "cell_type": "code",
   "execution_count": 21,
   "metadata": {},
   "outputs": [],
   "source": [
    "from sklearn import linear_model"
   ]
  },
  {
   "cell_type": "markdown",
   "metadata": {},
   "source": [
    "Logistic regression used to estimate the probability of a binary response based on one or more predictor (or independent) variables (features). It allows one to say that the presence of a certain covariate increases the odds of a given outcome by a specific factor.\n",
    "\n",
    "The propensity score allows to compare individuals that are the \"closest\" and in order to create an observational study as close as possible to an experiment, a pair of people with same propensity score have to be assigned one on each group (to reproduce the \"chance attribution\")."
   ]
  },
  {
   "cell_type": "code",
   "execution_count": 22,
   "metadata": {},
   "outputs": [
    {
     "data": {
      "text/html": [
       "<div>\n",
       "<style>\n",
       "    .dataframe thead tr:only-child th {\n",
       "        text-align: right;\n",
       "    }\n",
       "\n",
       "    .dataframe thead th {\n",
       "        text-align: left;\n",
       "    }\n",
       "\n",
       "    .dataframe tbody tr th {\n",
       "        vertical-align: top;\n",
       "    }\n",
       "</style>\n",
       "<table border=\"1\" class=\"dataframe\">\n",
       "  <thead>\n",
       "    <tr style=\"text-align: right;\">\n",
       "      <th></th>\n",
       "      <th>age</th>\n",
       "      <th>educ</th>\n",
       "      <th>black</th>\n",
       "      <th>hispan</th>\n",
       "      <th>married</th>\n",
       "      <th>nodegree</th>\n",
       "      <th>re74</th>\n",
       "      <th>re75</th>\n",
       "      <th>re78</th>\n",
       "    </tr>\n",
       "    <tr>\n",
       "      <th>id</th>\n",
       "      <th></th>\n",
       "      <th></th>\n",
       "      <th></th>\n",
       "      <th></th>\n",
       "      <th></th>\n",
       "      <th></th>\n",
       "      <th></th>\n",
       "      <th></th>\n",
       "      <th></th>\n",
       "    </tr>\n",
       "  </thead>\n",
       "  <tbody>\n",
       "    <tr>\n",
       "      <th>NSW1</th>\n",
       "      <td>37</td>\n",
       "      <td>11</td>\n",
       "      <td>1</td>\n",
       "      <td>0</td>\n",
       "      <td>1</td>\n",
       "      <td>1</td>\n",
       "      <td>0.0</td>\n",
       "      <td>0.0</td>\n",
       "      <td>9930.0460</td>\n",
       "    </tr>\n",
       "    <tr>\n",
       "      <th>NSW2</th>\n",
       "      <td>22</td>\n",
       "      <td>9</td>\n",
       "      <td>0</td>\n",
       "      <td>1</td>\n",
       "      <td>0</td>\n",
       "      <td>1</td>\n",
       "      <td>0.0</td>\n",
       "      <td>0.0</td>\n",
       "      <td>3595.8940</td>\n",
       "    </tr>\n",
       "    <tr>\n",
       "      <th>NSW3</th>\n",
       "      <td>30</td>\n",
       "      <td>12</td>\n",
       "      <td>1</td>\n",
       "      <td>0</td>\n",
       "      <td>0</td>\n",
       "      <td>0</td>\n",
       "      <td>0.0</td>\n",
       "      <td>0.0</td>\n",
       "      <td>24909.4500</td>\n",
       "    </tr>\n",
       "    <tr>\n",
       "      <th>NSW4</th>\n",
       "      <td>27</td>\n",
       "      <td>11</td>\n",
       "      <td>1</td>\n",
       "      <td>0</td>\n",
       "      <td>0</td>\n",
       "      <td>1</td>\n",
       "      <td>0.0</td>\n",
       "      <td>0.0</td>\n",
       "      <td>7506.1460</td>\n",
       "    </tr>\n",
       "    <tr>\n",
       "      <th>NSW5</th>\n",
       "      <td>33</td>\n",
       "      <td>8</td>\n",
       "      <td>1</td>\n",
       "      <td>0</td>\n",
       "      <td>0</td>\n",
       "      <td>1</td>\n",
       "      <td>0.0</td>\n",
       "      <td>0.0</td>\n",
       "      <td>289.7899</td>\n",
       "    </tr>\n",
       "  </tbody>\n",
       "</table>\n",
       "</div>"
      ],
      "text/plain": [
       "      age  educ  black  hispan  married  nodegree  re74  re75        re78\n",
       "id                                                                       \n",
       "NSW1   37    11      1       0        1         1   0.0   0.0   9930.0460\n",
       "NSW2   22     9      0       1        0         1   0.0   0.0   3595.8940\n",
       "NSW3   30    12      1       0        0         0   0.0   0.0  24909.4500\n",
       "NSW4   27    11      1       0        0         1   0.0   0.0   7506.1460\n",
       "NSW5   33     8      1       0        0         1   0.0   0.0    289.7899"
      ]
     },
     "execution_count": 22,
     "metadata": {},
     "output_type": "execute_result"
    }
   ],
   "source": [
    "covariates=lalonde_data.drop(['treat'],axis=1)\n",
    "covariates.head()"
   ]
  },
  {
   "cell_type": "code",
   "execution_count": 23,
   "metadata": {},
   "outputs": [],
   "source": [
    "# Create a Logistic Regression model\n",
    "logistic = linear_model.LogisticRegression()\n",
    "\n",
    "# Fit the model with X (covariates) and y (dependent variable)\n",
    "X=lalonde_data.drop(['treat'],axis=1)\n",
    "y=lalonde_data.treat\n",
    "logistic = logistic.fit(X, y)\n",
    "\n",
    "# check the accuracy on the training set\n",
    "logistic.score(covariates, lalonde_data.treat)\n",
    "\n",
    "# Probability estimates of the logistic regression that are equal to the propensity scores\n",
    "# Select only the first column that corresponds to the probability of being selected in the treatment group (treat=1)\n",
    "prop_score=logistic.predict_proba(X)[:,1]"
   ]
  },
  {
   "cell_type": "code",
   "execution_count": 24,
   "metadata": {},
   "outputs": [
    {
     "data": {
      "text/html": [
       "<div>\n",
       "<style>\n",
       "    .dataframe thead tr:only-child th {\n",
       "        text-align: right;\n",
       "    }\n",
       "\n",
       "    .dataframe thead th {\n",
       "        text-align: left;\n",
       "    }\n",
       "\n",
       "    .dataframe tbody tr th {\n",
       "        vertical-align: top;\n",
       "    }\n",
       "</style>\n",
       "<table border=\"1\" class=\"dataframe\">\n",
       "  <thead>\n",
       "    <tr style=\"text-align: right;\">\n",
       "      <th></th>\n",
       "      <th>treat</th>\n",
       "      <th>age</th>\n",
       "      <th>educ</th>\n",
       "      <th>black</th>\n",
       "      <th>hispan</th>\n",
       "      <th>married</th>\n",
       "      <th>nodegree</th>\n",
       "      <th>re74</th>\n",
       "      <th>re75</th>\n",
       "      <th>re78</th>\n",
       "      <th>Propensity Score</th>\n",
       "    </tr>\n",
       "    <tr>\n",
       "      <th>id</th>\n",
       "      <th></th>\n",
       "      <th></th>\n",
       "      <th></th>\n",
       "      <th></th>\n",
       "      <th></th>\n",
       "      <th></th>\n",
       "      <th></th>\n",
       "      <th></th>\n",
       "      <th></th>\n",
       "      <th></th>\n",
       "      <th></th>\n",
       "    </tr>\n",
       "  </thead>\n",
       "  <tbody>\n",
       "    <tr>\n",
       "      <th>NSW1</th>\n",
       "      <td>1</td>\n",
       "      <td>37</td>\n",
       "      <td>11</td>\n",
       "      <td>1</td>\n",
       "      <td>0</td>\n",
       "      <td>1</td>\n",
       "      <td>1</td>\n",
       "      <td>0.0</td>\n",
       "      <td>0.0</td>\n",
       "      <td>9930.0460</td>\n",
       "      <td>0.458074</td>\n",
       "    </tr>\n",
       "    <tr>\n",
       "      <th>NSW2</th>\n",
       "      <td>1</td>\n",
       "      <td>22</td>\n",
       "      <td>9</td>\n",
       "      <td>0</td>\n",
       "      <td>1</td>\n",
       "      <td>0</td>\n",
       "      <td>1</td>\n",
       "      <td>0.0</td>\n",
       "      <td>0.0</td>\n",
       "      <td>3595.8940</td>\n",
       "      <td>0.151980</td>\n",
       "    </tr>\n",
       "    <tr>\n",
       "      <th>NSW3</th>\n",
       "      <td>1</td>\n",
       "      <td>30</td>\n",
       "      <td>12</td>\n",
       "      <td>1</td>\n",
       "      <td>0</td>\n",
       "      <td>0</td>\n",
       "      <td>0</td>\n",
       "      <td>0.0</td>\n",
       "      <td>0.0</td>\n",
       "      <td>24909.4500</td>\n",
       "      <td>0.750966</td>\n",
       "    </tr>\n",
       "    <tr>\n",
       "      <th>NSW4</th>\n",
       "      <td>1</td>\n",
       "      <td>27</td>\n",
       "      <td>11</td>\n",
       "      <td>1</td>\n",
       "      <td>0</td>\n",
       "      <td>0</td>\n",
       "      <td>1</td>\n",
       "      <td>0.0</td>\n",
       "      <td>0.0</td>\n",
       "      <td>7506.1460</td>\n",
       "      <td>0.674020</td>\n",
       "    </tr>\n",
       "    <tr>\n",
       "      <th>NSW5</th>\n",
       "      <td>1</td>\n",
       "      <td>33</td>\n",
       "      <td>8</td>\n",
       "      <td>1</td>\n",
       "      <td>0</td>\n",
       "      <td>0</td>\n",
       "      <td>1</td>\n",
       "      <td>0.0</td>\n",
       "      <td>0.0</td>\n",
       "      <td>289.7899</td>\n",
       "      <td>0.670590</td>\n",
       "    </tr>\n",
       "    <tr>\n",
       "      <th>NSW6</th>\n",
       "      <td>1</td>\n",
       "      <td>22</td>\n",
       "      <td>9</td>\n",
       "      <td>1</td>\n",
       "      <td>0</td>\n",
       "      <td>0</td>\n",
       "      <td>1</td>\n",
       "      <td>0.0</td>\n",
       "      <td>0.0</td>\n",
       "      <td>4056.4940</td>\n",
       "      <td>0.711254</td>\n",
       "    </tr>\n",
       "    <tr>\n",
       "      <th>NSW7</th>\n",
       "      <td>1</td>\n",
       "      <td>23</td>\n",
       "      <td>12</td>\n",
       "      <td>1</td>\n",
       "      <td>0</td>\n",
       "      <td>0</td>\n",
       "      <td>0</td>\n",
       "      <td>0.0</td>\n",
       "      <td>0.0</td>\n",
       "      <td>0.0000</td>\n",
       "      <td>0.649616</td>\n",
       "    </tr>\n",
       "    <tr>\n",
       "      <th>NSW8</th>\n",
       "      <td>1</td>\n",
       "      <td>32</td>\n",
       "      <td>11</td>\n",
       "      <td>1</td>\n",
       "      <td>0</td>\n",
       "      <td>0</td>\n",
       "      <td>1</td>\n",
       "      <td>0.0</td>\n",
       "      <td>0.0</td>\n",
       "      <td>8472.1580</td>\n",
       "      <td>0.660434</td>\n",
       "    </tr>\n",
       "    <tr>\n",
       "      <th>NSW9</th>\n",
       "      <td>1</td>\n",
       "      <td>22</td>\n",
       "      <td>16</td>\n",
       "      <td>1</td>\n",
       "      <td>0</td>\n",
       "      <td>0</td>\n",
       "      <td>0</td>\n",
       "      <td>0.0</td>\n",
       "      <td>0.0</td>\n",
       "      <td>2164.0220</td>\n",
       "      <td>0.583820</td>\n",
       "    </tr>\n",
       "    <tr>\n",
       "      <th>NSW10</th>\n",
       "      <td>1</td>\n",
       "      <td>33</td>\n",
       "      <td>12</td>\n",
       "      <td>0</td>\n",
       "      <td>0</td>\n",
       "      <td>1</td>\n",
       "      <td>0</td>\n",
       "      <td>0.0</td>\n",
       "      <td>0.0</td>\n",
       "      <td>12418.0700</td>\n",
       "      <td>0.086735</td>\n",
       "    </tr>\n",
       "  </tbody>\n",
       "</table>\n",
       "</div>"
      ],
      "text/plain": [
       "       treat  age  educ  black  hispan  married  nodegree  re74  re75  \\\n",
       "id                                                                      \n",
       "NSW1       1   37    11      1       0        1         1   0.0   0.0   \n",
       "NSW2       1   22     9      0       1        0         1   0.0   0.0   \n",
       "NSW3       1   30    12      1       0        0         0   0.0   0.0   \n",
       "NSW4       1   27    11      1       0        0         1   0.0   0.0   \n",
       "NSW5       1   33     8      1       0        0         1   0.0   0.0   \n",
       "NSW6       1   22     9      1       0        0         1   0.0   0.0   \n",
       "NSW7       1   23    12      1       0        0         0   0.0   0.0   \n",
       "NSW8       1   32    11      1       0        0         1   0.0   0.0   \n",
       "NSW9       1   22    16      1       0        0         0   0.0   0.0   \n",
       "NSW10      1   33    12      0       0        1         0   0.0   0.0   \n",
       "\n",
       "             re78  Propensity Score  \n",
       "id                                   \n",
       "NSW1    9930.0460          0.458074  \n",
       "NSW2    3595.8940          0.151980  \n",
       "NSW3   24909.4500          0.750966  \n",
       "NSW4    7506.1460          0.674020  \n",
       "NSW5     289.7899          0.670590  \n",
       "NSW6    4056.4940          0.711254  \n",
       "NSW7       0.0000          0.649616  \n",
       "NSW8    8472.1580          0.660434  \n",
       "NSW9    2164.0220          0.583820  \n",
       "NSW10  12418.0700          0.086735  "
      ]
     },
     "execution_count": 24,
     "metadata": {},
     "output_type": "execute_result"
    }
   ],
   "source": [
    "# Add the propensity score for each point in our dataset\n",
    "lalonde_data['Propensity Score']=prop_score.tolist()\n",
    "lalonde_data.head(10)"
   ]
  },
  {
   "cell_type": "code",
   "execution_count": 25,
   "metadata": {},
   "outputs": [
    {
     "data": {
      "image/png": "[encoded data removed]",
      "text/plain": [
       "<matplotlib.figure.Figure at 0x109c8c7b8>"
      ]
     },
     "metadata": {},
     "output_type": "display_data"
    }
   ],
   "source": [
    "# Check that the propensity score is balanced across treatment and comparison group\n",
    "data_control=lalonde_data[lalonde_data.treat==0]\n",
    "data_treat=lalonde_data[lalonde_data.treat==1]\n",
    "fig, ax = plt.subplots()\n",
    "sns.distplot(data_control['Propensity Score'],label=\"Without Job Training Program\",ax=ax)\n",
    "sns.distplot(data_treat['Propensity Score'],label=\"With Job Training Program\",ax=ax)\n",
    "ax.legend()\n",
    "ax.set_xlabel('Propensity score')\n",
    "ax.set_ylabel('Density')\n",
    "plt.show()"
   ]
  },
  {
   "cell_type": "markdown",
   "metadata": {},
   "source": [
    "We can notice that the distribution of propensity score is not the same for the two groups so the observational study is far to looks like an experiment and we need a better matching of the propensity scores."
   ]
  },
  {
   "cell_type": "markdown",
   "metadata": {},
   "source": [
    "### <b> <font color='purple'>1.4 - Balancing the dataset via matching</font> </b>\n",
    "<b> Use the propensity scores to match each data point from the treated group with exactly one data point from the control group, while ensuring that each data point from the control group is matched with at most one data point from the treated group.\n",
    "(Hint: you may explore the `networkx` package in Python for predefined matching functions.)\n",
    "\n",
    "Your matching should maximize the similarity between matched subjects, as captured by their propensity scores.\n",
    "In other words, the sum (over all matched pairs) of absolute propensity-score differences between the two matched subjects should be minimized.\n",
    "\n",
    "After matching, you have as many treated as you have control subjects.\n",
    "Compare the outcomes (`re78`) between the two groups (treated and control).\n",
    "\n",
    "Also, compare again the feature-value distributions between the two groups, as you've done in part 2 above, but now only for the matched subjects.\n",
    "What do you observe?\n",
    "Are you closer to being able to draw valid conclusions now than you were before? <b>"
   ]
  },
  {
   "cell_type": "markdown",
   "metadata": {},
   "source": [
    "To compute a matching between the two groups, we are going to create a graph from the data, and then use the max_weight_matching function from the networkx package."
   ]
  },
  {
   "cell_type": "markdown",
   "metadata": {},
   "source": [
    "We first create our graph from the Lalonde data. Each node will have the attributes score containing its propensity score, and bipartite representing the categorical attribute 'treat'."
   ]
  },
  {
   "cell_type": "code",
   "execution_count": 26,
   "metadata": {},
   "outputs": [],
   "source": [
    "import networkx as nx\n",
    "from networkx.algorithms import bipartite\n",
    "\n",
    "G = nx.Graph()\n",
    "\n",
    "for d in range(len(lalonde_data)):\n",
    "    G.add_node(lalonde_data.index[d], score=lalonde_data.iloc[d]['Propensity Score'], bipartite=int(lalonde_data.iloc[d]['treat']))"
   ]
  },
  {
   "cell_type": "markdown",
   "metadata": {},
   "source": [
    "We divide our nodes into two sets : those from the control group, and those from the treated group."
   ]
  },
  {
   "cell_type": "code",
   "execution_count": 27,
   "metadata": {},
   "outputs": [],
   "source": [
    "control_nodes = list(n for n in G if G.node[n]['bipartite']==0)\n",
    "treat_nodes = G.nodes() - control_nodes"
   ]
  },
  {
   "cell_type": "markdown",
   "metadata": {},
   "source": [
    "We then add an edge from every treat node to every control node, with a weight representing their propensity score difference. Since we want to get the maximum similarity between two subjects, we want to construct pairs of subjects such that the difference between their propensity score is minimal. The matching function we are going to use match two nodes if the weight of the edge connecting them is maximal. In order to have a maximum weight if two subjects are similar, we define this weight to be the absolute value of the difference of their score substracted to 1."
   ]
  },
  {
   "cell_type": "code",
   "execution_count": 28,
   "metadata": {},
   "outputs": [],
   "source": [
    "for t in treat_nodes:\n",
    "    for c in control_nodes:\n",
    "        edge_weight = 1 - abs(G.node[t]['score'] - G.node[c]['score'])\n",
    "        G.add_edge(t,c, weight = edge_weight)"
   ]
  },
  {
   "cell_type": "markdown",
   "metadata": {},
   "source": [
    "We can now use the max_weight_matching function of networkx to match each data point from the treated group with exactly one data point from the control group."
   ]
  },
  {
   "cell_type": "code",
   "execution_count": 29,
   "metadata": {},
   "outputs": [],
   "source": [
    "#import pickle\n",
    "\n",
    "#matching = nx.max_weight_matching(G, maxcardinality=True)\n",
    "#pickle.dump( matching, open( \"matching.p\", \"wb\" ) )"
   ]
  },
  {
   "cell_type": "code",
   "execution_count": 30,
   "metadata": {},
   "outputs": [],
   "source": [
    "import pickle\n",
    "matching = pickle.load(open( \"matching.p\", \"rb\" ) )"
   ]
  },
  {
   "cell_type": "markdown",
   "metadata": {},
   "source": [
    "Our resulting matching dictionary contains the edges from the treated group to the control group, but also the reversed edges from the control group to the treated group. So we create a dataframe from our dictionary and keep only the first half."
   ]
  },
  {
   "cell_type": "code",
   "execution_count": 31,
   "metadata": {},
   "outputs": [
    {
     "name": "stdout",
     "output_type": "stream",
     "text": [
      "We check that the length of the dictionary is the two times the size of the treated group :\n",
      "size of dictionary / 2 = 185 \n",
      "size of treated group = 185\n"
     ]
    }
   ],
   "source": [
    "df_matching = (pd.DataFrame.from_records([matching]).transpose())[0].reset_index()\n",
    "first_half = int(len(matching)/2)\n",
    "print(\"We check that the length of the dictionary is the two times the size of the treated group :\")\n",
    "print(\"size of dictionary / 2 = \" + str(first_half)\n",
    "        + \" \\nsize of treated group = \" + str(len(data_treat)))"
   ]
  },
  {
   "cell_type": "code",
   "execution_count": 32,
   "metadata": {},
   "outputs": [
    {
     "data": {
      "text/html": [
       "<div>\n",
       "<style>\n",
       "    .dataframe thead tr:only-child th {\n",
       "        text-align: right;\n",
       "    }\n",
       "\n",
       "    .dataframe thead th {\n",
       "        text-align: left;\n",
       "    }\n",
       "\n",
       "    .dataframe tbody tr th {\n",
       "        vertical-align: top;\n",
       "    }\n",
       "</style>\n",
       "<table border=\"1\" class=\"dataframe\">\n",
       "  <thead>\n",
       "    <tr style=\"text-align: right;\">\n",
       "      <th></th>\n",
       "      <th>Treated group</th>\n",
       "      <th>Control group</th>\n",
       "    </tr>\n",
       "  </thead>\n",
       "  <tbody>\n",
       "    <tr>\n",
       "      <th>0</th>\n",
       "      <td>NSW1</td>\n",
       "      <td>PSID188</td>\n",
       "    </tr>\n",
       "    <tr>\n",
       "      <th>1</th>\n",
       "      <td>NSW10</td>\n",
       "      <td>PSID394</td>\n",
       "    </tr>\n",
       "    <tr>\n",
       "      <th>2</th>\n",
       "      <td>NSW100</td>\n",
       "      <td>PSID177</td>\n",
       "    </tr>\n",
       "    <tr>\n",
       "      <th>3</th>\n",
       "      <td>NSW101</td>\n",
       "      <td>PSID373</td>\n",
       "    </tr>\n",
       "    <tr>\n",
       "      <th>4</th>\n",
       "      <td>NSW102</td>\n",
       "      <td>PSID367</td>\n",
       "    </tr>\n",
       "  </tbody>\n",
       "</table>\n",
       "</div>"
      ],
      "text/plain": [
       "  Treated group Control group\n",
       "0          NSW1       PSID188\n",
       "1         NSW10       PSID394\n",
       "2        NSW100       PSID177\n",
       "3        NSW101       PSID373\n",
       "4        NSW102       PSID367"
      ]
     },
     "execution_count": 32,
     "metadata": {},
     "output_type": "execute_result"
    }
   ],
   "source": [
    "df_matching = df_matching[:first_half].copy()\n",
    "df_matching.columns=['Treated group', 'Control group']\n",
    "df_matching.head()"
   ]
  },
  {
   "cell_type": "markdown",
   "metadata": {},
   "source": [
    "We can now compare the earnings between the two resulting groups."
   ]
  },
  {
   "cell_type": "code",
   "execution_count": 33,
   "metadata": {},
   "outputs": [
    {
     "data": {
      "image/png": "[encoded data removed]",
      "text/plain": [
       "<matplotlib.figure.Figure at 0x10a1ec518>"
      ]
     },
     "metadata": {},
     "output_type": "display_data"
    }
   ],
   "source": [
    "data_control_subset = data_control[data_control.index.isin(df_matching['Control group'])]\n",
    "# Visualization of the respective distribution of the outcome variable for the two groups with an histogram \n",
    "fig = plt.figure(figsize=(18, 6))\n",
    "# Histrogram for the control group\n",
    "plt.subplot(1,3,1)\n",
    "plt.hist(data_control.re78,color='#00ccff')\n",
    "plt.title('Earnings distribution for the control group')\n",
    "plt.xlabel('real earning in 1978 [$]')\n",
    "plt.ylabel('frequency')\n",
    "# Histrogram for the control group\n",
    "plt.subplot(1,3,2)\n",
    "plt.hist(data_control_subset.re78,color='#00ccff')\n",
    "plt.title('Earnings distribution for the control group subset')\n",
    "plt.xlabel('real earning in 1978 [$]')\n",
    "plt.ylabel('frequency')\n",
    "# Histrogram for the treated group\n",
    "plt.subplot(1,3,3)\n",
    "plt.hist(data_treat.re78,color='#00ccff')\n",
    "plt.title('Earnings distribution of earning for the treated group')\n",
    "plt.xlabel('real earning in 1978 [$]')\n",
    "plt.ylabel('frequency')\n",
    "plt.show()"
   ]
  },
  {
   "cell_type": "code",
   "execution_count": 34,
   "metadata": {},
   "outputs": [
    {
     "data": {
      "text/html": [
       "<div>\n",
       "<style>\n",
       "    .dataframe thead tr:only-child th {\n",
       "        text-align: right;\n",
       "    }\n",
       "\n",
       "    .dataframe thead th {\n",
       "        text-align: left;\n",
       "    }\n",
       "\n",
       "    .dataframe tbody tr th {\n",
       "        vertical-align: top;\n",
       "    }\n",
       "</style>\n",
       "<table border=\"1\" class=\"dataframe\">\n",
       "  <thead>\n",
       "    <tr style=\"text-align: right;\">\n",
       "      <th></th>\n",
       "      <th>Without Job Training (N=185)</th>\n",
       "      <th>With Job Training (N=185)</th>\n",
       "    </tr>\n",
       "    <tr>\n",
       "      <th>Variable</th>\n",
       "      <th></th>\n",
       "      <th></th>\n",
       "    </tr>\n",
       "  </thead>\n",
       "  <tbody>\n",
       "    <tr>\n",
       "      <th>black</th>\n",
       "      <td>47.03</td>\n",
       "      <td>84.32</td>\n",
       "    </tr>\n",
       "    <tr>\n",
       "      <th>hispan</th>\n",
       "      <td>10.27</td>\n",
       "      <td>5.95</td>\n",
       "    </tr>\n",
       "    <tr>\n",
       "      <th>married</th>\n",
       "      <td>18.38</td>\n",
       "      <td>18.92</td>\n",
       "    </tr>\n",
       "    <tr>\n",
       "      <th>nodegree</th>\n",
       "      <td>67.57</td>\n",
       "      <td>70.81</td>\n",
       "    </tr>\n",
       "  </tbody>\n",
       "</table>\n",
       "</div>"
      ],
      "text/plain": [
       "          Without Job Training (N=185)  With Job Training (N=185)\n",
       "Variable                                                         \n",
       "black                            47.03                      84.32\n",
       "hispan                           10.27                       5.95\n",
       "married                          18.38                      18.92\n",
       "nodegree                         67.57                      70.81"
      ]
     },
     "execution_count": 34,
     "metadata": {},
     "output_type": "execute_result"
    }
   ],
   "source": [
    "control_cat_subset=data_control_subset[['black','hispan','married','nodegree']].apply(lambda x:(sum(x)/len(x))*100,axis=0).round(2)\n",
    "data_cat_subset=pd.DataFrame(np.column_stack([control_cat_subset, treat_cat]),index=control_cat_subset.keys(),columns=['Without Job Training (N=185)','With Job Training (N=185)'])\n",
    "data_cat_subset.index.name='Variable'\n",
    "data_cat_subset"
   ]
  },
  {
   "cell_type": "code",
   "execution_count": 35,
   "metadata": {},
   "outputs": [
    {
     "data": {
      "text/html": [
       "<div>\n",
       "<style>\n",
       "    .dataframe thead tr:only-child th {\n",
       "        text-align: right;\n",
       "    }\n",
       "\n",
       "    .dataframe thead th {\n",
       "        text-align: left;\n",
       "    }\n",
       "\n",
       "    .dataframe tbody tr th {\n",
       "        vertical-align: top;\n",
       "    }\n",
       "</style>\n",
       "<table border=\"1\" class=\"dataframe\">\n",
       "  <thead>\n",
       "    <tr style=\"text-align: right;\">\n",
       "      <th></th>\n",
       "      <th>Without Job Training (N=185)</th>\n",
       "      <th>With Job Training (N=185)</th>\n",
       "      <th>Statistic Test Significance</th>\n",
       "      <th>Standardized difference</th>\n",
       "    </tr>\n",
       "    <tr>\n",
       "      <th>Variable</th>\n",
       "      <th></th>\n",
       "      <th></th>\n",
       "      <th></th>\n",
       "      <th></th>\n",
       "    </tr>\n",
       "  </thead>\n",
       "  <tbody>\n",
       "    <tr>\n",
       "      <th>black</th>\n",
       "      <td>47.03</td>\n",
       "      <td>84.32</td>\n",
       "      <td>Significant</td>\n",
       "      <td>0.853996</td>\n",
       "    </tr>\n",
       "    <tr>\n",
       "      <th>hispan</th>\n",
       "      <td>10.27</td>\n",
       "      <td>5.95</td>\n",
       "      <td>Not significant</td>\n",
       "      <td>-0.158746</td>\n",
       "    </tr>\n",
       "    <tr>\n",
       "      <th>married</th>\n",
       "      <td>18.38</td>\n",
       "      <td>18.92</td>\n",
       "      <td>Not significant</td>\n",
       "      <td>0.013864</td>\n",
       "    </tr>\n",
       "    <tr>\n",
       "      <th>nodegree</th>\n",
       "      <td>67.57</td>\n",
       "      <td>70.81</td>\n",
       "      <td>Not significant</td>\n",
       "      <td>0.070217</td>\n",
       "    </tr>\n",
       "  </tbody>\n",
       "</table>\n",
       "</div>"
      ],
      "text/plain": [
       "          Without Job Training (N=185)  With Job Training (N=185)  \\\n",
       "Variable                                                            \n",
       "black                            47.03                      84.32   \n",
       "hispan                           10.27                       5.95   \n",
       "married                          18.38                      18.92   \n",
       "nodegree                         67.57                      70.81   \n",
       "\n",
       "         Statistic Test Significance  Standardized difference  \n",
       "Variable                                                       \n",
       "black                    Significant                 0.853996  \n",
       "hispan               Not significant                -0.158746  \n",
       "married              Not significant                 0.013864  \n",
       "nodegree             Not significant                 0.070217  "
      ]
     },
     "execution_count": 35,
     "metadata": {},
     "output_type": "execute_result"
    }
   ],
   "source": [
    "# Remove the unmatched subjects in the control group\n",
    "lalonde_subset = lalonde_data[(lalonde_data.index.isin(df_matching['Control group'])) | (lalonde_data.index.isin(df_matching['Treated group']))]\n",
    "\n",
    "# Compute the chi-square test for each categorical feature and add it to the dataframe\n",
    "lalonde_cat_subset=lalonde_subset[['black','hispan','married','nodegree']]\n",
    "data_cat_subset['Statistic Test Significance']=lalonde_cat_subset.apply(lambda x: chisquare_test(lalonde_subset['treat'],x), axis=0)\n",
    "\n",
    "# Compute the standardized difference between for each categorical variable\n",
    "data_cat_subset['Standardized difference']=stand_diff_cat(data_cat_subset['Without Job Training (N=185)'],data_cat_subset['With Job Training (N=185)'])\n",
    "data_cat_subset"
   ]
  },
  {
   "cell_type": "code",
   "execution_count": 36,
   "metadata": {},
   "outputs": [
    {
     "data": {
      "image/png": "[encoded data removed]",
      "text/plain": [
       "<matplotlib.figure.Figure at 0x10a8e1ac8>"
      ]
     },
     "metadata": {},
     "output_type": "display_data"
    }
   ],
   "source": [
    "# Compare the distribution of the different continuous features between the two groups (treat and control)\n",
    "fig = plt.figure(1, figsize=(13, 8))\n",
    "plt.subplot(2,2,1)\n",
    "sns.barplot(x=\"treat\",y=\"black\",data=lalonde_subset)\n",
    "plt.subplot(2,2,2)\n",
    "sns.barplot(x=\"treat\",y=\"hispan\",data=lalonde_subset)\n",
    "plt.subplot(2,2,3)\n",
    "sns.barplot(x=\"treat\",y=\"married\",data=lalonde_subset)\n",
    "plt.subplot(2,2,4)\n",
    "sns.barplot(x=\"treat\",y=\"nodegree\",data=lalonde_subset)\n",
    "plt.show()"
   ]
  },
  {
   "cell_type": "code",
   "execution_count": 37,
   "metadata": {},
   "outputs": [
    {
     "data": {
      "text/html": [
       "<div>\n",
       "<style>\n",
       "    .dataframe thead tr:only-child th {\n",
       "        text-align: right;\n",
       "    }\n",
       "\n",
       "    .dataframe thead th {\n",
       "        text-align: left;\n",
       "    }\n",
       "\n",
       "    .dataframe tbody tr th {\n",
       "        vertical-align: top;\n",
       "    }\n",
       "</style>\n",
       "<table border=\"1\" class=\"dataframe\">\n",
       "  <thead>\n",
       "    <tr style=\"text-align: right;\">\n",
       "      <th></th>\n",
       "      <th></th>\n",
       "      <th>Without Job Training (N=185)</th>\n",
       "      <th>With Job Training (N=185)</th>\n",
       "      <th>Test Significance</th>\n",
       "      <th>Standardized difference</th>\n",
       "    </tr>\n",
       "  </thead>\n",
       "  <tbody>\n",
       "    <tr>\n",
       "      <th rowspan=\"2\" valign=\"top\">age</th>\n",
       "      <th>mean</th>\n",
       "      <td>23.17</td>\n",
       "      <td>25.82</td>\n",
       "      <td>Significant</td>\n",
       "      <td>0.318445</td>\n",
       "    </tr>\n",
       "    <tr>\n",
       "      <th>std</th>\n",
       "      <td>9.34</td>\n",
       "      <td>7.16</td>\n",
       "      <td></td>\n",
       "      <td></td>\n",
       "    </tr>\n",
       "    <tr>\n",
       "      <th rowspan=\"2\" valign=\"top\">educ</th>\n",
       "      <th>mean</th>\n",
       "      <td>9.86</td>\n",
       "      <td>10.35</td>\n",
       "      <td>Not significant</td>\n",
       "      <td>0.202</td>\n",
       "    </tr>\n",
       "    <tr>\n",
       "      <th>std</th>\n",
       "      <td>2.78</td>\n",
       "      <td>2.01</td>\n",
       "      <td></td>\n",
       "      <td></td>\n",
       "    </tr>\n",
       "    <tr>\n",
       "      <th rowspan=\"2\" valign=\"top\">re74</th>\n",
       "      <th>mean</th>\n",
       "      <td>2268.39</td>\n",
       "      <td>2095.57</td>\n",
       "      <td>Not significant</td>\n",
       "      <td>-0.0376747</td>\n",
       "    </tr>\n",
       "    <tr>\n",
       "      <th>std</th>\n",
       "      <td>4266.74</td>\n",
       "      <td>4886.62</td>\n",
       "      <td></td>\n",
       "      <td></td>\n",
       "    </tr>\n",
       "    <tr>\n",
       "      <th rowspan=\"2\" valign=\"top\">re75</th>\n",
       "      <th>mean</th>\n",
       "      <td>1670.14</td>\n",
       "      <td>1532.06</td>\n",
       "      <td>Not significant</td>\n",
       "      <td>-0.0462282</td>\n",
       "    </tr>\n",
       "    <tr>\n",
       "      <th>std</th>\n",
       "      <td>2734.93</td>\n",
       "      <td>3219.25</td>\n",
       "      <td></td>\n",
       "      <td></td>\n",
       "    </tr>\n",
       "    <tr>\n",
       "      <th rowspan=\"2\" valign=\"top\">re78</th>\n",
       "      <th>mean</th>\n",
       "      <td>5828.58</td>\n",
       "      <td>6349.14</td>\n",
       "      <td>Not significant</td>\n",
       "      <td>0.0739755</td>\n",
       "    </tr>\n",
       "    <tr>\n",
       "      <th>std</th>\n",
       "      <td>6094.31</td>\n",
       "      <td>7867.40</td>\n",
       "      <td></td>\n",
       "      <td></td>\n",
       "    </tr>\n",
       "  </tbody>\n",
       "</table>\n",
       "</div>"
      ],
      "text/plain": [
       "           Without Job Training (N=185)  With Job Training (N=185)  \\\n",
       "age  mean                         23.17                      25.82   \n",
       "     std                           9.34                       7.16   \n",
       "educ mean                          9.86                      10.35   \n",
       "     std                           2.78                       2.01   \n",
       "re74 mean                       2268.39                    2095.57   \n",
       "     std                        4266.74                    4886.62   \n",
       "re75 mean                       1670.14                    1532.06   \n",
       "     std                        2734.93                    3219.25   \n",
       "re78 mean                       5828.58                    6349.14   \n",
       "     std                        6094.31                    7867.40   \n",
       "\n",
       "          Test Significance Standardized difference  \n",
       "age  mean       Significant                0.318445  \n",
       "     std                                             \n",
       "educ mean   Not significant                   0.202  \n",
       "     std                                             \n",
       "re74 mean   Not significant              -0.0376747  \n",
       "     std                                             \n",
       "re75 mean   Not significant              -0.0462282  \n",
       "     std                                             \n",
       "re78 mean   Not significant               0.0739755  \n",
       "     std                                             "
      ]
     },
     "execution_count": 37,
     "metadata": {},
     "output_type": "execute_result"
    }
   ],
   "source": [
    "control_cont_subset=data_control_subset[['age','educ','re74','re75','re78']].groupby(lambda idx: 0).agg(['mean','std']).round(2).transpose()\n",
    "data_cont_subset=pd.concat([control_cont_subset,treat_cont],axis=1)\n",
    "data_cont_subset.columns=['Without Job Training (N=185)','With Job Training (N=185)']\n",
    "\n",
    "lalonde_cont_subset=lalonde_subset[['age','educ','re74','re75','re78']]\n",
    "# Compute the two samples t-test for each continuous variable\n",
    "t_test_res_subset=lalonde_cont_subset.apply(lambda x: chisquare_test(lalonde_subset['treat'],x), axis=0)\n",
    "# Add result to dataframe\n",
    "data_cont_subset.loc[[('age','mean'),('educ','mean'),('re74','mean'),('re75','mean'),('re78','mean')],'Test Significance']=list(zip(t_test_res_subset))\n",
    "\n",
    "# Compute the standardized difference for each continuous variable and add the result to the dataframe in the same time\n",
    "data_cont_subset.loc[('age', 'mean'),'Standardized difference']=stand_diff_cont(data_cont_subset.loc[('age', 'mean'),'Without Job Training (N=185)'],data_cont_subset.loc[('age', 'std'),'Without Job Training (N=185)'],data_cont_subset.loc[('age','mean'),'With Job Training (N=185)'],data_cont_subset.loc[('age','std'),'With Job Training (N=185)'])\n",
    "data_cont_subset.loc[('educ','mean'),'Standardized difference']=stand_diff_cont(data_cont_subset.loc[('educ','mean'),'Without Job Training (N=185)'],data_cont_subset.loc[('educ','std'),'Without Job Training (N=185)'],data_cont_subset.loc[('educ','mean'),'With Job Training (N=185)'],data_cont_subset.loc[('educ','std'),'With Job Training (N=185)'])\n",
    "data_cont_subset.loc[('re74','mean'),'Standardized difference']=stand_diff_cont(data_cont_subset.loc[('re74','mean'),'Without Job Training (N=185)'],data_cont_subset.loc[('re74','std'),'Without Job Training (N=185)'],data_cont_subset.loc[('re74','mean'),'With Job Training (N=185)'],data_cont_subset.loc[('re74','std'),'With Job Training (N=185)'])\n",
    "data_cont_subset.loc[('re75','mean'),'Standardized difference']=stand_diff_cont(data_cont_subset.loc[('re75','mean'),'Without Job Training (N=185)'],data_cont_subset.loc[('re75','std'),'Without Job Training (N=185)'],data_cont_subset.loc[('re75','mean'),'With Job Training (N=185)'],data_cont_subset.loc[('re75','std'),'With Job Training (N=185)'])\n",
    "data_cont_subset.loc[('re78','mean'),'Standardized difference']=stand_diff_cont(data_cont_subset.loc[('re78','mean'),'Without Job Training (N=185)'],data_cont_subset.loc[('re78','std'),'Without Job Training (N=185)'],data_cont_subset.loc[('re78','mean'),'With Job Training (N=185)'],data_cont_subset.loc[('re78','std'),'With Job Training (N=185)'])\n",
    "data_cont_subset = data_cont_subset.replace(np.nan, '', regex=True)\n",
    "data_cont_subset"
   ]
  },
  {
   "cell_type": "code",
   "execution_count": 38,
   "metadata": {},
   "outputs": [
    {
     "data": {
      "image/png": "[encoded data removed]",
      "text/plain": [
       "<matplotlib.figure.Figure at 0x10e0c8828>"
      ]
     },
     "metadata": {},
     "output_type": "display_data"
    }
   ],
   "source": [
    "# Compare the distribution of the different continuous features between the two groups (treat and control)\n",
    "fig = plt.figure(1, figsize=(17, 10))\n",
    "plt.subplot(2,3,1)\n",
    "sns.boxplot(x='treat', y='age', data=lalonde_subset)\n",
    "plt.subplot(2,3,2)\n",
    "sns.boxplot(x='treat', y='educ', data=lalonde_subset)\n",
    "plt.subplot(2,3,3)\n",
    "sns.boxplot(x='treat', y='re74', data=lalonde_subset)\n",
    "plt.subplot(2,3,4)\n",
    "sns.boxplot(x='treat', y='re75', data=lalonde_subset)\n",
    "plt.subplot(2,3,5)\n",
    "sns.boxplot(x='treat', y='re78', data=lalonde_subset)\n",
    "plt.show()\n"
   ]
  },
  {
   "cell_type": "code",
   "execution_count": 39,
   "metadata": {},
   "outputs": [
    {
     "data": {
      "image/png": "[encoded data removed]",
      "text/plain": [
       "<matplotlib.figure.Figure at 0x10e0e5358>"
      ]
     },
     "metadata": {},
     "output_type": "display_data"
    }
   ],
   "source": [
    "# Check that the propensity score is balanced across treatment and comparison group\n",
    "fig, ax = plt.subplots()\n",
    "sns.distplot(data_control_subset['Propensity Score'],label=\"Without Job Training Program\",ax=ax)\n",
    "sns.distplot(data_treat['Propensity Score'],label=\"With Job Training Program\",ax=ax)\n",
    "ax.legend()\n",
    "ax.set_xlabel('Propensity score')\n",
    "ax.set_ylabel('Density')\n",
    "plt.show()"
   ]
  },
  {
   "cell_type": "markdown",
   "metadata": {
    "collapsed": true
   },
   "source": [
    "Therefore, the appropriateness of the specification of the propensity score is assessed by examining the degree to which matching on the estimated propensity score has resulted in a matched sample in which the distribution of measured baseline covariates is similar between treated and untreated subjects (removed observed systematic differences between treated and untreated subjects)"
   ]
  },
  {
   "cell_type": "markdown",
   "metadata": {},
   "source": [
    "### <b> <font color='purple'>1.5 - Balancing the groups further</font> </b>\n",
    "<b> Based on your comparison of feature-value distributions from part 4, are you fully satisfied with your matching?\n",
    "Would you say your dataset is sufficiently balanced?\n",
    "If not, in what ways could the \"balanced\" dataset you have obtained still not allow you to draw valid conclusions?\n",
    "\n",
    "Improve your matching by explicitly making sure that you match only subjects that have the same value for the problematic feature.\n",
    "Argue with numbers and plots that the two groups (treated and control) are now better balanced than after part 4. <b>"
   ]
  },
  {
   "cell_type": "markdown",
   "metadata": {},
   "source": [
    "We observe on the last plot that the propensity score is still not enough balanced between the two groups. From the $\\chi$-squared test on the categorical attributes, we note that the skin color is a significant variable. In order to extract valid conclusions, we need to take into account the skin color of the subjects during the matching. Therefore, we will proceed as in the previous question, but this time only connecting nodes if they have the same skin color in the original graph."
   ]
  },
  {
   "cell_type": "code",
   "execution_count": 40,
   "metadata": {},
   "outputs": [],
   "source": [
    "G = nx.Graph()\n",
    "\n",
    "for d in range(len(lalonde_data)):\n",
    "    G.add_node(lalonde_data.index[d], score=lalonde_data.iloc[d]['Propensity Score'], black=int(lalonde_data.iloc[d]['black']), bipartite=int(lalonde_data.iloc[d]['treat']))\n",
    "\n",
    "# Divide the data into 4 subsets based on the treat and the black attribute\n",
    "control_nodes_black = list(n for n in G if (G.node[n]['bipartite']==0)&(G.node[n]['black']==1))\n",
    "treat_nodes_black = list(n for n in G if (G.node[n]['bipartite']==1)&(G.node[n]['black']==1))\n",
    "control_nodes_white = list(n for n in G if (G.node[n]['bipartite']==0)&(G.node[n]['black']==0))\n",
    "treat_nodes_white = list(n for n in G if (G.node[n]['bipartite']==1)&(G.node[n]['black']==0))\n",
    "\n",
    "               \n",
    "# Add edges between each group into the 'black subset'\n",
    "for t in treat_nodes:\n",
    "    for c in control_nodes_black:\n",
    "        edge_weight = 1 - abs(G.node[t]['score'] - G.node[c]['score'])\n",
    "        G.add_edge(t,c, weight = edge_weight)\n",
    "               \n",
    "# Add edges between each group into the 'white subset'\n",
    "for t in treat_nodes_white:\n",
    "    for c in control_nodes_white:\n",
    "        edge_weight = 1 - abs(G.node[t]['score'] - G.node[c]['score'])\n",
    "        G.add_edge(t,c, weight = edge_weight)"
   ]
  },
  {
   "cell_type": "code",
   "execution_count": 41,
   "metadata": {},
   "outputs": [],
   "source": [
    "#new_matching = nx.max_weight_matching(G, maxcardinality=True)\n",
    "#pickle.dump( new_matching, open( \"matching2.p\", \"wb\" ) )"
   ]
  },
  {
   "cell_type": "code",
   "execution_count": 42,
   "metadata": {},
   "outputs": [],
   "source": [
    "new_matching = pickle.load(open(\"matching2.p\", \"rb\"))"
   ]
  },
  {
   "cell_type": "code",
   "execution_count": 43,
   "metadata": {},
   "outputs": [
    {
     "name": "stdout",
     "output_type": "stream",
     "text": [
      "Number of subjects from each group in the resulting matching : 116\n"
     ]
    },
    {
     "data": {
      "text/html": [
       "<div>\n",
       "<style>\n",
       "    .dataframe thead tr:only-child th {\n",
       "        text-align: right;\n",
       "    }\n",
       "\n",
       "    .dataframe thead th {\n",
       "        text-align: left;\n",
       "    }\n",
       "\n",
       "    .dataframe tbody tr th {\n",
       "        vertical-align: top;\n",
       "    }\n",
       "</style>\n",
       "<table border=\"1\" class=\"dataframe\">\n",
       "  <thead>\n",
       "    <tr style=\"text-align: right;\">\n",
       "      <th></th>\n",
       "      <th>Treated group</th>\n",
       "      <th>Control group</th>\n",
       "    </tr>\n",
       "  </thead>\n",
       "  <tbody>\n",
       "    <tr>\n",
       "      <th>0</th>\n",
       "      <td>NSW1</td>\n",
       "      <td>PSID238</td>\n",
       "    </tr>\n",
       "    <tr>\n",
       "      <th>1</th>\n",
       "      <td>NSW10</td>\n",
       "      <td>PSID394</td>\n",
       "    </tr>\n",
       "    <tr>\n",
       "      <th>2</th>\n",
       "      <td>NSW100</td>\n",
       "      <td>PSID208</td>\n",
       "    </tr>\n",
       "    <tr>\n",
       "      <th>3</th>\n",
       "      <td>NSW102</td>\n",
       "      <td>PSID389</td>\n",
       "    </tr>\n",
       "    <tr>\n",
       "      <th>4</th>\n",
       "      <td>NSW104</td>\n",
       "      <td>PSID423</td>\n",
       "    </tr>\n",
       "  </tbody>\n",
       "</table>\n",
       "</div>"
      ],
      "text/plain": [
       "  Treated group Control group\n",
       "0          NSW1       PSID238\n",
       "1         NSW10       PSID394\n",
       "2        NSW100       PSID208\n",
       "3        NSW102       PSID389\n",
       "4        NSW104       PSID423"
      ]
     },
     "execution_count": 43,
     "metadata": {},
     "output_type": "execute_result"
    }
   ],
   "source": [
    "df_new_matching = (pd.DataFrame.from_records([new_matching]).transpose())[0].reset_index()\n",
    "first_half = int(len(new_matching)/2)\n",
    "df_new_matching = df_new_matching[:first_half].copy()\n",
    "df_new_matching.columns=['Treated group', 'Control group']\n",
    "print(\"Number of subjects from each group in the resulting matching : \" + str(len(df_new_matching)))\n",
    "df_new_matching.head()"
   ]
  },
  {
   "cell_type": "markdown",
   "metadata": {},
   "source": [
    "Since there is less black people in the control group than in the treated group, our matching contains less subjects, as not all nodes in the treated set can match one control node. We obtain a dataframe matching 116 subjects from the treated group to 116 subjects from the control group."
   ]
  },
  {
   "cell_type": "markdown",
   "metadata": {},
   "source": [
    "Now let's take a look at the repartition for the two new groups."
   ]
  },
  {
   "cell_type": "code",
   "execution_count": 44,
   "metadata": {},
   "outputs": [
    {
     "data": {
      "text/html": [
       "<div>\n",
       "<style>\n",
       "    .dataframe thead tr:only-child th {\n",
       "        text-align: right;\n",
       "    }\n",
       "\n",
       "    .dataframe thead th {\n",
       "        text-align: left;\n",
       "    }\n",
       "\n",
       "    .dataframe tbody tr th {\n",
       "        vertical-align: top;\n",
       "    }\n",
       "</style>\n",
       "<table border=\"1\" class=\"dataframe\">\n",
       "  <thead>\n",
       "    <tr style=\"text-align: right;\">\n",
       "      <th></th>\n",
       "      <th>Without Job Training (N=116)</th>\n",
       "      <th>With Job Training (N=116)</th>\n",
       "    </tr>\n",
       "    <tr>\n",
       "      <th>Variable</th>\n",
       "      <th></th>\n",
       "      <th></th>\n",
       "    </tr>\n",
       "  </thead>\n",
       "  <tbody>\n",
       "    <tr>\n",
       "      <th>black</th>\n",
       "      <td>75.00</td>\n",
       "      <td>75.00</td>\n",
       "    </tr>\n",
       "    <tr>\n",
       "      <th>hispan</th>\n",
       "      <td>5.17</td>\n",
       "      <td>9.48</td>\n",
       "    </tr>\n",
       "    <tr>\n",
       "      <th>married</th>\n",
       "      <td>26.72</td>\n",
       "      <td>25.86</td>\n",
       "    </tr>\n",
       "    <tr>\n",
       "      <th>nodegree</th>\n",
       "      <td>62.07</td>\n",
       "      <td>67.24</td>\n",
       "    </tr>\n",
       "  </tbody>\n",
       "</table>\n",
       "</div>"
      ],
      "text/plain": [
       "          Without Job Training (N=116)  With Job Training (N=116)\n",
       "Variable                                                         \n",
       "black                            75.00                      75.00\n",
       "hispan                            5.17                       9.48\n",
       "married                          26.72                      25.86\n",
       "nodegree                         62.07                      67.24"
      ]
     },
     "execution_count": 44,
     "metadata": {},
     "output_type": "execute_result"
    }
   ],
   "source": [
    "data_control_subset2 = data_control[data_control.index.isin(df_new_matching['Control group'])]\n",
    "control_cat_subset2=data_control_subset2[['black','hispan','married','nodegree']].apply(lambda x : (sum(x)/len(x))*100,axis=0).round(2)\n",
    "data_treat_subset2 = data_treat[data_treat.index.isin(df_new_matching['Treated group'])]\n",
    "treat_cat_subset2 = data_treat_subset2[['black', 'hispan', 'married','nodegree']].apply(lambda x : (sum(x)/len(x))*100,axis=0).round(2)\n",
    "data_cat_subset2=pd.DataFrame(np.column_stack([control_cat_subset2, treat_cat_subset2]),index=control_cat_subset2.keys(),columns=['Without Job Training (N=116)','With Job Training (N=116)'])\n",
    "data_cat_subset2.index.name='Variable'\n",
    "data_cat_subset2"
   ]
  },
  {
   "cell_type": "code",
   "execution_count": 45,
   "metadata": {},
   "outputs": [
    {
     "data": {
      "text/html": [
       "<div>\n",
       "<style>\n",
       "    .dataframe thead tr:only-child th {\n",
       "        text-align: right;\n",
       "    }\n",
       "\n",
       "    .dataframe thead th {\n",
       "        text-align: left;\n",
       "    }\n",
       "\n",
       "    .dataframe tbody tr th {\n",
       "        vertical-align: top;\n",
       "    }\n",
       "</style>\n",
       "<table border=\"1\" class=\"dataframe\">\n",
       "  <thead>\n",
       "    <tr style=\"text-align: right;\">\n",
       "      <th></th>\n",
       "      <th>Without Job Training (N=116)</th>\n",
       "      <th>With Job Training (N=116)</th>\n",
       "      <th>Statistic Test Significance</th>\n",
       "      <th>Standardized difference</th>\n",
       "    </tr>\n",
       "    <tr>\n",
       "      <th>Variable</th>\n",
       "      <th></th>\n",
       "      <th></th>\n",
       "      <th></th>\n",
       "      <th></th>\n",
       "    </tr>\n",
       "  </thead>\n",
       "  <tbody>\n",
       "    <tr>\n",
       "      <th>black</th>\n",
       "      <td>75.00</td>\n",
       "      <td>75.00</td>\n",
       "      <td>Not significant</td>\n",
       "      <td>0.000000</td>\n",
       "    </tr>\n",
       "    <tr>\n",
       "      <th>hispan</th>\n",
       "      <td>5.17</td>\n",
       "      <td>9.48</td>\n",
       "      <td>Not significant</td>\n",
       "      <td>0.165990</td>\n",
       "    </tr>\n",
       "    <tr>\n",
       "      <th>married</th>\n",
       "      <td>26.72</td>\n",
       "      <td>25.86</td>\n",
       "      <td>Not significant</td>\n",
       "      <td>-0.019537</td>\n",
       "    </tr>\n",
       "    <tr>\n",
       "      <th>nodegree</th>\n",
       "      <td>62.07</td>\n",
       "      <td>67.24</td>\n",
       "      <td>Not significant</td>\n",
       "      <td>0.108308</td>\n",
       "    </tr>\n",
       "  </tbody>\n",
       "</table>\n",
       "</div>"
      ],
      "text/plain": [
       "          Without Job Training (N=116)  With Job Training (N=116)  \\\n",
       "Variable                                                            \n",
       "black                            75.00                      75.00   \n",
       "hispan                            5.17                       9.48   \n",
       "married                          26.72                      25.86   \n",
       "nodegree                         62.07                      67.24   \n",
       "\n",
       "         Statistic Test Significance  Standardized difference  \n",
       "Variable                                                       \n",
       "black                Not significant                 0.000000  \n",
       "hispan               Not significant                 0.165990  \n",
       "married              Not significant                -0.019537  \n",
       "nodegree             Not significant                 0.108308  "
      ]
     },
     "execution_count": 45,
     "metadata": {},
     "output_type": "execute_result"
    }
   ],
   "source": [
    "# Remove the unmatched subjects in the control group\n",
    "lalonde_subset2 = lalonde_data[(lalonde_data.index.isin(df_new_matching['Control group'])) | (lalonde_data.index.isin(df_new_matching['Treated group']))]\n",
    "\n",
    "# Compute the chi-square test for each categorical feature and add it to the dataframe\n",
    "lalonde_cat_subset2=lalonde_subset2[['black','hispan','married','nodegree']]\n",
    "data_cat_subset2['Statistic Test Significance']=lalonde_cat_subset2.apply(lambda x: chisquare_test(lalonde_subset2['treat'],x), axis=0)\n",
    "\n",
    "# Compute the standardized difference between for each categorical variable\n",
    "data_cat_subset2['Standardized difference']=stand_diff_cat(data_cat_subset2['Without Job Training (N=116)'],data_cat_subset2['With Job Training (N=116)'])\n",
    "data_cat_subset2"
   ]
  },
  {
   "cell_type": "code",
   "execution_count": 46,
   "metadata": {},
   "outputs": [
    {
     "data": {
      "image/png": "[encoded data removed]",
      "text/plain": [
       "<matplotlib.figure.Figure at 0x109a0f0f0>"
      ]
     },
     "metadata": {},
     "output_type": "display_data"
    }
   ],
   "source": [
    "# Compare the distribution of the different continuous features between the two groups (treat and control)\n",
    "fig = plt.figure(1, figsize=(13, 8))\n",
    "plt.subplot(2,2,1)\n",
    "sns.barplot(x=\"treat\",y=\"black\",data=lalonde_subset2)\n",
    "plt.subplot(2,2,2)\n",
    "sns.barplot(x=\"treat\",y=\"hispan\",data=lalonde_subset2)\n",
    "plt.subplot(2,2,3)\n",
    "sns.barplot(x=\"treat\",y=\"married\",data=lalonde_subset2)\n",
    "plt.subplot(2,2,4)\n",
    "sns.barplot(x=\"treat\",y=\"nodegree\",data=lalonde_subset2)\n",
    "plt.show()"
   ]
  },
  {
   "cell_type": "code",
   "execution_count": 47,
   "metadata": {},
   "outputs": [
    {
     "data": {
      "image/png": "[encoded data removed]",
      "text/plain": [
       "<matplotlib.figure.Figure at 0x10a039a58>"
      ]
     },
     "metadata": {},
     "output_type": "display_data"
    }
   ],
   "source": [
    "# Check that the propensity score is balanced across treatment and comparison group\n",
    "fig, ax = plt.subplots()\n",
    "sns.distplot(data_control_subset2['Propensity Score'],label=\"Without Job Training Program\",ax=ax)\n",
    "sns.distplot(data_treat_subset2['Propensity Score'],label=\"With Job Training Program\",ax=ax)\n",
    "ax.legend()\n",
    "ax.set_xlabel('Propensity score')\n",
    "ax.set_ylabel('Density')\n",
    "plt.show()"
   ]
  },
  {
   "cell_type": "markdown",
   "metadata": {},
   "source": [
    "From the plots and the $\\chi$-squared test, we can assert that the two groups are better balanced with the matching considering the skin color of the subjects than with the previous matching only based on the propensity score."
   ]
  },
  {
   "cell_type": "markdown",
   "metadata": {},
   "source": [
    "### <b> <font color='purple'>1.6 - A less naive analysis</font> </b>\n",
    "<b> Compare the outcomes (`re78`) between treated and control subjects, as you've done in part 1, but now only for the matched dataset you've obtained from part 5.\n",
    "What do you conclude about the effectiveness of the job training program? <b>"
   ]
  },
  {
   "cell_type": "markdown",
   "metadata": {},
   "source": [
    "As in the previous questions, we first compare the outcomes by displaying a histogram."
   ]
  },
  {
   "cell_type": "code",
   "execution_count": 48,
   "metadata": {},
   "outputs": [
    {
     "data": {
      "image/png": "[encoded data removed]",
      "text/plain": [
       "<matplotlib.figure.Figure at 0x10eb7ee10>"
      ]
     },
     "metadata": {},
     "output_type": "display_data"
    }
   ],
   "source": [
    "# Visualization of the respective distribution of the outcome variable for the two groups with an histogram \n",
    "fig = plt.figure(figsize=(15,6))\n",
    "\n",
    "# Histrogram for the treated group\n",
    "plt.subplot(1,2,1)\n",
    "plt.hist(data_treat_subset2.re78,color='#00ccff')\n",
    "plt.title('Earnings distribution of earning for the treated group in the new matching')\n",
    "plt.xlabel('real earning in 1978 [$]')\n",
    "plt.ylabel('frequency')\n",
    "# Histrogram for the control group in the new matching\n",
    "plt.subplot(1,2,2)\n",
    "plt.hist(data_control_subset2.re78,color='#00ccff')\n",
    "plt.title('Earnings distribution for the control group in the new matching')\n",
    "plt.xlabel('real earning in 1978 [$]')\n",
    "plt.ylabel('frequency')\n",
    "\n",
    "plt.show()"
   ]
  },
  {
   "cell_type": "code",
   "execution_count": 49,
   "metadata": {},
   "outputs": [
    {
     "data": {
      "image/png": "[encoded data removed]",
      "text/plain": [
       "<matplotlib.figure.Figure at 0x10ebf37b8>"
      ]
     },
     "metadata": {},
     "output_type": "display_data"
    }
   ],
   "source": [
    "# Comparing the density of outcomes\n",
    "fig, ax = plt.subplots()\n",
    "sns.distplot(data_control_subset2['re78'],label=\"Without Job Training Program\",ax=ax)\n",
    "sns.distplot(data_treat_subset2['re78'],label=\"With Job Training Program\",ax=ax)\n",
    "ax.legend()\n",
    "ax.set_xlabel('Outcomes')\n",
    "ax.set_ylabel('Density')\n",
    "plt.show()"
   ]
  },
  {
   "cell_type": "code",
   "execution_count": 50,
   "metadata": {},
   "outputs": [
    {
     "data": {
      "text/html": [
       "<div>\n",
       "<style>\n",
       "    .dataframe thead tr:only-child th {\n",
       "        text-align: right;\n",
       "    }\n",
       "\n",
       "    .dataframe thead th {\n",
       "        text-align: left;\n",
       "    }\n",
       "\n",
       "    .dataframe tbody tr th {\n",
       "        vertical-align: top;\n",
       "    }\n",
       "</style>\n",
       "<table border=\"1\" class=\"dataframe\">\n",
       "  <thead>\n",
       "    <tr>\n",
       "      <th></th>\n",
       "      <th colspan=\"8\" halign=\"left\">re78</th>\n",
       "    </tr>\n",
       "    <tr>\n",
       "      <th></th>\n",
       "      <th>count</th>\n",
       "      <th>mean</th>\n",
       "      <th>std</th>\n",
       "      <th>min</th>\n",
       "      <th>25%</th>\n",
       "      <th>50%</th>\n",
       "      <th>75%</th>\n",
       "      <th>max</th>\n",
       "    </tr>\n",
       "    <tr>\n",
       "      <th>treat</th>\n",
       "      <th></th>\n",
       "      <th></th>\n",
       "      <th></th>\n",
       "      <th></th>\n",
       "      <th></th>\n",
       "      <th></th>\n",
       "      <th></th>\n",
       "      <th></th>\n",
       "    </tr>\n",
       "  </thead>\n",
       "  <tbody>\n",
       "    <tr>\n",
       "      <th>0</th>\n",
       "      <td>116.0</td>\n",
       "      <td>5541.079675</td>\n",
       "      <td>6498.524197</td>\n",
       "      <td>0.0</td>\n",
       "      <td>0.00000</td>\n",
       "      <td>2742.6605</td>\n",
       "      <td>8942.09275</td>\n",
       "      <td>25564.67</td>\n",
       "    </tr>\n",
       "    <tr>\n",
       "      <th>1</th>\n",
       "      <td>116.0</td>\n",
       "      <td>7020.098252</td>\n",
       "      <td>7518.664135</td>\n",
       "      <td>0.0</td>\n",
       "      <td>977.05265</td>\n",
       "      <td>5026.9315</td>\n",
       "      <td>10011.04550</td>\n",
       "      <td>36646.95</td>\n",
       "    </tr>\n",
       "  </tbody>\n",
       "</table>\n",
       "</div>"
      ],
      "text/plain": [
       "        re78                                                       \\\n",
       "       count         mean          std  min        25%        50%   \n",
       "treat                                                               \n",
       "0      116.0  5541.079675  6498.524197  0.0    0.00000  2742.6605   \n",
       "1      116.0  7020.098252  7518.664135  0.0  977.05265  5026.9315   \n",
       "\n",
       "                              \n",
       "               75%       max  \n",
       "treat                         \n",
       "0       8942.09275  25564.67  \n",
       "1      10011.04550  36646.95  "
      ]
     },
     "execution_count": 50,
     "metadata": {},
     "output_type": "execute_result"
    }
   ],
   "source": [
    "lalonde_subset2[['treat','re78']].groupby(['treat']).describe()"
   ]
  },
  {
   "cell_type": "markdown",
   "metadata": {},
   "source": [
    "If we group our values by the treat value, i.e. if the participated to the job training program or not, we observe that the treated group has higher outcomes than others, as 50% of the subjects out of the job training program earned less than 2700\\$ against 5000\\$ (almost twice as much) for the treated group."
   ]
  },
  {
   "cell_type": "code",
   "execution_count": 51,
   "metadata": {},
   "outputs": [
    {
     "data": {
      "text/html": [
       "<div>\n",
       "<style>\n",
       "    .dataframe thead tr:only-child th {\n",
       "        text-align: right;\n",
       "    }\n",
       "\n",
       "    .dataframe thead th {\n",
       "        text-align: left;\n",
       "    }\n",
       "\n",
       "    .dataframe tbody tr th {\n",
       "        vertical-align: top;\n",
       "    }\n",
       "</style>\n",
       "<table border=\"1\" class=\"dataframe\">\n",
       "  <thead>\n",
       "    <tr style=\"text-align: right;\">\n",
       "      <th>Earnings intervals</th>\n",
       "      <th>(-36.647, 4580.869]</th>\n",
       "      <th>(4580.869, 9161.738]</th>\n",
       "      <th>(9161.738, 13742.606]</th>\n",
       "      <th>(13742.606, 18323.475]</th>\n",
       "      <th>(18323.475, 22904.344]</th>\n",
       "      <th>(22904.344, 27485.212]</th>\n",
       "      <th>(27485.212, 32066.081]</th>\n",
       "      <th>(32066.081, 36646.95]</th>\n",
       "    </tr>\n",
       "  </thead>\n",
       "  <tbody>\n",
       "    <tr>\n",
       "      <th>treat</th>\n",
       "      <td>55.000000</td>\n",
       "      <td>27.000000</td>\n",
       "      <td>17.000000</td>\n",
       "      <td>7.000000</td>\n",
       "      <td>4.000000</td>\n",
       "      <td>4.000000</td>\n",
       "      <td>NaN</td>\n",
       "      <td>2.000000</td>\n",
       "    </tr>\n",
       "    <tr>\n",
       "      <th>control</th>\n",
       "      <td>68.000000</td>\n",
       "      <td>21.000000</td>\n",
       "      <td>9.000000</td>\n",
       "      <td>10.000000</td>\n",
       "      <td>7.000000</td>\n",
       "      <td>1.000000</td>\n",
       "      <td>NaN</td>\n",
       "      <td>0.000000</td>\n",
       "    </tr>\n",
       "    <tr>\n",
       "      <th>treat %</th>\n",
       "      <td>23.706897</td>\n",
       "      <td>11.637931</td>\n",
       "      <td>7.327586</td>\n",
       "      <td>3.017241</td>\n",
       "      <td>1.724138</td>\n",
       "      <td>1.724138</td>\n",
       "      <td>NaN</td>\n",
       "      <td>0.862069</td>\n",
       "    </tr>\n",
       "    <tr>\n",
       "      <th>control %</th>\n",
       "      <td>29.310345</td>\n",
       "      <td>9.051724</td>\n",
       "      <td>3.879310</td>\n",
       "      <td>4.310345</td>\n",
       "      <td>3.017241</td>\n",
       "      <td>0.431034</td>\n",
       "      <td>NaN</td>\n",
       "      <td>0.000000</td>\n",
       "    </tr>\n",
       "    <tr>\n",
       "      <th>treat % inter</th>\n",
       "      <td>44.715447</td>\n",
       "      <td>56.250000</td>\n",
       "      <td>65.384615</td>\n",
       "      <td>41.176471</td>\n",
       "      <td>36.363636</td>\n",
       "      <td>80.000000</td>\n",
       "      <td>NaN</td>\n",
       "      <td>100.000000</td>\n",
       "    </tr>\n",
       "    <tr>\n",
       "      <th>control % inter</th>\n",
       "      <td>55.284553</td>\n",
       "      <td>43.750000</td>\n",
       "      <td>34.615385</td>\n",
       "      <td>58.823529</td>\n",
       "      <td>63.636364</td>\n",
       "      <td>20.000000</td>\n",
       "      <td>NaN</td>\n",
       "      <td>0.000000</td>\n",
       "    </tr>\n",
       "  </tbody>\n",
       "</table>\n",
       "</div>"
      ],
      "text/plain": [
       "Earnings intervals  (-36.647, 4580.869]  (4580.869, 9161.738]  \\\n",
       "treat                         55.000000             27.000000   \n",
       "control                       68.000000             21.000000   \n",
       "treat %                       23.706897             11.637931   \n",
       "control %                     29.310345              9.051724   \n",
       "treat % inter                 44.715447             56.250000   \n",
       "control % inter               55.284553             43.750000   \n",
       "\n",
       "Earnings intervals  (9161.738, 13742.606]  (13742.606, 18323.475]  \\\n",
       "treat                           17.000000                7.000000   \n",
       "control                          9.000000               10.000000   \n",
       "treat %                          7.327586                3.017241   \n",
       "control %                        3.879310                4.310345   \n",
       "treat % inter                   65.384615               41.176471   \n",
       "control % inter                 34.615385               58.823529   \n",
       "\n",
       "Earnings intervals  (18323.475, 22904.344]  (22904.344, 27485.212]  \\\n",
       "treat                             4.000000                4.000000   \n",
       "control                           7.000000                1.000000   \n",
       "treat %                           1.724138                1.724138   \n",
       "control %                         3.017241                0.431034   \n",
       "treat % inter                    36.363636               80.000000   \n",
       "control % inter                  63.636364               20.000000   \n",
       "\n",
       "Earnings intervals  (27485.212, 32066.081]  (32066.081, 36646.95]  \n",
       "treat                                  NaN               2.000000  \n",
       "control                                NaN               0.000000  \n",
       "treat %                                NaN               0.862069  \n",
       "control %                              NaN               0.000000  \n",
       "treat % inter                          NaN             100.000000  \n",
       "control % inter                        NaN               0.000000  "
      ]
     },
     "execution_count": 51,
     "metadata": {},
     "output_type": "execute_result"
    }
   ],
   "source": [
    "# Divide the values of earnings in 1978 into intervals\n",
    "int_re78 = pd.cut(lalonde_subset2.re78, 8)\n",
    "\n",
    "earnings_intervals = lalonde_subset2['treat'].to_frame()\n",
    "earnings_intervals['control'] = 1-earnings_intervals['treat']\n",
    "\n",
    "earnings_intervals['Earnings intervals'] = (int_re78.to_frame())['re78']\n",
    "earnings_intervals = earnings_intervals.groupby('Earnings intervals').sum()\n",
    "earnings_intervals['treat %'] = earnings_intervals['treat']*100/len(lalonde_subset2)\n",
    "earnings_intervals ['control %'] = earnings_intervals['control']*100/len(lalonde_subset2)\n",
    "earnings_intervals['treat % inter'] = earnings_intervals['treat']*100/(earnings_intervals['treat']+earnings_intervals['control'])\n",
    "earnings_intervals ['control % inter'] = 100 - earnings_intervals['treat % inter']\n",
    "earnings_intervals.transpose()"
   ]
  },
  {
   "cell_type": "markdown",
   "metadata": {},
   "source": [
    "To confirm our hypothesis, we plot the average of outcomes for the two groups, and their earnings repartition."
   ]
  },
  {
   "cell_type": "code",
   "execution_count": 52,
   "metadata": {},
   "outputs": [
    {
     "data": {
      "image/png": "[encoded data removed]",
      "text/plain": [
       "<matplotlib.figure.Figure at 0x10ee2ab70>"
      ]
     },
     "metadata": {},
     "output_type": "display_data"
    }
   ],
   "source": [
    "#fig, ((ax1,ax2),(ax3,ax4)) = plt.subplots(2,2,figsize=(7,5))\n",
    "fig = plt.figure(figsize=(15,10))\n",
    "sns.set_style('darkgrid')\n",
    "\n",
    "ax1 = plt.subplot(1,2,1)\n",
    "sns.barplot(x=\"treat\",y=\"re78\", data=lalonde_subset2, ax=ax1, alpha=0.85,errcolor='.5')\n",
    "ax1.legend()\n",
    "ax1.set_xlabel('Control and treated groups')\n",
    "ax1.set_ylabel('Earnings in 1978 ($)')\n",
    "ax1.set_title('Outcomes among the two groups', fontsize=14)\n",
    "\n",
    "ax2 = plt.subplot(2,2,2)\n",
    "earnings_intervals[['treat','control']].plot(kind=\"bar\",alpha=0.6, ax=ax2)\n",
    "ax2.set_ylabel(\"Number of subjects\")\n",
    "ax2.set_title(\"Comparison of earnings between the two groups\", fontsize=15)\n",
    "ax2.legend(loc=[0.85,0.825])\n",
    "\n",
    "ax3 = plt.subplot(2,2,4)\n",
    "earnings_intervals[['treat % inter','control % inter']].plot(kind=\"bar\",alpha=0.6, ax=ax3)\n",
    "ax3.set_ylabel(\"Subjects in each interval (%)\")\n",
    "ax3.set_title(\"Comparison of earnings between the two groups for each interval(%)\", fontsize=15)\n",
    "ax3.legend(loc=[0.01,0.80])\n",
    "\n",
    "plt.tight_layout(pad=1.5, w_pad=2.0, h_pad=2.0)\n",
    "plt.show()"
   ]
  },
  {
   "cell_type": "markdown",
   "metadata": {},
   "source": [
    "From these plots, we see that in average the treated group get higher earnings than the control group. If we look at the number of people in each interval of earnings, we notice that some outliers in the treated group earned more than 20 000 $ in 1978. We could say that people with job training earn globally more than those without job training."
   ]
  },
  {
   "cell_type": "markdown",
   "metadata": {},
   "source": [
    "## <b> <font color='purple'>Question 2 - Applied ML</font> </b>\n",
    "<b>We are going to build a classifier of news to directly assign them to 20 news categories. Note that the pipeline that you will build in this exercise could be of great help during your project if you plan to work with text!<b>"
   ]
  },
  {
   "cell_type": "markdown",
   "metadata": {},
   "source": [
    "### <b> <font color='purple'>2.1</font> </b>\n",
    "<b> Load the 20newsgroup dataset. It is, again, a classic dataset that can directly be loaded using sklearn ([link](http://scikit-learn.org/stable/datasets/twenty_newsgroups.html)).  \n",
    "[TF-IDF](https://en.wikipedia.org/wiki/Tf%E2%80%93idf), short for term frequencyâinverse document frequency, is of great help when if comes to compute textual features. Indeed, it gives more importance to terms that are more specific to the considered articles (TF) but reduces the importance of terms that are very frequent in the entire corpus (IDF). Compute TF-IDF features for every article using [TfidfVectorizer](http://scikit-learn.org/stable/modules/generated/sklearn.feature_extraction.text.TfidfVectorizer.html). Then, split your dataset into a training, a testing and a validation set (10% for validation and 10% for testing). Each observation should be paired with its corresponding label (the article category). <b>"
   ]
  },
  {
   "cell_type": "markdown",
   "metadata": {},
   "source": [
    "First, we fetch the whole dataset."
   ]
  },
  {
   "cell_type": "code",
   "execution_count": 53,
   "metadata": {},
   "outputs": [],
   "source": [
    "from sklearn.datasets import fetch_20newsgroups\n",
    "\n",
    "newsgroups = fetch_20newsgroups(subset='all',remove=('headers', 'footers', 'quotes'))"
   ]
  },
  {
   "cell_type": "markdown",
   "metadata": {},
   "source": [
    "Then, we extract the TF-IDF features and the target categories as the response variable."
   ]
  },
  {
   "cell_type": "code",
   "execution_count": 54,
   "metadata": {},
   "outputs": [],
   "source": [
    "from sklearn.feature_extraction.text import TfidfVectorizer\n",
    "\n",
    "vectorizer = TfidfVectorizer()\n",
    "vectors = vectorizer.fit_transform(newsgroups.data)"
   ]
  },
  {
   "cell_type": "code",
   "execution_count": 55,
   "metadata": {
    "scrolled": true
   },
   "outputs": [],
   "source": [
    "y = newsgroups['target']"
   ]
  },
  {
   "cell_type": "markdown",
   "metadata": {},
   "source": [
    "Now we split that data into training, test and validation sets, using the function *train_test_split* from the sklearn library."
   ]
  },
  {
   "cell_type": "code",
   "execution_count": 56,
   "metadata": {},
   "outputs": [],
   "source": [
    "from sklearn.model_selection import train_test_split\n",
    "\n",
    "train_x, rest_x, train_y, rest_y = train_test_split(vectors, y, test_size=0.2)\n",
    "\n",
    "#take half of the 20% left (10% of total) for test and half for validation\n",
    "test_x, validation_x, test_y, validation_y = train_test_split(rest_x, rest_y, test_size=0.5)"
   ]
  },
  {
   "cell_type": "code",
   "execution_count": 57,
   "metadata": {},
   "outputs": [
    {
     "name": "stdout",
     "output_type": "stream",
     "text": [
      "(15076, 134410)\n",
      "(1885, 134410)\n",
      "(1885, 134410)\n",
      "(15076,)\n",
      "(1885,)\n",
      "(1885,)\n"
     ]
    }
   ],
   "source": [
    "print(train_x.shape)\n",
    "print(test_x.shape)\n",
    "print(validation_x.shape)\n",
    "print(train_y.shape)\n",
    "print(test_y.shape)\n",
    "print(validation_y.shape)"
   ]
  },
  {
   "cell_type": "markdown",
   "metadata": {},
   "source": [
    "We note that our test and validation set are the same size, and all 3 sets have the same number of features (134410)."
   ]
  },
  {
   "cell_type": "markdown",
   "metadata": {},
   "source": [
    "### <b> <font color='purple'>2.2</font> </b>\n",
    "<b> Train a random forest on your training set. Try to fine-tune the parameters of your predictor on your validation set using a simple grid search on the number of estimator \"n_estimators\" and the max depth of the trees \"max_depth\". \n",
    " </b>"
   ]
  },
  {
   "cell_type": "code",
   "execution_count": 58,
   "metadata": {},
   "outputs": [
    {
     "data": {
      "text/plain": [
       "RandomForestClassifier(bootstrap=True, class_weight=None, criterion='gini',\n",
       "            max_depth=None, max_features='auto', max_leaf_nodes=None,\n",
       "            min_impurity_decrease=0.0, min_impurity_split=None,\n",
       "            min_samples_leaf=1, min_samples_split=2,\n",
       "            min_weight_fraction_leaf=0.0, n_estimators=10, n_jobs=1,\n",
       "            oob_score=False, random_state=None, verbose=0,\n",
       "            warm_start=False)"
      ]
     },
     "execution_count": 58,
     "metadata": {},
     "output_type": "execute_result"
    }
   ],
   "source": [
    "from sklearn.ensemble import RandomForestClassifier\n",
    "\n",
    "forest = RandomForestClassifier()\n",
    "forest.fit(train_x,train_y)"
   ]
  },
  {
   "cell_type": "code",
   "execution_count": 59,
   "metadata": {},
   "outputs": [
    {
     "data": {
      "text/plain": [
       "0.46206896551724136"
      ]
     },
     "execution_count": 59,
     "metadata": {},
     "output_type": "execute_result"
    }
   ],
   "source": [
    "forest.score(validation_x,validation_y)"
   ]
  },
  {
   "cell_type": "markdown",
   "metadata": {},
   "source": [
    "The default parameters do not give a good accuracy so we determine the 2 parameters (number of trees and their max depth) by grid search."
   ]
  },
  {
   "cell_type": "code",
   "execution_count": null,
   "metadata": {},
   "outputs": [],
   "source": [
    "#This is the code for the last (5th) gridsearch \n",
    "depth_range = np.arange(100,201,25)\n",
    "nb_trees = np.arange(300,351,10)\n",
    "\n",
    "res = []\n",
    "for d in depth_range:\n",
    "    acc = []\n",
    "    print(\"Depth\",d)\n",
    "    print(\"\\t Nb of trees\")\n",
    "    for nb in nb_trees:\n",
    "        print(\"\\t \",nb)\n",
    "        forest = RandomForestClassifier(max_depth=d,n_estimators=nb)\n",
    "        forest.fit(train_x,train_y)\n",
    "        acc.append(forest.score(validation_x,validation_y))\n",
    "    res.append(acc)\n",
    "print(\"DONE\")"
   ]
  },
  {
   "cell_type": "markdown",
   "metadata": {},
   "source": [
    "We did successive gridsearches to determine their range :\n",
    "![alt text](gridsearch.png \"Title\") ![alt text](gridsearch-2.png \"Title\")\n",
    "![alt text](gridsearch-3.png \"Title\") ![alt text](gridsearch-4.png \"Title\")\n",
    "![alt text](gridsearch-5.png \"Title\")"
   ]
  },
  {
   "cell_type": "markdown",
   "metadata": {},
   "source": [
    "Looking at the last heatmap we can clearly see the accuracy goes down for more than 320 trees with a maximum depth of 175."
   ]
  },
  {
   "cell_type": "code",
   "execution_count": null,
   "metadata": {},
   "outputs": [],
   "source": [
    "best_nb_trees = 320\n",
    "best_max_depth = 175"
   ]
  },
  {
   "cell_type": "markdown",
   "metadata": {},
   "source": [
    "<b>Then, display a confusion matrix of your classification pipeline.\n",
    " <b>"
   ]
  },
  {
   "cell_type": "code",
   "execution_count": null,
   "metadata": {},
   "outputs": [],
   "source": [
    "best_forest = RandomForestClassifier(max_depth=best_max_depth,n_estimators=best_nb_trees)\n",
    "best_forest.fit(train_x,train_y)\n",
    "pred_y = best_forest.predict(test_x)"
   ]
  },
  {
   "cell_type": "code",
   "execution_count": null,
   "metadata": {},
   "outputs": [],
   "source": [
    "from sklearn.metrics import confusion_matrix\n",
    "\n",
    "conf = confusion_matrix(test_y,pred_y)"
   ]
  },
  {
   "cell_type": "code",
   "execution_count": null,
   "metadata": {
    "scrolled": false
   },
   "outputs": [],
   "source": [
    "plt.figure(figsize=(20,20))\n",
    "sns.set(font_scale=1.2)\n",
    "sns.heatmap(conf,xticklabels=newsgroups['target_names'],yticklabels=newsgroups['target_names'],cmap=\"Reds\",annot=True)\n",
    "plt.xlabel(\"Predicted category\",fontsize=20,fontweight=\"bold\")\n",
    "plt.ylabel(\"Actual category\",fontsize=20,fontweight=\"bold\") \n",
    "plt.title(\"Confusion matrix of our best random forest classifier (n_estimators = 320, max_depth=175)\",fontsize=24,fontweight=\"bold\", y=1.04)\n",
    "plt.savefig(\"confusion_matrix\")\n",
    "plt.show()"
   ]
  },
  {
   "cell_type": "markdown",
   "metadata": {},
   "source": [
    "We see right away that almost all of the highest values are on the diagonal, which shows our classifier is quite accurate. Let's see the most common misclassifications (at least 10 occurences) :"
   ]
  },
  {
   "cell_type": "code",
   "execution_count": null,
   "metadata": {},
   "outputs": [],
   "source": [
    "[ (newsgroups['target_names'][i],newsgroups['target_names'][j],conf[i][j]) for (i,j) in zip(*np.where(conf>=10)) if i != j]"
   ]
  },
  {
   "cell_type": "markdown",
   "metadata": {},
   "source": [
    "Those tuples represent these misclassifications, for example, 23 articles in the category \"alt.atheism\" have been classified as \"soc.religion.christian\".\n",
    "Here we see that those most common errors are understandable : atheism is related to religion and christianism, mac and pc hardware are 2 branches of the same global category, baseball and hockey are sports, politics.guns is a subcategory of politics.misc as are religion.christian and religion.misc, or autos and electronics. The only one that is slightly confusing would be baseball to autos, probably they have some common vocabulary."
   ]
  },
  {
   "cell_type": "markdown",
   "metadata": {},
   "source": [
    "<b> Lastly, once you assessed your model, inspect the `feature_importances_` attribute of your random forest and discuss the obtained results.</b>"
   ]
  },
  {
   "cell_type": "code",
   "execution_count": null,
   "metadata": {},
   "outputs": [],
   "source": [
    "importances = best_forest.feature_importances_\n",
    "std = np.std([tree.feature_importances_ for tree in best_forest.estimators_], axis=0)\n",
    "indices = np.argsort(importances)[::-1]\n",
    "top = indices[:20]"
   ]
  },
  {
   "cell_type": "code",
   "execution_count": null,
   "metadata": {
    "scrolled": true
   },
   "outputs": [],
   "source": [
    "plt.bar(range(len(top)), importances[top], color=\"r\", yerr=std[top], align=\"center\")\n",
    "#we use our tf-idf vectorizer to translate the features back into words\n",
    "plt.xticks(range(len(top)), np.asarray(vectorizer.get_feature_names())[top], rotation=90)\n",
    "plt.xlim([-1, len(top)])\n",
    "plt.title(\"Feature importances\")\n",
    "plt.show()"
   ]
  },
  {
   "cell_type": "markdown",
   "metadata": {},
   "source": [
    "We plotted here the 20 most important features. The most important one has around 0.004 importance which is quite low, but we have to consider that we have over 130000 features. We also notice that 7 of them have a standard deviation bigger than their own value, and those are all the common nouns (car, windows, bike...), as opposed to determinants and conjonctions that are obviously the most present words.\n",
    "This barplot doesn't seem very indicative, so we decide to plot the importance of all the features :"
   ]
  },
  {
   "cell_type": "code",
   "execution_count": null,
   "metadata": {},
   "outputs": [],
   "source": [
    "plt.plot(range(len(importances)),importances[indices])\n",
    "plt.show()"
   ]
  },
  {
   "cell_type": "markdown",
   "metadata": {},
   "source": [
    "The scale isn't right, we change it to a logarithmic one :"
   ]
  },
  {
   "cell_type": "code",
   "execution_count": null,
   "metadata": {},
   "outputs": [],
   "source": [
    "plt.semilogx(range(len(importances)),importances[indices])\n",
    "plt.show()"
   ]
  },
  {
   "cell_type": "markdown",
   "metadata": {},
   "source": [
    "We can observe that only around 1000 words have an importance superior to $10^{-4}$, which barely represents 1% of our 134410 features."
   ]
  },
  {
   "cell_type": "markdown",
   "metadata": {},
   "source": [
    "Considering all of that, we train a new random forest, but this time our tf-idf vectorizer doesn't take into account the \"stop words\", all the most common words that were considered important features due to their high frequencies, because we know that they are not relevant to which category the article should be classified."
   ]
  },
  {
   "cell_type": "code",
   "execution_count": null,
   "metadata": {},
   "outputs": [],
   "source": [
    "new_vectorizer = TfidfVectorizer(stop_words='english')\n",
    "new_vectors = new_vectorizer.fit_transform(newsgroups.data)"
   ]
  },
  {
   "cell_type": "code",
   "execution_count": null,
   "metadata": {},
   "outputs": [],
   "source": [
    "new_train_x, new_rest_x, new_train_y, new_rest_y = train_test_split(new_vectors, y, test_size=0.2)\n",
    "new_test_x, new_validation_x, new_test_y, new_validation_y = train_test_split(new_rest_x, new_rest_y, test_size=0.5)"
   ]
  },
  {
   "cell_type": "code",
   "execution_count": null,
   "metadata": {},
   "outputs": [],
   "source": [
    "new_forest = RandomForestClassifier()\n",
    "new_forest.fit(new_train_x, new_train_y)"
   ]
  },
  {
   "cell_type": "code",
   "execution_count": null,
   "metadata": {},
   "outputs": [],
   "source": [
    "new_forest.score(new_validation_x,new_validation_y)"
   ]
  },
  {
   "cell_type": "markdown",
   "metadata": {},
   "source": [
    "We see that the score with the default parameters is higher than the one of our previous vectorizer.\n",
    "Now we perform a grid search again to determine the best parameters for the random forest."
   ]
  },
  {
   "cell_type": "code",
   "execution_count": null,
   "metadata": {},
   "outputs": [],
   "source": [
    "depth_range = np.arange(400,600,50)\n",
    "nb_trees = np.arange(250,401,50)"
   ]
  },
  {
   "cell_type": "code",
   "execution_count": null,
   "metadata": {
    "scrolled": false
   },
   "outputs": [],
   "source": [
    "new_res = []\n",
    "for d in depth_range:\n",
    "    new_acc = []\n",
    "    print(\"Depth\",d)\n",
    "    print(\"\\t Nb of trees\")\n",
    "    for nb in nb_trees:\n",
    "        print(\"\\t \",nb)\n",
    "        new_forest = RandomForestClassifier(max_depth=d,n_estimators=nb)\n",
    "        new_forest.fit(new_train_x,new_train_y)\n",
    "        new_acc.append(new_forest.score(new_validation_x,new_validation_y))\n",
    "    new_res.append(new_acc)\n",
    "print(\"DONE\")"
   ]
  },
  {
   "cell_type": "code",
   "execution_count": null,
   "metadata": {},
   "outputs": [],
   "source": [
    "import pickle\n",
    "new_res = pickle.load(open(\"new-gridsearch-2.p\",\"rb\"))"
   ]
  },
  {
   "cell_type": "markdown",
   "metadata": {},
   "source": [
    "We did 2 successive gridsearches this time :\n",
    "![alt text](new_gridsearch.png \"Title\")"
   ]
  },
  {
   "cell_type": "code",
   "execution_count": null,
   "metadata": {},
   "outputs": [],
   "source": [
    "sns.heatmap(new_res,xticklabels=nb_trees,yticklabels=depth_range)\n",
    "plt.xlabel(\"Number of trees\")\n",
    "plt.ylabel(\"Maximum depth\") \n",
    "plt.title(\"Mean accuracy of random forest on the training set (with stopwords removed)\")\n",
    "plt.savefig(\"new_gridsearch_2\")\n",
    "plt.show()"
   ]
  },
  {
   "cell_type": "markdown",
   "metadata": {},
   "source": [
    "Let's compare their best accuracy :"
   ]
  },
  {
   "cell_type": "code",
   "execution_count": null,
   "metadata": {},
   "outputs": [],
   "source": [
    "#Maximum accuracy for the first vectorizer (without stopwords)\n",
    "np.amax(pickle.load(open(\"gridsearch5.p\",\"rb\")))"
   ]
  },
  {
   "cell_type": "code",
   "execution_count": null,
   "metadata": {},
   "outputs": [],
   "source": [
    "#Maximum accuracy for the first vectorizer (with stopwords)\n",
    "np.amax(pickle.load(open(\"new-gridsearch-2.p\",\"rb\")))"
   ]
  },
  {
   "cell_type": "markdown",
   "metadata": {},
   "source": [
    "Weirdly enough, without stopwords, the random forest needs higher parameters to perform slightly worse than the first version, with the stopwords.\n",
    "We conclude that our first version is good enough."
   ]
  }
 ],
 "metadata": {
  "kernelspec": {
   "display_name": "Python 3",
   "language": "python",
   "name": "python3"
  },
  "language_info": {
   "codemirror_mode": {
    "name": "ipython",
    "version": 3
   },
   "file_extension": ".py",
   "mimetype": "text/x-python",
   "name": "python",
   "nbconvert_exporter": "python",
   "pygments_lexer": "ipython3",
   "version": "3.6.3"
  }
 },
 "nbformat": 4,
 "nbformat_minor": 2
}
